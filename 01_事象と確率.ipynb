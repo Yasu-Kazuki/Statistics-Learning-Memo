{
 "cells": [
  {
   "attachments": {},
   "cell_type": "markdown",
   "metadata": {},
   "source": [
    "# 事象と確率について\n",
    "\n",
    "事象$A$の確率を$P(A)$もしくは$Pr(A)$とあらわす。  \n",
    "$A$の余事象とは「Aが起きない確率」のことをあらわす。  \n",
    "事象$A,B$に対して「$A,B$の両方が起きること」を$A,B$の積事象、「$A,B$の少なくとも一方が起きること」を$A,B$の和事象という。  \n",
    "$A,B$が背反でない場合には、$P(A \\cap B)=P(A)+P(B)-P(A \\cup B)$が成立する。これを**包除原理**という。"
   ]
  },
  {
   "attachments": {},
   "cell_type": "markdown",
   "metadata": {},
   "source": [
    "# 条件付き確率とベイズの定理について\n",
    "\n",
    "$A$が起きたという条件のもとで$B$が起きる条件付き確率$P(B|A)$を\n",
    "$$  \n",
    "P(B|A) = \\frac{P(A \\cap B)}{P(A)}\n",
    "$$\n",
    "と定義する。ただし$P(A)>0$とする。分母を払うと\n",
    "$$\n",
    "P(A \\cap B)=P(A) \\times P(B|A)\n",
    "$$\n",
    "と書けるが、これは$P(A \\cap B)$をまず$A$が起きる確率を考え、次に$A$が起きたもとで$B$がさらに起きる確率を掛ける、ということを意味する。  \n",
    "また、事象A,Bが**独立**であることを$P(A \\cap B) = P(A) \\times P(B)$が成立することと定義する。  "
   ]
  },
  {
   "attachments": {},
   "cell_type": "markdown",
   "metadata": {},
   "source": [
    "条件付き確率において$A$と$B$の順序を変えると、$P(A \\cap B)=P(B) \\times P(A|B)$と書けるが、これは以下の**ベイズの定理**に対応している。  \n",
    "$P(A) \\times P(B|A) = P(B) \\times P(A|B)$より\n",
    "$$\n",
    "P(A|B) = \\frac{P(B|A)P(A)}{P(B)} = \\frac{P(B|A)P(A)}{P(B|A)P(A) + P(B|A^c)P(A^c)}\n",
    "$$\n",
    "と書くことができる。また$P(A)$を$A$の**事前確率**、$P(A|B)$を**事後確率**という。"
   ]
  },
  {
   "attachments": {},
   "cell_type": "markdown",
   "metadata": {},
   "source": [
    "# 期待値と分散について\n",
    "\n",
    "サイコロの目や明日の気温などランダムに変動する変数を**確率変数**とよぶ。  \n",
    "確率変数を$X$、$X$の取りうる値を$x$とするとき、$X$が値$x$をとる確率$P(X=x)$を\n",
    "$$\n",
    "p(x) = P(X=x)\n",
    "$$\n",
    "と表し**確率関数**と呼ぶ。  \n",
    "$X$の**期待値**(あるいは平均値)$E[X]$は\n",
    "$$\n",
    "\\mu = E[X] = \\sum_{x} x p(x)\n",
    "$$\n",
    "で定義される。ただし右辺の和はとりうるすべての値$x$に関する和である。  \n",
    "$X$の関数$g(X)$の期待値は\n",
    "$$\n",
    "E[g(X)] = \\sum_{x} g(x) p(x)\n",
    "$$\n",
    "で定義される。特に$g(x) = (x - \\mu)^2$を偏差の2乗として、$X$の**分散**は\n",
    "$$\n",
    "\\sigma^2 = V[X] = E[(X - \\mu)^2] = \\sum_{x} (x - \\mu)^2 p(x)\n",
    "$$\n",
    "である。$(X-\\mu)^2 = X^2-2X\\mu+\\mu^2$と展開してから$p(x)$をかけて和をとれば\n",
    "$$\n",
    "V[X] = E[X^2] - \\mu^2\n",
    "$$\n",
    "が成り立つことがわかる。"
   ]
  },
  {
   "cell_type": "code",
   "execution_count": 1,
   "metadata": {},
   "outputs": [
    {
     "name": "stdout",
     "output_type": "stream",
     "text": [
      "期待値：3.5\n",
      "分散：2.917\n",
      "分散2：2.917\n"
     ]
    }
   ],
   "source": [
    "# 期待値と分散を計算\n",
    "import statistics\n",
    "\n",
    "x = [1,2,3,4,5,6] # 確率変数\n",
    "p_x = [1/6, 1/6, 1/6, 1/6, 1/6, 1/6] # 確率関数\n",
    "e_x =  0\n",
    "\n",
    "for i in range(len(x)):\n",
    "   e_x += x[i]*p_x[i]\n",
    "print(\"期待値：{}\".format(e_x))\n",
    "\n",
    "# 分散\n",
    "x_mean = statistics.mean(x)\n",
    "v_x = 0\n",
    "\n",
    "for i in range(len(x)):\n",
    "   v_x += ((x[i]-x_mean)**2)*p_x[i]\n",
    "print(\"分散：{:.3f}\".format(v_x))\n",
    "\n",
    "# 分散は以下の式でも求めることができる\n",
    "# V[x]=E[X**2]-E[X]**2\n",
    "e_x2 = 0\n",
    "for i in range(len(x)):\n",
    "   e_x2 += x[i]*x[i]*p_x[i]\n",
    "v_x = e_x2 - x_mean**2\n",
    "print(\"分散2：{:.3f}\".format(v_x))"
   ]
  },
  {
   "attachments": {},
   "cell_type": "markdown",
   "metadata": {},
   "source": [
    "分散と分散2出値が一致することが確認できる"
   ]
  }
 ],
 "metadata": {
  "kernelspec": {
   "display_name": "Python 3.8.8 ('base')",
   "language": "python",
   "name": "python3"
  },
  "language_info": {
   "codemirror_mode": {
    "name": "ipython",
    "version": 3
   },
   "file_extension": ".py",
   "mimetype": "text/x-python",
   "name": "python",
   "nbconvert_exporter": "python",
   "pygments_lexer": "ipython3",
   "version": "3.11.1"
  },
  "orig_nbformat": 4,
  "vscode": {
   "interpreter": {
    "hash": "7d28bff0bd80815fd32e014bdd91794edc49d99eeb8de38c8fa9a8cf519cb10b"
   }
  }
 },
 "nbformat": 4,
 "nbformat_minor": 2
}

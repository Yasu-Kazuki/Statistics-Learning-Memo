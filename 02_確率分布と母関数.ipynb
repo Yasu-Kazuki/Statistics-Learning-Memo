{
 "cells": [
  {
   "cell_type": "code",
   "execution_count": 6,
   "metadata": {},
   "outputs": [
    {
     "data": {
      "image/png": "[encoded data removed]",
      "text/plain": [
       "<Figure size 432x288 with 1 Axes>"
      ]
     },
     "metadata": {
      "needs_background": "light"
     },
     "output_type": "display_data"
    }
   ],
   "source": [
    "# 累積分布関数と生存関数\n",
    "\n",
    "# 累積分布関数はF(x)=P(X<=x)とあらわされる\n",
    "# つまり、確率変数Xが取る値x以下の値を取る確率のこと\n",
    "import numpy as np\n",
    "import matplotlib.pyplot as plt\n",
    "from scipy.stats import norm\n",
    "\n",
    "x = np.arange(100, 200)\n",
    "\n",
    "# 平均200，標準偏差10の正規分布の累積分布関数\n",
    "y = norm.cdf(x, loc=200, scale=10)\n",
    "plt.plot(x, y)\n",
    "plt.xlabel(\"value\")\n",
    "plt.ylabel(\"probability\")\n",
    "plt.show() # P(X<=200)は0.5くらい？"
   ]
  },
  {
   "cell_type": "code",
   "execution_count": 8,
   "metadata": {},
   "outputs": [],
   "source": [
    "# 確率変数Xが寿命をあらわす場合には、S(x)=1-F(x)は時刻xにまだ生きている確率をあらわす\n",
    "# この時のS(x)を生存関数と呼ぶ\n",
    "# また、寿命Xが連続確率変数として、h(x)=f(x)/(1-F(x))をハザード関数と呼ぶ\n",
    "# ハザード関数は時刻Xにおいて生存している者のうち、その後短時間に死亡する者の率に対応する\n",
    "# 詳細は「19_回帰分析その他.ipynb」を参照のこと"
   ]
  },
  {
   "cell_type": "code",
   "execution_count": 9,
   "metadata": {},
   "outputs": [],
   "source": [
    "# 同時確率密度関数\n",
    "\n",
    "# X, Yを二つの離散確率変数とするとき、「Xが値xをとり、Yが値yをとる確率」を\n",
    "# p(x,y)=P(X=x, Y=y)とあらわし、同時確率変数と呼ぶ\n",
    "# 同時確率関数からXのみの確率関数px(x)を得るには、yについての和をとればよい\n",
    "# このとき、Xの分布を周辺分布とよび、px(x)を周辺確率関数とよぶ\n",
    "\n",
    "# X, Yを二つの連続確率変数のとき、F(x, y)=P(X<=x, Y<=y)を累積分布関数とする\n",
    "# この時、X, Yの同時確率密度関数f(x, y)は、f(x, y)=Δ**2/(Δx*Δy)*F(x, y)と定義される\n",
    "# Xの周辺確率密度関数は、f(x, y)のyに関する積分で与えられる"
   ]
  },
  {
   "cell_type": "code",
   "execution_count": 15,
   "metadata": {},
   "outputs": [
    {
     "name": "stdout",
     "output_type": "stream",
     "text": [
      "E[X]:0.0\n",
      "V[X]:1.0061987130476884\n"
     ]
    }
   ],
   "source": [
    "# 母関数\n",
    "\n",
    "# 確率関数や確率密度関数の性質を調べるためにモーメント母関数(積率母関数)や確率母関数が用いられる\n",
    "# 確率変数Xに対して、m(Θ)=E[e**ΘX]で定義される\n",
    "# これをn回微分したものにΘ=0を代入すると、確率変数Xをn乗したものの期待値になる\n",
    "# この時の期待値はXのn次モーメントとよばれる\n",
    "# 1次モーメント：E[X], 2次モーメント：E[X**2], …, n次モーメント：E[x**n]となる\n",
    "\n",
    "from scipy.stats import norm\n",
    "from scipy.stats import moment\n",
    "\n",
    "# 標準正規分布から乱数を生成する(μ=0, σ=1.0)\n",
    "vals = norm.rvs(size=100000)\n",
    "E_x = moment(vals, moment=1)\n",
    "print(\"E[X]:{}\".format(E_x)) # μ=0と一致\n",
    "\n",
    "E_x2 = moment(vals, moment=2)\n",
    "V_x = E_x2 - E_x**2 # 分散を求める公式\n",
    "print(\"V[X]:{}\".format(V_x)) # σ=1.0とおおむね一致\n"
   ]
  }
 ],
 "metadata": {
  "kernelspec": {
   "display_name": "Python 3.9.2 64-bit",
   "language": "python",
   "name": "python3"
  },
  "language_info": {
   "codemirror_mode": {
    "name": "ipython",
    "version": 3
   },
   "file_extension": ".py",
   "mimetype": "text/x-python",
   "name": "python",
   "nbconvert_exporter": "python",
   "pygments_lexer": "ipython3",
   "version": "3.9.2"
  },
  "orig_nbformat": 4,
  "vscode": {
   "interpreter": {
    "hash": "726ef1321fcd34e1bfe5e95996892c07db726849efbcd4abbb89e2457d1bbe6b"
   }
  }
 },
 "nbformat": 4,
 "nbformat_minor": 2
}

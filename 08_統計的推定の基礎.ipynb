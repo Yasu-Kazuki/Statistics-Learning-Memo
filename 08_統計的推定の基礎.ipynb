{
 "cells": [
  {
   "attachments": {},
   "cell_type": "markdown",
   "metadata": {},
   "source": [
    "# 統計量\n",
    "\n",
    "標本の観測値をもとに、確率分布の未知のパラメータを推測することを**統計的推定**という。  \n",
    "特に、標本のある関数を用いてパラメータを推定することを**点推定**という。  \n",
    "また、関数の出力を**推定量**とよび、観測値を代入した結果を**推定値**とよぶ。  \n",
    "また、未知のパラメータの値によらない標本のみの関数を**統計量**という。"
   ]
  },
  {
   "cell_type": "code",
   "execution_count": 1,
   "metadata": {},
   "outputs": [
    {
     "data": {
      "text/html": [
       "<div>\n",
       "<style scoped>\n",
       "    .dataframe tbody tr th:only-of-type {\n",
       "        vertical-align: middle;\n",
       "    }\n",
       "\n",
       "    .dataframe tbody tr th {\n",
       "        vertical-align: top;\n",
       "    }\n",
       "\n",
       "    .dataframe thead th {\n",
       "        text-align: right;\n",
       "    }\n",
       "</style>\n",
       "<table border=\"1\" class=\"dataframe\">\n",
       "  <thead>\n",
       "    <tr style=\"text-align: right;\">\n",
       "      <th></th>\n",
       "      <th>sepal length (cm)</th>\n",
       "      <th>sepal width (cm)</th>\n",
       "      <th>petal length (cm)</th>\n",
       "      <th>petal width (cm)</th>\n",
       "    </tr>\n",
       "  </thead>\n",
       "  <tbody>\n",
       "    <tr>\n",
       "      <th>count</th>\n",
       "      <td>150.000000</td>\n",
       "      <td>150.000000</td>\n",
       "      <td>150.000000</td>\n",
       "      <td>150.000000</td>\n",
       "    </tr>\n",
       "    <tr>\n",
       "      <th>mean</th>\n",
       "      <td>5.843333</td>\n",
       "      <td>3.057333</td>\n",
       "      <td>3.758000</td>\n",
       "      <td>1.199333</td>\n",
       "    </tr>\n",
       "    <tr>\n",
       "      <th>std</th>\n",
       "      <td>0.828066</td>\n",
       "      <td>0.435866</td>\n",
       "      <td>1.765298</td>\n",
       "      <td>0.762238</td>\n",
       "    </tr>\n",
       "    <tr>\n",
       "      <th>min</th>\n",
       "      <td>4.300000</td>\n",
       "      <td>2.000000</td>\n",
       "      <td>1.000000</td>\n",
       "      <td>0.100000</td>\n",
       "    </tr>\n",
       "    <tr>\n",
       "      <th>25%</th>\n",
       "      <td>5.100000</td>\n",
       "      <td>2.800000</td>\n",
       "      <td>1.600000</td>\n",
       "      <td>0.300000</td>\n",
       "    </tr>\n",
       "    <tr>\n",
       "      <th>50%</th>\n",
       "      <td>5.800000</td>\n",
       "      <td>3.000000</td>\n",
       "      <td>4.350000</td>\n",
       "      <td>1.300000</td>\n",
       "    </tr>\n",
       "    <tr>\n",
       "      <th>75%</th>\n",
       "      <td>6.400000</td>\n",
       "      <td>3.300000</td>\n",
       "      <td>5.100000</td>\n",
       "      <td>1.800000</td>\n",
       "    </tr>\n",
       "    <tr>\n",
       "      <th>max</th>\n",
       "      <td>7.900000</td>\n",
       "      <td>4.400000</td>\n",
       "      <td>6.900000</td>\n",
       "      <td>2.500000</td>\n",
       "    </tr>\n",
       "  </tbody>\n",
       "</table>\n",
       "</div>"
      ],
      "text/plain": [
       "       sepal length (cm)  sepal width (cm)  petal length (cm)  \\\n",
       "count         150.000000        150.000000         150.000000   \n",
       "mean            5.843333          3.057333           3.758000   \n",
       "std             0.828066          0.435866           1.765298   \n",
       "min             4.300000          2.000000           1.000000   \n",
       "25%             5.100000          2.800000           1.600000   \n",
       "50%             5.800000          3.000000           4.350000   \n",
       "75%             6.400000          3.300000           5.100000   \n",
       "max             7.900000          4.400000           6.900000   \n",
       "\n",
       "       petal width (cm)  \n",
       "count        150.000000  \n",
       "mean           1.199333  \n",
       "std            0.762238  \n",
       "min            0.100000  \n",
       "25%            0.300000  \n",
       "50%            1.300000  \n",
       "75%            1.800000  \n",
       "max            2.500000  "
      ]
     },
     "execution_count": 1,
     "metadata": {},
     "output_type": "execute_result"
    }
   ],
   "source": [
    "# pandasのdescribeを使うと基本統計量の一覧表が取得できる\n",
    "import pandas as pd\n",
    "from sklearn.datasets import load_iris\n",
    "\n",
    "iris = load_iris()\n",
    "iris_df = pd.DataFrame(\n",
    "        iris.data,\n",
    "        columns=iris.feature_names,\n",
    "    )\n",
    "iris_df.describe()"
   ]
  },
  {
   "attachments": {},
   "cell_type": "markdown",
   "metadata": {},
   "source": [
    "# 各種推定法\n",
    "\n",
    "標準的なパラメータの点推定法として**最尤法**があげられる。  \n",
    "**尤度関数**とそれから算出される**尤度**を最大化するパラメータを推定量として用いる。  \n",
    "このときの推定量を**最尤推定量**とよぶ。  \n",
    "尤度は対数をとると計算しやすくなることが多く、対数をとった尤度を**対数尤度**とよぶ。  \n",
    "なお、尤度は得られた標本が確率分布によってどれだけ生成されやすいかの指標と解釈できる"
   ]
  },
  {
   "cell_type": "code",
   "execution_count": 2,
   "metadata": {},
   "outputs": [
    {
     "name": "stdout",
     "output_type": "stream",
     "text": [
      "推定パラメータ:(-0.014556635615470447, 0.9379577571961389)\n"
     ]
    },
    {
     "data": {
      "image/png": "[encoded data removed]",
      "text/plain": [
       "<Figure size 640x480 with 1 Axes>"
      ]
     },
     "metadata": {},
     "output_type": "display_data"
    }
   ],
   "source": [
    "# 尤度関数と対数尤度関数の関係を描画\n",
    "import numpy as np\n",
    "import matplotlib.pyplot as plt\n",
    "from scipy.stats import norm\n",
    "\n",
    "np.random.seed(seed=10)\n",
    "norm_values = np.random.normal(0, 1, size=1000) # N(0,1)に従う乱数を生成\n",
    "fit_parameter = norm.fit(norm_values)\n",
    "print(f\"推定パラメータ:{fit_parameter}\") # N(0,1)に近いパラメータ\n",
    "\n",
    "x = np.linspace(0.01, 1, 100)\n",
    "y = np.log(x)\n",
    "plt.plot(x, y)\n",
    "\n",
    "plt.grid()\n",
    "plt.title(\"Likelihood and log-likelihood function\")\n",
    "plt.xlabel(r\"$L(\\mathbf{\\theta};\\mathbf{x})$\")\n",
    "plt.ylabel(r\"$\\log L(\\mathbf{\\theta};\\mathbf{x})$\")\n",
    "\n",
    "plt.show()"
   ]
  },
  {
   "attachments": {},
   "cell_type": "markdown",
   "metadata": {},
   "source": [
    "最尤法は尤度の最大化計算が困難であることが多く、そういった場合は**モーメント法**も用いられる。  \n",
    "また、真のパラメータと推定量パラメータの差異を直接的に評価する標準的な指標として**平均二乗誤差**(**MSE**)がある。"
   ]
  },
  {
   "attachments": {},
   "cell_type": "markdown",
   "metadata": {},
   "source": [
    "# 点推定の性質\n",
    "\n",
    "真のパラメータ値$\\theta$がどのような性質であったとしても、$E_{\\theta}[\\hat{\\theta}]=\\theta$となるような推定量$\\hat{\\theta}$を**不偏推定量**とよぶ。  \n",
    "$b_{\\theta}(\\hat{\\theta}) := E_{\\theta}[\\hat{\\theta}]-\\theta$を推定量$\\hat{\\theta}$の**バイアス**とよぶので、不偏推定量は常にバイアスが$\\theta$の推定量といえる。  \n",
    "一方で、平均二乗誤差$E_{\\theta}[(\\hat{\\theta}-\\theta)^2]$は、一般の確率変数に対して$E[X^2]=E[X]^2+V[X]$が成立することから、以下のようなバイアスの二乗の項とバリアンス(分散)の項にわけることができる。\n",
    "$$\n",
    "E_{\\theta}[(\\hat{\\theta}-\\theta)^2] = (E_{\\theta}[\\hat{\\theta}]-\\theta)^2 + V_{\\theta}[\\hat{\\theta}] = (b_{\\theta}(\\hat{\\theta}))^2 + V_{\\theta}[\\hat{\\theta}]\n",
    "$$\n",
    "これを平均二乗誤差の**バイアス・バリアンス分解**とよぶ。"
   ]
  },
  {
   "cell_type": "code",
   "execution_count": 3,
   "metadata": {},
   "outputs": [
    {
     "name": "stdout",
     "output_type": "stream",
     "text": [
      "左辺の値:0.990, 右辺の値:0.990\n"
     ]
    }
   ],
   "source": [
    "# バイアス・バリアンス分解を確認\n",
    "from sklearn.metrics import mean_squared_error\n",
    "\n",
    "norm_values = np.random.normal(0, 1, size=1000) # 標準正規分布に従う乱数を生成\n",
    "e_theta = 0\n",
    "e_theta_hat = np.mean(norm_values)\n",
    "v_theta_hat = np.var(norm_values)\n",
    "\n",
    "bias = e_theta_hat - e_theta\n",
    "\n",
    "e_theta_vals = np.zeros(1000, int)\n",
    "mse_val = mean_squared_error(e_theta_vals, norm_values)\n",
    "\n",
    "right_val = bias**2 + v_theta_hat\n",
    "print(f\"左辺の値:{mse_val:.3f}, 右辺の値:{right_val:.3f}\")"
   ]
  },
  {
   "attachments": {},
   "cell_type": "markdown",
   "metadata": {},
   "source": [
    "値が一致することが確認できた。"
   ]
  },
  {
   "attachments": {},
   "cell_type": "markdown",
   "metadata": {},
   "source": [
    "線形回帰モデルに関して未知の線形パラメータを推定する場合の推定量を線形推定量とよぶ。  \n",
    "そして、任意の不偏かつ線形推定量の中では分散が最小になるということができる。(**ガウス・マルコフの定理**)  \n",
    "このときの推定量は、不偏推定量の中で一様最小分散であるため、**最良線形不偏推定量**(**BLUE**)**ともよばれる。"
   ]
  },
  {
   "attachments": {},
   "cell_type": "markdown",
   "metadata": {},
   "source": [
    "**クラーメル・ラオの不等式**を用いると、一様最小分散不偏推定量であるかどうかの判定ができることがある。  \n",
    "式は以下であらわされる。\n",
    "$$\n",
    "V_{\\theta}[\\hat{\\theta}] \\geq J_n(\\theta)^{-1}\n",
    "$$\n",
    "これは、不偏推定量$\\hat{\\theta}をどのように選んでも、その分散をフィッシャー情報量の逆数より小さくできないことを意味している。  \n",
    "上記の等号を満たすような不偏推定量を**有効推定量**という。  \n",
    "なお、フィッシャー情報量は**推定量**の良し悪しの指標であり、分散が小さい不偏推定量を良しとする。"
   ]
  },
  {
   "attachments": {},
   "cell_type": "markdown",
   "metadata": {},
   "source": [
    "最尤法に必要な標本の情報を集約するためには、**十分統計量**が有効である。  \n",
    "パラメータ$\\theta$を持つ分布から得られた標本$X_1,X_\",...,X_n$をまとめて$X$と書くとき、以下の式を満たす統計量$T=T(X)$を$\\theta$の十分統計量とよぶ。\n",
    "$$\n",
    "P(X=x|T(X)=t,\\theta) = P(X=x|T(X)=t)\n",
    "$$\n",
    "要するに、$T(X)$で条件づけた$X$の分布がパラメータ$\\theta$によらないことが十分統計量の定義である。"
   ]
  },
  {
   "attachments": {},
   "cell_type": "markdown",
   "metadata": {},
   "source": [
    "# 漸近的な性質\n",
    "\n",
    "標本サイズが十分に大きいときの推定の妥当性を評価するための理論を漸近論という。\n",
    "確率分布$F_{\\theta}$に独立同一に従う標本をもとに得られる推定量$\\hat{\\theta}$について、真のパラメータ$\\theta$に確率収束するとき、つまり、任意の$\\varepsilon>0$に対して\n",
    "$$\n",
    "\\lim_{n \\rightarrow \\infty} P(|\\hat{\\theta}-\\theta|<\\varepsilon)=1\n",
    "$$\n",
    "が成立するとき、その推定量が**一致性**をもつという"
   ]
  },
  {
   "cell_type": "code",
   "execution_count": 4,
   "metadata": {},
   "outputs": [
    {
     "data": {
      "image/png": "[encoded data removed]",
      "text/plain": [
       "<Figure size 640x480 with 1 Axes>"
      ]
     },
     "metadata": {},
     "output_type": "display_data"
    }
   ],
   "source": [
    "# 母平均の値に収束していく様子を描画\n",
    "sepal_length_array = np.array(iris_df['sepal length (cm)'])\n",
    " \n",
    "mu = np.mean(sepal_length_array) # 母集団の平均値\n",
    " \n",
    "# 標本の数を増やしながら平均を算出\n",
    "start = 10\n",
    "end = len(sepal_length_array)\n",
    "X = np.arange(start, end, 5)\n",
    "Y = []\n",
    " \n",
    "for n in range(start, end, 5):\n",
    "    sample = np.random.choice(sepal_length_array, n, replace=False)\n",
    "    x_bar = np.mean(sample)\n",
    "    Y.append(x_bar)\n",
    " \n",
    "# 母平均をプロット\n",
    "fig = plt.figure()\n",
    "ax = fig.add_subplot(1, 1, 1)\n",
    "ax.hlines(mu, start, end, \"black\", linestyles='dashed')\n",
    " \n",
    "# 標本平均をプロット\n",
    "ax.plot(X, Y, color='blue')\n",
    "plt.show()"
   ]
  },
  {
   "attachments": {},
   "cell_type": "markdown",
   "metadata": {},
   "source": [
    "# リサンプリング法\n",
    "\n",
    "推定量が不偏ではなくバイアスがある場合、得られている標本を再利用して推定量のバイアスを補正する方法が**ジャックナイフ法**である。  \n",
    "ジャックナイフ法のように、得られている標本からの部分標本を用いることにより推定精度を向上させる手法を**リサンプリング法**という。"
   ]
  },
  {
   "cell_type": "code",
   "execution_count": 5,
   "metadata": {},
   "outputs": [
    {
     "name": "stdout",
     "output_type": "stream",
     "text": [
      "total: 120  / vars: 4\n",
      "bin size: 1  / num. of bins: 120\n",
      "ジャックナイフ推定量:[5.6525     3.06916667 3.32666667 0.99583333]\n",
      "ジャックナイフ誤差:[0.07036283 0.04271585 0.1556397  0.06453232]\n",
      "元の期待値:[5.84333333 3.05733333 3.758      1.19933333]\n"
     ]
    }
   ],
   "source": [
    "# ジャックナイフ法をでリサンプリングを実行\n",
    "def JackKnife( input_data , func = lambda arg:arg , bin_size = 1 ):\n",
    "\n",
    "    Ntot , Nvar = input_data.shape\n",
    "    N = bin_size\n",
    "    Nbin = int( Ntot / bin_size ) # ビンサイズの指定\n",
    "\n",
    "    print( \"total:\" , Ntot , \" / vars:\" , Nvar )\n",
    "    print( \"bin size:\" , N , \" / num. of bins:\" , Nbin )\n",
    "    if( Ntot != Nbin * N ):\n",
    "        print( \"Ntot != Nbin * bin_size. Some data will not be used!\" )\n",
    "    Ntot = Nbin * N\n",
    "        \n",
    "    sum_all = np.sum( input_data[:Ntot] , axis=0 )\n",
    "    # 各ジャックナイフサンプルで計算\n",
    "    bin_ans = [ func( ( sum_all-np.sum( input_data[c*N:(c+1)*N] , axis=0 ) )/( Ntot-N ) ) for c in range(Nbin) ]\n",
    "    # 期待値を計算\n",
    "    ave = np.mean( bin_ans , axis=0 )\n",
    "    # 誤差を計算\n",
    "    err = np.sqrt( np.mean( np.square(bin_ans-ave) , axis=0 ) * (Nbin-1.) )\n",
    "    return ave , err\n",
    "\n",
    "input_data = iris_df.iloc[0:120,:].to_numpy() # 120行目までのデータを使用\n",
    "\n",
    "average , error = JackKnife(input_data)\n",
    "print(f\"ジャックナイフ推定量:{average}\")\n",
    "print(f\"ジャックナイフ誤差:{error}\")\n",
    "\n",
    "print(f\"元の期待値:{iris_df.describe().loc['mean'].to_numpy()}\")"
   ]
  }
 ],
 "metadata": {
  "kernelspec": {
   "display_name": "Python 3.9.2 64-bit",
   "language": "python",
   "name": "python3"
  },
  "language_info": {
   "codemirror_mode": {
    "name": "ipython",
    "version": 3
   },
   "file_extension": ".py",
   "mimetype": "text/x-python",
   "name": "python",
   "nbconvert_exporter": "python",
   "pygments_lexer": "ipython3",
   "version": "3.11.1"
  },
  "orig_nbformat": 4,
  "vscode": {
   "interpreter": {
    "hash": "726ef1321fcd34e1bfe5e95996892c07db726849efbcd4abbb89e2457d1bbe6b"
   }
  }
 },
 "nbformat": 4,
 "nbformat_minor": 2
}

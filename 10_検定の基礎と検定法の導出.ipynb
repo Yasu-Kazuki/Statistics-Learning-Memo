{
 "cells": [
  {
   "cell_type": "code",
   "execution_count": 1,
   "metadata": {},
   "outputs": [],
   "source": [
    "# 統計的仮説検定の考え方\n",
    "\n",
    "# 「統計的仮説検定」はデータを用いて、数学的背理法と類似した方法により、仮説を検証する方法である\n",
    "# たとえば、ある母集団の平均がある値と異なることを示したい場合は、以下のように考える\n",
    "# (1)「母平均はある値と異なる」という命題Aを証明したい\n",
    "# (2)命題Aを否定し「母平均はある値と等しい」と仮定する\n",
    "# (3)(2)の仮定をもとにデータをとり、標本平均を求める。\n",
    "# この標本平均が(2)の仮定のもとでは極めて稀にしか得られないほどずれているということを観察する\n",
    "# (4)命題Aの否定はおかしいと判断する\n",
    "# (5)命題Aは正しいと判断する\n",
    "# ※確率的事象に基づいた判断であるため、当然ながら誤りが生じることがある点に注意"
   ]
  },
  {
   "cell_type": "code",
   "execution_count": 4,
   "metadata": {},
   "outputs": [],
   "source": [
    "# 検定法の導出\n",
    "\n",
    "# 母平均μがμ0でないことを検証する統計的仮説検定を考える\n",
    "# このとき「母平均μがμ0ではない」という検証した仮説を「対立仮説」H1\n",
    "# それを否定した「母平均μがμ0である」という仮説を「帰無仮説」H0とよび以下のように記述する\n",
    "# 帰無仮説H0:μ=μ0 vs 対立仮説H1:μ≠μ0\n",
    "# その後「統計検定量」を求め、「有意水準」をもとに、H0の「棄却」(=有意である)\n",
    "# または、H0の「受容」(=有意でない)を判断する\n",
    "# 帰無仮説が棄却される領域は「棄却域」で、受容される両機は「受容域」と呼ばれる\n",
    "# これらの臨界点は「棄却限界値」あるいは「臨海地」とよばれる"
   ]
  },
  {
   "cell_type": "code",
   "execution_count": 44,
   "metadata": {},
   "outputs": [
    {
     "name": "stdout",
     "output_type": "stream",
     "text": [
      "0.002044379229814486\n"
     ]
    },
    {
     "data": {
      "image/png": "[encoded data removed]",
      "text/plain": [
       "<Figure size 432x288 with 1 Axes>"
      ]
     },
     "metadata": {
      "needs_background": "light"
     },
     "output_type": "display_data"
    }
   ],
   "source": [
    "# P-値\n",
    "\n",
    "# P-値とは、帰無仮説H0のもとで、現在観察されたデータが同じか、\n",
    "# より稀にしか起こらないようなデータが観察される確率である\n",
    "\n",
    "import math\n",
    "\n",
    "import numpy as np\n",
    "import matplotlib.pyplot as plt\n",
    "import statistics as stat\n",
    "from scipy.stats import norm\n",
    "\n",
    "myu = 0\n",
    "\n",
    "sample_size = 50\n",
    "norm_sample = norm.rvs(loc=1, scale=2, size=sample_size)\n",
    "sample_mean = norm_sample.mean()\n",
    "sample_var = stat.variance(norm_sample)\n",
    "\n",
    "z_val = (sample_mean-myu)/math.sqrt(sample_var/sample_size)\n",
    "\n",
    "z_cdf = norm.cdf(x=z_val, loc=0, scale=1)\n",
    "p_val = 1 - z_cdf\n",
    "print(p_val)\n",
    "fig, ax = plt.subplots(1)\n",
    "X = np.arange(-7,7,0.1)\n",
    "Y = norm.pdf(X, 0, 1)\n",
    "ax.plot(X, Y)\n",
    "ax.plot(z_val, norm.pdf(z_val), '*', color='r', markersize=10)\n",
    "plt.title(f\"P-val(★):{p_val:.8f}\")\n",
    "plt.show()"
   ]
  },
  {
   "cell_type": "code",
   "execution_count": 45,
   "metadata": {},
   "outputs": [],
   "source": [
    "# 検定の過誤\n",
    "\n",
    "# 帰無仮説H0が真に正しいとしても、有意と判定されることがある。\n",
    "# この誤りを「第一種の過誤」とよぶ。有意水準αにより制御される\n",
    "# 一方で対立仮説H1が真に正しいとしても、有意と判定されないこともある。\n",
    "# この誤りを「第二種の過誤」とよび、その確率はβであらわす\n",
    "# 対立仮説を正しく有意と判定する確率は1-βであり、この確率は「検出力」とよばれる"
   ]
  },
  {
   "cell_type": "markdown",
   "metadata": {},
   "source": [
    "|  | H0が真 | H0が偽 |\n",
    "| :---: | :---: | :---: |\n",
    "| H0を棄却しない | 1-α | β |\n",
    "| H0を棄却する | α | 1-β(検出力) |"
   ]
  },
  {
   "cell_type": "code",
   "execution_count": 56,
   "metadata": {},
   "outputs": [
    {
     "name": "stdout",
     "output_type": "stream",
     "text": [
      "検出力0.8に必要なサンプルサイズ：9.183\n"
     ]
    }
   ],
   "source": [
    "# サンプルサイズの設計\n",
    "\n",
    "# βの値はサンプルサイズが大きくなるに応じて減少するため、検出力も高くなる\n",
    "# 対立仮説における統計検定量の期待値は、①H0における棄却限界値と②H1におけるβに対応する正規分位点を足したものになる\n",
    "# そのため、サンプルサイズnを求めるための等式は以下になる\n",
    "# ①+②=E[統計検定量]=(μ1-μ0)/√σ**2/n となる\n",
    "# 上記をnについて解くと\n",
    "# n = (①+②)**2/((μ1-μ0)/σ)**2\n",
    "\n",
    "myu0 = 0\n",
    "std0 = 1\n",
    "\n",
    "myu1 = 2\n",
    "std1 = 2\n",
    "sample_size = 50\n",
    "norm_sample = norm.rvs(loc=myu1, scale=std1, size=sample_size)\n",
    "sample_mean = norm_sample.mean()\n",
    "sample_var = stat.variance(norm_sample)\n",
    "\n",
    "beta_val = 0.2\n",
    "h0_critical_val = norm.ppf(q=0.975, loc=myu0, scale=std0)\n",
    "h1_normal_quantile = norm.ppf(q=beta_val, loc=myu0, scale=std0)\n",
    "\n",
    "n_result = pow(abs(h0_critical_val)+abs(h1_normal_quantile), 2)\\\n",
    "    /pow((myu1-myu0)/math.sqrt(sample_var), 2)\n",
    "print(f\"検出力{1-beta_val}に必要なサンプルサイズ：{n_result:.3f}\")"
   ]
  },
  {
   "cell_type": "code",
   "execution_count": 57,
   "metadata": {},
   "outputs": [],
   "source": [
    "# 抜取検査\n",
    "\n",
    "# 「抜取検査」とは、日本産業企画(JIS)において\n",
    "# 「検査ロットから、あらかじめ定められた抜取検査方式に従って、\n",
    "# サンプルを抜き取って試験し、その結果をロットの判定基準と比較して、\n",
    "# そのロットの合格・不合格を判定する検査」と定義されている\n",
    "# 本来は合格である検査ロットが不合格と判定される確率FPは「生産者危険」、\n",
    "# 本来は不合格品である検査ロットが合格と判定される確率FNは「消費者危険」とよばれる\n",
    "# なお、不良個数は二項分布(B(n, p(不良率)))に従う"
   ]
  }
 ],
 "metadata": {
  "kernelspec": {
   "display_name": "Python 3.9.2 64-bit",
   "language": "python",
   "name": "python3"
  },
  "language_info": {
   "codemirror_mode": {
    "name": "ipython",
    "version": 3
   },
   "file_extension": ".py",
   "mimetype": "text/x-python",
   "name": "python",
   "nbconvert_exporter": "python",
   "pygments_lexer": "ipython3",
   "version": "3.9.2"
  },
  "orig_nbformat": 4,
  "vscode": {
   "interpreter": {
    "hash": "726ef1321fcd34e1bfe5e95996892c07db726849efbcd4abbb89e2457d1bbe6b"
   }
  }
 },
 "nbformat": 4,
 "nbformat_minor": 2
}

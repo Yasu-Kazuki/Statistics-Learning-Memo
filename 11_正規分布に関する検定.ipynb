{
 "cells": [
  {
   "attachments": {},
   "cell_type": "markdown",
   "metadata": {},
   "source": [
    "# 1標本の平均の検定(分散が既知の場合)\n",
    "\n",
    "確率変数$X_1,...X_n$が互いに独立に平均$\\mu$、分散$\\sigma^2$に従うとする。  \n",
    "実際には想定しにくいが、分散$\\sigma^2$既知とする。  \n",
    "帰無仮説$H_0:\\mu=\\mu_0$に対して、次の3通りの対立仮説$H_1$を考える。  \n",
    "(1)$H_1:\\mu>\\mu_0$(片側対立仮説、右側対立仮説)  \n",
    "(2)$H_1:\\mu<\\mu_0$(片側対立仮説、左側対立仮説)  \n",
    "(3)$H_1:\\mu \\neq \\mu_0$(両側対立仮説)  \n",
    "検定の有意水準は、(1)(2)の元では$\\alpha/2$、(3)では$\\alpha$とする。  \n",
    "帰無仮説$H_0$のもとで、標本平均$\\bar{X} = \\sum_{i=1}^{n} X_i$は平均$\\mu_0$、分散$\\frac{\\sigma^2}{n}$の正規分布に従う。  \n",
    "これにより、統計検定量$Z = \\frac{\\bar{X}-\\mu_0}{\\sigma/\\sqrt{n}}$は標準正規分布に従う。  \n",
    "各対立仮説に応じて、次の条件のもとで帰無仮説$H_0$を棄却する。  \n",
    "(1)「$H_1:\\mu>\\mu_0$」: $Z \\geq z_{\\alpha/2}$  \n",
    "(2)「$H_1:\\mu<\\mu_0$」: $Z \\leq -z_{\\alpha/2}$   \n",
    "(3)「$H_1:\\mu \\neq \\mu_0$」: $|Z| \\geq z_{\\alpha/2}$  \n",
    "なお$z_{\\alpha/2}$は標準正規分布の上側$100 \\alpha/2%$点である。"
   ]
  },
  {
   "cell_type": "code",
   "execution_count": 2,
   "metadata": {},
   "outputs": [
    {
     "name": "stdout",
     "output_type": "stream",
     "text": [
      "統計量Z:6.199\n",
      "棄却限界値:1.960\n",
      "H0を棄却しH1を採択する\n"
     ]
    }
   ],
   "source": [
    "# サンプルデータで信頼度95%で両側検定を実行\n",
    "import numpy as np\n",
    "from scipy import stats\n",
    "\n",
    "pop_mean = 3.0 # 母平均\n",
    "pop_sigma2 = 2.0 # 母分散\n",
    "\n",
    "sample_size = 50\n",
    "rng = np.random.default_rng()\n",
    "sample_data = rng.normal(4, 3, size=sample_size)\n",
    "\n",
    "x_bar = sample_data.mean()\n",
    "\n",
    "z_val = (x_bar-pop_mean)/np.sqrt(pop_sigma2/sample_size)\n",
    "print(f\"統計量Z:{z_val:.3f}\")\n",
    "\n",
    "alpha = 0.05\n",
    "critical_val = abs(stats.norm.ppf(alpha/2))\n",
    "print(f\"棄却限界値:{critical_val:.3f}\")\n",
    "if(-critical_val<=z_val and critical_val>=z_val):\n",
    "    print(\"H0を棄却しない\")\n",
    "else:\n",
    "    print(\"H0を棄却しH1を採択する\")"
   ]
  },
  {
   "attachments": {},
   "cell_type": "markdown",
   "metadata": {},
   "source": [
    "# 1標本の平均の検定(分散が未知の場合)\n",
    "\n",
    "分散$\\sigma^2$が未知のとき、標本分散$s^2 = \\frac{1}{n-1} \\sum_{i=1}^{n} (X_i - \\bar{X})^2$(分散の不偏推定量)で$\\sigma^2$を推定する。  \n",
    "標本平均と$s^2$は互いに独立であるから、帰無仮説$H_0:\\mu=\\mu_0$のもとで、統計検定量$T = \\frac{\\bar{X}-\\mu_0}{s/\\sqrt{n}}$は自由度$n-1$の$t$分布に従う。  \n",
    "各対立仮説に応じて、次の条件のもとで帰無仮説$H_0$を棄却する。  \n",
    "(1)「$H_1:\\mu>\\mu_0$」: $T \\geq t_{\\alpha/2}(n-1)$  \n",
    "(2)「$H_1:\\mu<\\mu_0$」: $T \\leq -t_{\\alpha/2}(n-1)$  \n",
    "(3)「$H_1:\\mu \\neq \\mu_0$」: $|T| \\geq t_{\\alpha/2}(n-1)$  \n",
    "なお$t_{\\alpha/2}(n-1)$は自由度$n-1$の$t$分布の上側$100 \\alpha /2%$点である。  \n",
    "検定統計量$T$が$t$分布に従うことから、この検定は**t検定**と呼ばれる。"
   ]
  },
  {
   "cell_type": "code",
   "execution_count": 3,
   "metadata": {},
   "outputs": [
    {
     "name": "stdout",
     "output_type": "stream",
     "text": [
      "統計量T:2.811\n",
      "棄却限界値:2.010\n",
      "H0を棄却しH1を採択する\n",
      "ttest_1sampの実行結果:TtestResult(statistic=2.81077173819625, pvalue=0.007085252565409688, df=49)\n"
     ]
    }
   ],
   "source": [
    "# サンプルデータで信頼度95%で両側検定を実行\n",
    "pop_mean = 2.0 # 母平均\n",
    "\n",
    "sample_size = 50\n",
    "rng = np.random.default_rng()\n",
    "sample_data = rng.normal(4, 3, size=sample_size)\n",
    "\n",
    "x_bar = sample_data.mean()\n",
    "x_s = np.std(sample_data, ddof=1)\n",
    "\n",
    "t_val = (x_bar-pop_mean)/(x_s/np.sqrt(sample_size))\n",
    "print(f\"統計量T:{t_val:.3f}\")\n",
    "\n",
    "alpha = 0.05\n",
    "critical_val = abs(stats.t.ppf(alpha/2, sample_size-1))\n",
    "print(f\"棄却限界値:{critical_val:.3f}\")\n",
    "if(-critical_val<=t_val and critical_val>=t_val):\n",
    "    print(\"H0を棄却しない\")\n",
    "else:\n",
    "    print(\"H0を棄却しH1を採択する\")\n",
    "\n",
    "# 上記と同様の検定は、scipyのttest_1sampを使用すれば簡単に実行できる\n",
    "print(f\"ttest_1sampの実行結果:{stats.ttest_1samp(sample_data, popmean=pop_mean)}\")"
   ]
  },
  {
   "attachments": {},
   "cell_type": "markdown",
   "metadata": {},
   "source": [
    "# 2標本の平均の検定(分散が既知の場合)\n",
    "\n",
    "群Aの参加者$i$の確率変数を$X_{Ai}$とし、互いに独立に、平均$\\mu_{Ai}$、分散$\\sigma_{Ai}^2$の正規分布に従うとする。  \n",
    "同様に群$B$の参加者$i$の確率変数を$X_{Bi}$とし、互いに独立に、平均$\\mu_{Bi}$、分散$\\sigma_{Bi}^2$の正規分布に従うとする。  \n",
    "実際には想定しにくいが、分散$\\sigma_A^2$と$\\sigma_B^2$は既知とする。  \n",
    "群$A$と群$B$の平均の差を$\\delta=\\mu_A-\\mu_B$とし、帰無仮説$H_0:\\delta=\\delta_0$に対して、次の3通りの対立仮説$H_1$を考える。  \n",
    "(1)$H_1:\\delta>\\delta_0$(片側対立仮説、右側対立仮説)  \n",
    "(2)$H_1:\\delta<\\delta_0$(片側対立仮説、左側対立仮説)  \n",
    "(3)$H_1:\\delta \\neq \\delta_0$(両側対立仮説)  \n",
    "$\\delta_0$の値は解析の目的に応じて設定されるが、$\\delta_0=0$を考えるケースが多い。  \n",
    "1標本の場合と同様に、検定の有意水準は、(1)(2)の元では$\\alpha/2$、(3)では$\\alpha$とする。  \n",
    "各群の標本平均を$\\bar{X_A}$と$\\bar{X_B}$とする。  \n",
    "$\\bar{X_A}$と$\\bar{X_B}$は互いに独立であるから、帰無仮説$H_0$のもとで、$\\bar{X_A}-\\bar{X_B}$は平均$\\delta_0$、分散$\\frac{\\sigma_A^2}{n_A} + \\frac{\\sigma_B^2}{n_B}$の正規分布に従う。  \n",
    "これより、帰無仮説$H_0$のもとで、検定統計量\n",
    "$$\n",
    "Z = \\frac{\\bar{X_A}-\\bar{X_B}-\\delta_0}{\\sqrt{\\frac{\\sigma_A^2}{n_A} + \\frac{\\sigma_B^2}{n_B}}}\n",
    "$$\n",
    "は標準正規分布に従う。各対立仮説に応じて、次の条件のもとで帰無仮説$H_0$を棄却する。  \n",
    "(1)「$H_1:\\delta>\\delta_0$」: $Z \\geq z_{\\alpha/2}$  \n",
    "(2)「$H_1:\\delta<\\delta_0$」: $Z \\leq -z_{\\alpha/2}$   \n",
    "(3)「$H_1:\\delta \\neq \\delta_0$」: $|Z| \\geq z_{\\alpha/2}$  \n",
    "なお、$z_{\\alpha/2}$は標準正規分布の上側$100 \\alpha/2%$点である。  \n",
    "ただし、2つの分散が異なる場合は、**ベーレンス・フィッシャー問題**という問題が生じる。  \n",
    "$\\sigma_A^2 = \\sigma_B^2 = \\sigma^2$という条件を加えると、統計検定料量は\n",
    "$$\n",
    "Z = \\frac{\\bar{X_A}-\\bar{X_B}-\\delta_0}{\\sigma \\sqrt{\\frac{1}{n_A} + \\frac{1}{n_B}}}\n",
    "$$\n",
    "となる。"
   ]
  },
  {
   "cell_type": "code",
   "execution_count": 4,
   "metadata": {},
   "outputs": [
    {
     "name": "stdout",
     "output_type": "stream",
     "text": [
      "統計量Z:9.932\n",
      "棄却限界値:1.960\n",
      "H0を棄却しH1を採択する\n"
     ]
    }
   ],
   "source": [
    "# サンプルデータで信頼度95%で両側検定を実行\n",
    "delta_0 = 0 # δ0=0とおく\n",
    "\n",
    "rng = np.random.default_rng()\n",
    "\n",
    "a_size = 50\n",
    "a_pop_sigma2 = 2.0 # Aの母分散\n",
    "a_data = rng.normal(2, a_pop_sigma2, size=a_size)\n",
    "a_bar = a_data.mean()\n",
    "\n",
    "b_size = 50\n",
    "b_pop_sigma2 = 2.0 # Bの母分散\n",
    "b_data = rng.normal(0, b_pop_sigma2, size=b_size)\n",
    "b_bar = b_data.mean()\n",
    "\n",
    "z_val = (a_bar-b_bar-delta_0)/np.sqrt(a_pop_sigma2/a_size+b_pop_sigma2/b_size)\n",
    "\n",
    "print(f\"統計量Z:{z_val:.3f}\")\n",
    "\n",
    "alpha = 0.05\n",
    "critical_val = abs(stats.norm.ppf(alpha/2))\n",
    "print(f\"棄却限界値:{critical_val:.3f}\")\n",
    "if(-critical_val<=z_val and critical_val>=z_val):\n",
    "    print(\"H0を棄却しない\")\n",
    "else:\n",
    "    print(\"H0を棄却しH1を採択する\")\n"
   ]
  },
  {
   "attachments": {},
   "cell_type": "markdown",
   "metadata": {},
   "source": [
    "# 2標本の平均の検定(分散が未知の場合)\n",
    "\n",
    "分散$\\sigma_A^2$と$\\sigma_B^2$が未知のとき、標本分散$s_A^2 = \\frac{1}{n_A-1} \\sum_{i=1}^{n_A} (X_{Ai}-\\bar{X_A})^2$と$s_B^2 = \\frac{1}{n_B-1} \\sum_{i=1}^{n_B} (X_{Bi}-\\bar{X_B})^2$(分散の不偏推定量)で$\\sigma_A^2$と$\\sigma_B^2$を推定する。  \n",
    "共通の母分散$\\sigma_A^2 = \\sigma_B^2 = \\sigma^2$を仮定すると、2つの群をプールした標本分散\n",
    "$$\n",
    "s^2 = \\frac{(n_A-1)s_A^2 + (n_B-1)s_B^2}{n_A + n_B -2}\n",
    "$$\n",
    "で$\\sigma^2$を推定する。$\\frac{(n_A+n_B-2)s^2}{\\sigma^2}$は自由度$n_A+n_B-2$のカイ二乗分布に従う。    \n",
    "共通の母分散を仮定すると$\\bar{X_A}-\\bar{X_B}$と$s^2$は互いに独立であるから、帰無仮説$H_0:\\delta=\\delta_0$のもとで、統計検定量\n",
    "$$\n",
    "T = \\frac{X_{Ai}-X_{Bi}-\\delta_0}{s \\sqrt{\\frac{1}{n_A} + \\frac{1}{n_B}}}\n",
    "$$\n",
    "は自由度$n_A+n_B-2$の$t$分布に従う。  \n",
    "各対立仮説に応じて、次の条件のもとで帰無仮説$H_0$を棄却する。  \n",
    "(1)「$H_1:\\delta > \\delta_0$」: $T \\geq t_{α/2}(n_A+n_B-2)$  \n",
    "(2)「$H_1:\\delta < \\delta_0$」: $T \\leq -t_{α/2}(n_A+n_B-2)$  \n",
    "(3)「$H_1:\\delta \\neq \\delta_0$」: $|T| \\geq t_{α/2}(n_A+n_B-2)$  \n",
    "なお$t_{α/2}(n_A+n_B-2)$は自由度$n_A+n_B-2$の$t$分布の上側$100 \\alpha /2%$点である。"
   ]
  },
  {
   "cell_type": "code",
   "execution_count": 8,
   "metadata": {},
   "outputs": [
    {
     "name": "stdout",
     "output_type": "stream",
     "text": [
      "プールした標本分散:3.999\n",
      "統計量Z:2.450\n",
      "棄却限界値:1.984\n",
      "H0を棄却しH1を採択する\n"
     ]
    }
   ],
   "source": [
    "# サンプルデータで信頼度95%で両側検定を実行\n",
    "delta_0 = 0 # δ0=0とおく\n",
    "\n",
    "rng = np.random.default_rng()\n",
    "\n",
    "a_size = 50\n",
    "a_data = rng.normal(2, 2.0, size=a_size)\n",
    "a_bar = a_data.mean()\n",
    "a_s = np.std(a_data, ddof=1)\n",
    "\n",
    "b_size = 50\n",
    "b_data = rng.normal(0, 2.0, size=b_size)\n",
    "b_bar = b_data.mean()\n",
    "b_s = np.std(b_data, ddof=1)\n",
    "\n",
    "s_val = ((a_size-1)*(a_s**2)+(b_size-1)*(b_s**2))/(a_size+b_size-2)\n",
    "print(f\"プールした標本分散:{s_val:.3f}\")\n",
    "\n",
    "t_val = (a_bar-b_bar-delta_0)/(s_val*np.sqrt(1/a_size+1/b_size))\n",
    "\n",
    "print(f\"統計量Z:{t_val:.3f}\")\n",
    "\n",
    "alpha = 0.05\n",
    "critical_val = abs(stats.t.ppf(alpha/2, a_size+b_size-2))\n",
    "print(f\"棄却限界値:{critical_val:.3f}\")\n",
    "if(-critical_val<=t_val and critical_val>=t_val):\n",
    "    print(\"H0を棄却しない\")\n",
    "else:\n",
    "    print(\"H0を棄却しH1を採択する\")"
   ]
  },
  {
   "attachments": {},
   "cell_type": "markdown",
   "metadata": {},
   "source": [
    "# 1標本の分散の検定\n",
    "\n",
    "平均$\\mu$は未知とする。  \n",
    "分散$\\sigma^2$が特定の値$\\sigma_0^2$に等しいという帰無仮説$H_0:\\sigma^2=\\sigma_0^2$のもとで、統計検定量$V = \\frac{(n-1)s^2}{\\sigma_0^2}$は自由度$n-1$のカイ二乗分布に従う。  \n",
    "各対立仮説に応じて、次の条件のもとで帰無仮説$H_0$を棄却する。  \n",
    "(1)「$H_1:\\sigma^2>\\sigma_0^2$」: $V \\geq \\chi^2_{\\alpha/2}(n-1)$  \n",
    "(2)「$H_1:\\sigma^2<\\sigma_0^2$」: $V \\leq \\chi^2_{1-\\alpha/2}(n-1)$  \n",
    "(3)「$H_1:\\sigma^2 \\neq \\sigma_0^2$」: $V \\geq \\chi^2_{\\alpha/2}(n-1)$または$V \\leq \\chi^2_{1-\\alpha/2}(n-1)$"
   ]
  },
  {
   "cell_type": "code",
   "execution_count": 9,
   "metadata": {},
   "outputs": [
    {
     "name": "stdout",
     "output_type": "stream",
     "text": [
      "統計量V:96.004\n",
      "棄却限界値(右側):70.222\n",
      "棄却限界値(左側):31.555\n",
      "H0を棄却しH1を採択する\n"
     ]
    }
   ],
   "source": [
    "# サンプルデータで信頼度95%で両側検定を実行\n",
    "sigma_0 = 2.0 # σ0=2とおく\n",
    "\n",
    "rng = np.random.default_rng()\n",
    "\n",
    "sample_size = 50\n",
    "sample_data = rng.normal(2, 3.0, size=sample_size)\n",
    "sample_std = np.std(sample_data, ddof=1)\n",
    "\n",
    "v_val = (sample_size-1)*(sample_std**2)/(sigma_0**2)\n",
    "print(f\"統計量V:{v_val:.3f}\")\n",
    "\n",
    "alpha_l = 0.025\n",
    "alpha_r = 0.975\n",
    "critical_val_l = abs(stats.chi2.ppf(alpha_l, sample_size-1))\n",
    "critical_val_r = abs(stats.chi2.ppf(alpha_r, sample_size-1))\n",
    "print(f\"棄却限界値(右側):{critical_val_r:.3f}\")\n",
    "print(f\"棄却限界値(左側):{critical_val_l:.3f}\")\n",
    "if(v_val<=critical_val_l or critical_val_r<=v_val):\n",
    "    print(\"H0を棄却しH1を採択する\")\n",
    "else:\n",
    "    print(\"H0を棄却しない\")"
   ]
  },
  {
   "attachments": {},
   "cell_type": "markdown",
   "metadata": {},
   "source": [
    "# 2標本の分散の検定\n",
    "\n",
    "平均$\\mu_A$と$\\mu_B$は未知とする。  \n",
    "2つの群の分散が等しいという帰無仮説$H0:\\sigma_A^2=\\sigma_B^2$のもとで、検定統計量\n",
    "$$\n",
    "F = \\frac{\\sum_{i=1}^{n_B} (X_{Bi}-\\bar{X_B})^2 / (n_B-1)}{\\sum_{i=1}^{n_A} (X_{Ai}-\\bar{X_A})^2 / (n_A-1)}\n",
    "$$\n",
    "は自由度($n_B-1$, $n_A-1$)の$F$分布にしたがう。  \n",
    "各対立仮説に応じて、次の条件のもとで帰無仮説$H_0$を棄却する。  \n",
    "(1)「$H_1:\\sigma_A^2 < \\sigma_B^2$」: $F \\geq F_{\\alpha/2}(n_B-1, n_A-1)$  \n",
    "(2)「$H_1:\\sigma_A^2 > \\sigma_B^2$」: $F \\leq F_{1-\\alpha/2}(n_B-1, n_A-1)$  \n",
    "(3)「$H_1:\\sigma_A^2 \\neq \\sigma_B^2$」: $F \\geq F_{\\alpha/2}(n_B-1, n_A-1)$または$F \\leq F_{1-\\alpha/2}(n_B-1, n_A-1)$ "
   ]
  },
  {
   "cell_type": "code",
   "execution_count": 10,
   "metadata": {},
   "outputs": [
    {
     "name": "stdout",
     "output_type": "stream",
     "text": [
      "統計量F:0.161\n",
      "棄却限界値(右側):1.762\n",
      "棄却限界値(左側):0.567\n",
      "H0を棄却しH1を採択する\n"
     ]
    }
   ],
   "source": [
    "# サンプルデータで信頼度95%で両側検定を実行\n",
    "rng = np.random.default_rng()\n",
    "\n",
    "a_size = 50\n",
    "a_data = rng.normal(2, 4.0, size=a_size)\n",
    "a_bar = a_data.mean()\n",
    "a_s = np.std(a_data, ddof=1)\n",
    "\n",
    "b_size = 50\n",
    "b_data = rng.normal(0, 2.0, size=b_size)\n",
    "b_bar = b_data.mean()\n",
    "b_s = np.std(b_data, ddof=1)\n",
    "\n",
    "f_val = (b_s**2)/(a_s**2)\n",
    "print(f\"統計量F:{f_val:.3f}\")\n",
    "\n",
    "alpha_l = 0.025\n",
    "alpha_r = 0.975\n",
    "critical_val_l = abs(stats.f.ppf(alpha_l, b_size-1, a_size-1))\n",
    "critical_val_r = abs(stats.f.ppf(alpha_r, b_size-1, a_size-1))\n",
    "print(f\"棄却限界値(右側):{critical_val_r:.3f}\")\n",
    "print(f\"棄却限界値(左側):{critical_val_l:.3f}\")\n",
    "if(f_val<=critical_val_l or critical_val_r<=f_val):\n",
    "    print(\"H0を棄却しH1を採択する\")\n",
    "else:\n",
    "    print(\"H0を棄却しない\")"
   ]
  }
 ],
 "metadata": {
  "kernelspec": {
   "display_name": "Python 3.9.2 64-bit",
   "language": "python",
   "name": "python3"
  },
  "language_info": {
   "codemirror_mode": {
    "name": "ipython",
    "version": 3
   },
   "file_extension": ".py",
   "mimetype": "text/x-python",
   "name": "python",
   "nbconvert_exporter": "python",
   "pygments_lexer": "ipython3",
   "version": "3.11.1"
  },
  "orig_nbformat": 4,
  "vscode": {
   "interpreter": {
    "hash": "726ef1321fcd34e1bfe5e95996892c07db726849efbcd4abbb89e2457d1bbe6b"
   }
  }
 },
 "nbformat": 4,
 "nbformat_minor": 2
}

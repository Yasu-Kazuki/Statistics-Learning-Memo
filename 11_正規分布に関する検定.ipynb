{
 "cells": [
  {
   "cell_type": "code",
   "execution_count": 14,
   "metadata": {},
   "outputs": [
    {
     "name": "stdout",
     "output_type": "stream",
     "text": [
      "統計量Z:2.931\n",
      "棄却限界値:1.960\n",
      "H0を棄却しH1を採択する\n"
     ]
    }
   ],
   "source": [
    "# 1標本の平均の検定(分散が既知の場合)\n",
    "\n",
    "# 確率変数X1,...Xnが互いに独立に平均μ、分散σ**2に従うとする\n",
    "# 実際には想定しにくいが、分散σ**2既知とする\n",
    "# 帰無仮説H0:μ=μ0に対してい、次の3通りのH1を考える\n",
    "# (1)H1:μ>μ0(片側対立仮説、右側対立仮説)\n",
    "# (2)H1:μ<μ0(片側対立仮説、左側対立仮説)\n",
    "# (3)H1:μ≠μ0(両側対立仮説)\n",
    "# 検定の有意水準は、(1)(2)の元ではα/2、(3)ではαとする\n",
    "# 帰無仮説H0のもとで、標本平均X'は平均μ0、分散σ**2/nの正規分布に従う\n",
    "# これにより、統計検定量Z = (X'-μ0)/σ/√n は標準正規分布に従う\n",
    "# 各対立仮説に応じて、次の条件のもとで帰無仮説H0を棄却する\n",
    "# (1)「H1:μ>μ0」: Z>=zα/2\n",
    "# (2)「H1:μ<μ0」: Z=<-zα/2\n",
    "# (3)「H1:μ≠μ0」: |Z|>=zα/2 *zα/2は標準正規分布の上側100α/2%点である\n",
    "\n",
    "# サンプルデータで信頼度95%で両側検定を実行\n",
    "import numpy as np\n",
    "from scipy import stats\n",
    "\n",
    "pop_mean = 3.0 # 母平均\n",
    "pop_sigma2 = 2.0 # 母分散\n",
    "\n",
    "sample_size = 50\n",
    "rng = np.random.default_rng()\n",
    "sample_data = rng.normal(4, 3, size=sample_size)\n",
    "\n",
    "x_bar = sample_data.mean()\n",
    "\n",
    "z_val = (x_bar-pop_mean)/np.sqrt(pop_sigma2/sample_size)\n",
    "print(f\"統計量Z:{z_val:.3f}\")\n",
    "\n",
    "alpha = 0.05\n",
    "critical_val = abs(stats.norm.ppf(alpha/2))\n",
    "print(f\"棄却限界値:{critical_val:.3f}\")\n",
    "if(-critical_val<=z_val and critical_val>=z_val):\n",
    "    print(\"H0を棄却しない\")\n",
    "else:\n",
    "    print(\"H0を棄却しH1を採択する\")"
   ]
  },
  {
   "cell_type": "code",
   "execution_count": 15,
   "metadata": {},
   "outputs": [
    {
     "name": "stdout",
     "output_type": "stream",
     "text": [
      "統計量T:4.605\n",
      "棄却限界値:2.010\n",
      "H0を棄却しH1を採択する\n",
      "ttest_1sampの実行結果:Ttest_1sampResult(statistic=4.604704714442018, pvalue=2.9563272731449117e-05)\n"
     ]
    }
   ],
   "source": [
    "# 1標本の平均の検定(分散が未知の場合)\n",
    "\n",
    "# 分散σ**2は未知のとき標本分散s**2(分散の不偏推定量)でσ**2を推定する。\n",
    "# 標本平均とs**2は互いに独立であるから、帰無仮説H0:μ=μ0のもとで、\n",
    "# 統計検定量T = (X'-μ0)/s/√n は自由度n-1のt分布に従う\n",
    "# 各対立仮説に応じて、次の条件のもとで帰無仮説H0を棄却する\n",
    "# (1)「H1:μ>μ0」: T>=tα/2(n-1)\n",
    "# (2)「H1:μ<μ0」: T=<-ztα/2(n-1)\n",
    "# (3)「H1:μ≠μ0」: |T|>=tα/2(n-1) *tα/2(n-1)は自由度n-1のt分布の上側100α/2%点である\n",
    "# 検定統計量Tがt分布に従うことから、この検定は「t検定」と呼ばれる\n",
    "\n",
    "# サンプルデータで信頼度95%で両側検定を実行\n",
    "pop_mean = 2.0 # 母平均\n",
    "\n",
    "sample_size = 50\n",
    "rng = np.random.default_rng()\n",
    "sample_data = rng.normal(4, 3, size=sample_size)\n",
    "\n",
    "x_bar = sample_data.mean()\n",
    "x_s = np.std(sample_data, ddof=1)\n",
    "\n",
    "t_val = (x_bar-pop_mean)/(x_s/np.sqrt(sample_size))\n",
    "print(f\"統計量T:{t_val:.3f}\")\n",
    "\n",
    "alpha = 0.05\n",
    "critical_val = abs(stats.t.ppf(alpha/2, sample_size-1))\n",
    "print(f\"棄却限界値:{critical_val:.3f}\")\n",
    "if(-critical_val<=t_val and critical_val>=t_val):\n",
    "    print(\"H0を棄却しない\")\n",
    "else:\n",
    "    print(\"H0を棄却しH1を採択する\")\n",
    "\n",
    "# 上記と同様の検定は、scipyのttest_1sampを使用すれば簡単に実行できる\n",
    "print(f\"ttest_1sampの実行結果:{stats.ttest_1samp(sample_data, popmean=pop_mean)}\")"
   ]
  },
  {
   "cell_type": "code",
   "execution_count": 16,
   "metadata": {},
   "outputs": [
    {
     "name": "stdout",
     "output_type": "stream",
     "text": [
      "統計量Z:6.877\n",
      "棄却限界値:1.960\n",
      "H0を棄却しH1を採択する\n"
     ]
    }
   ],
   "source": [
    "# 2標本の平均の検定(分散が既知の場合)\n",
    "\n",
    "# 群Aの参加者iの確率変数をXAiとし、互いに独立に、平均μAi、分散σAi**2の正規分布に従うとする\n",
    "# 同様に群Bの参加者iの確率変数をXBiとし、互いに独立に、平均μBi、分散σBi**2の正規分布に従うとする\n",
    "# 実際には想定しにくいが、分散σA**2とσB**2は既知とする\n",
    "# 群Aと群Bの平均の差をδ=μA-μBとし、帰無仮説H0:δ=δ0に対して、次の3通りの対立仮説H1を考える\n",
    "# (1)H1:δ>δ0(片側対立仮説、右側対立仮説)\n",
    "# (2)H1:δ<δ0(片側対立仮説、左側対立仮説)\n",
    "# (3)H1:δ≠δ0(両側対立仮説)\n",
    "# δ0の値は解析の目的に応じて設定されるが、δ0=0を考えるケースが多い\n",
    "# 1標本の場合と同様に、検定の有意水準は、(1)(2)の元ではα/2、(3)ではαとする\n",
    "# 各群の標本平均をXA',XB'とする。XA'とXB'は互いに独立であるから、\n",
    "# 帰無仮説H0のもとで、XA'-XB'は平均δ0、分散σA**2/nA+σB**2/nBの正規分布に従う\n",
    "# これより、帰無仮説H0のもとで、検定統計量 Z = (XA'-XB'-δ0)/√(σA**2/nA+σB**2/nB) は標準正規分布に従う\n",
    "# 各対立仮説に応じて、次の条件のもとで帰無仮説H0を棄却する\n",
    "# (1)「H1:δ>δ0」: Z>=zα/2\n",
    "# (2)「H1:δ<δ0」: Z=<-zα/2\n",
    "# (3)「H1:δ≠δ0」: |Z|>=zα/2 *zα/2は標準正規分布の上側100α/2%点である\n",
    "# ただし、2つの分散が異なる場合は、「ベーレンス・フィッシャー問題」という問題が生じる\n",
    "# σA**2 = σB**2 = σ**2という条件を加えると、統計検定料量はZ = (XA'-XB'-δ0)/σ*√(1/nA+1/nB) となる\n",
    "\n",
    "# サンプルデータで信頼度95%で両側検定を実行\n",
    "delta_0 = 0 # δ0=0とおく\n",
    "\n",
    "rng = np.random.default_rng()\n",
    "\n",
    "a_size = 50\n",
    "a_pop_sigma2 = 2.0 # Aの母分散\n",
    "a_data = rng.normal(2, a_pop_sigma2, size=a_size)\n",
    "a_bar = a_data.mean()\n",
    "\n",
    "b_size = 50\n",
    "b_pop_sigma2 = 2.0 # Bの母分散\n",
    "b_data = rng.normal(0, b_pop_sigma2, size=b_size)\n",
    "b_bar = b_data.mean()\n",
    "\n",
    "z_val = (a_bar-b_bar-delta_0)/np.sqrt(a_pop_sigma2/a_size+b_pop_sigma2/b_size)\n",
    "\n",
    "print(f\"統計量Z:{z_val:.3f}\")\n",
    "\n",
    "alpha = 0.05\n",
    "critical_val = abs(stats.norm.ppf(alpha/2))\n",
    "print(f\"棄却限界値:{critical_val:.3f}\")\n",
    "if(-critical_val<=z_val and critical_val>=z_val):\n",
    "    print(\"H0を棄却しない\")\n",
    "else:\n",
    "    print(\"H0を棄却しH1を採択する\")\n"
   ]
  },
  {
   "cell_type": "code",
   "execution_count": 17,
   "metadata": {},
   "outputs": [
    {
     "name": "stdout",
     "output_type": "stream",
     "text": [
      "プールした標本分散:3.337\n",
      "統計量Z:2.419\n",
      "棄却限界値:1.984\n",
      "H0を棄却しH1を採択する\n"
     ]
    }
   ],
   "source": [
    "# 2標本の平均の検定(分散が未知の場合)\n",
    "\n",
    "# 分散σA**2とσB**2が未知のとき、標本分散sA**2とsB**2(分散の不偏推定量)でσA**2とσB**2を推定する。\n",
    "# 共通の母分散σA**2 = σB**2 = σ**2を仮定すると、2つの群をプールした標本分散\n",
    "# s**2 = ((nA-1)*sA**2*(nB-1)*sB**2)/(nA+nB-2) でσ**2を推定する\n",
    "# 共通の母分散を仮定するとXA'-XB'とs**2は互いに独立であるから、\n",
    "# 帰無仮説H0:δ=δ0のもとで、統計検定量 T = (XA'-XB'-δ0)/s*√(1/nA*1/nB) は\n",
    "# 自由度nA+nB-2のt分布に従う。各対立仮説に応じて、次の条件のもとで帰無仮説H0を棄却する\n",
    "# (1)「H1:δ>δ0」: T>=tα/2(nA+nB-2)\n",
    "# (2)「H1:δ<δ0」: T=<-ztα/2(nA+nB-2)\n",
    "# (3)「H1:δ≠δ0」: |T|>=tα/2(nA+nB-2) *tα/2(nA+nB-2)は自由度nA+nB-2のt分布の上側100α/2%点である\n",
    "\n",
    "# サンプルデータで信頼度95%で両側検定を実行\n",
    "delta_0 = 0 # δ0=0とおく\n",
    "\n",
    "rng = np.random.default_rng()\n",
    "\n",
    "a_size = 50\n",
    "a_data = rng.normal(2, 2.0, size=a_size)\n",
    "a_bar = a_data.mean()\n",
    "a_s = np.std(a_data, ddof=1)\n",
    "\n",
    "b_size = 50\n",
    "b_data = rng.normal(0, 2.0, size=b_size)\n",
    "b_bar = b_data.mean()\n",
    "b_s = np.std(b_data, ddof=1)\n",
    "\n",
    "s_val = ((a_size-1)*(a_s**2)+(b_size-1)*(b_s**2))/(a_size+b_size-2)\n",
    "print(f\"プールした標本分散:{s_val:.3f}\")\n",
    "\n",
    "t_val = (a_bar-b_bar-delta_0)/(s_val*np.sqrt(1/a_size+1/b_size))\n",
    "\n",
    "print(f\"統計量Z:{t_val:.3f}\")\n",
    "\n",
    "alpha = 0.05\n",
    "critical_val = abs(stats.t.ppf(alpha/2, a_size+b_size-2))\n",
    "print(f\"棄却限界値:{critical_val:.3f}\")\n",
    "if(-critical_val<=t_val and critical_val>=t_val):\n",
    "    print(\"H0を棄却しない\")\n",
    "else:\n",
    "    print(\"H0を棄却しH1を採択する\")"
   ]
  },
  {
   "cell_type": "code",
   "execution_count": 18,
   "metadata": {},
   "outputs": [
    {
     "name": "stdout",
     "output_type": "stream",
     "text": [
      "統計量V:111.626\n",
      "棄却限界値(右側):70.222\n",
      "棄却限界値(左側):31.555\n",
      "H0を棄却しH1を採択する\n"
     ]
    }
   ],
   "source": [
    "# 1標本の分散の検定\n",
    "\n",
    "# 平均μは未知とする。分散σ**2が特定の値σ0**2に等しいという帰無仮説H0:σ**2=σ0**2のもとで、\n",
    "# 統計検定量 V = (n-1)*s**2/σ0**2は自由度n-1のカイ二乗分布に従う\n",
    "# 各対立仮説に応じて、次の条件のもとで帰無仮説H0を棄却する\n",
    "# (1)「H1:σ**2>σ0**2」: V>=χ**2α/2(n-1)\n",
    "# (2)「H1:σ**2<σ0**2」: V=<-χ**1-α/2(n-1)\n",
    "# (3)「H1:σ**2≠σ0**2」: V>=χ**2α/2(n-1)またはV=<-χ**1-α/2(n-1)\n",
    "\n",
    "# サンプルデータで信頼度95%で両側検定を実行\n",
    "sigma_0 = 2.0 # σ0=2とおく\n",
    "\n",
    "rng = np.random.default_rng()\n",
    "\n",
    "sample_size = 50\n",
    "sample_data = rng.normal(2, 3.0, size=sample_size)\n",
    "sample_std = np.std(sample_data, ddof=1)\n",
    "\n",
    "v_val = (sample_size-1)*(sample_std**2)/(sigma_0**2)\n",
    "print(f\"統計量V:{v_val:.3f}\")\n",
    "\n",
    "alpha_l = 0.025\n",
    "alpha_r = 0.975\n",
    "critical_val_l = abs(stats.chi2.ppf(alpha_l, sample_size-1))\n",
    "critical_val_r = abs(stats.chi2.ppf(alpha_r, sample_size-1))\n",
    "print(f\"棄却限界値(右側):{critical_val_r:.3f}\")\n",
    "print(f\"棄却限界値(左側):{critical_val_l:.3f}\")\n",
    "if(v_val<=critical_val_l or critical_val_r<=v_val):\n",
    "    print(\"H0を棄却しH1を採択する\")\n",
    "else:\n",
    "    print(\"H0を棄却しない\")"
   ]
  },
  {
   "cell_type": "code",
   "execution_count": 19,
   "metadata": {},
   "outputs": [
    {
     "name": "stdout",
     "output_type": "stream",
     "text": [
      "統計量F:0.270\n",
      "棄却限界値(右側):1.762\n",
      "棄却限界値(左側):0.567\n",
      "H0を棄却しH1を採択する\n"
     ]
    }
   ],
   "source": [
    "# 2標本の分散の検定\n",
    "\n",
    "# 平均μAとμBは未知とする。2つの群の分散が等しいという帰無仮説H0:σA**2=σB**2のもとで、\n",
    "# 検定統計量 F = sB**2/sA**2 は自由度(nB-1, nA-1)のF分布にしたがう\n",
    "# 各対立仮説に応じて、次の条件のもとで帰無仮説H0を棄却する\n",
    "# (1)「H1:σA**2<σB**2」: F>=Fα/2(nB-1, nA-1)\n",
    "# (2)「H1:σA**2>σB**2」: F=<F1-α/2(nB-1, nA-1)\n",
    "# (3)「H1:σA**2≠σB**2」: F>=Fα/2(nB-1, nA-1)またはF=<F1-α/2(nB-1, nA-1)\n",
    "\n",
    "# サンプルデータで信頼度95%で両側検定を実行\n",
    "rng = np.random.default_rng()\n",
    "\n",
    "a_size = 50\n",
    "a_data = rng.normal(2, 4.0, size=a_size)\n",
    "a_bar = a_data.mean()\n",
    "a_s = np.std(a_data, ddof=1)\n",
    "\n",
    "b_size = 50\n",
    "b_data = rng.normal(0, 2.0, size=b_size)\n",
    "b_bar = b_data.mean()\n",
    "b_s = np.std(b_data, ddof=1)\n",
    "\n",
    "f_val = (b_s**2)/(a_s**2)\n",
    "print(f\"統計量F:{f_val:.3f}\")\n",
    "\n",
    "alpha_l = 0.025\n",
    "alpha_r = 0.975\n",
    "critical_val_l = abs(stats.f.ppf(alpha_l, b_size-1, a_size-1))\n",
    "critical_val_r = abs(stats.f.ppf(alpha_r, b_size-1, a_size-1))\n",
    "print(f\"棄却限界値(右側):{critical_val_r:.3f}\")\n",
    "print(f\"棄却限界値(左側):{critical_val_l:.3f}\")\n",
    "if(f_val<=critical_val_l or critical_val_r<=f_val):\n",
    "    print(\"H0を棄却しH1を採択する\")\n",
    "else:\n",
    "    print(\"H0を棄却しない\")"
   ]
  }
 ],
 "metadata": {
  "kernelspec": {
   "display_name": "Python 3.9.2 64-bit",
   "language": "python",
   "name": "python3"
  },
  "language_info": {
   "codemirror_mode": {
    "name": "ipython",
    "version": 3
   },
   "file_extension": ".py",
   "mimetype": "text/x-python",
   "name": "python",
   "nbconvert_exporter": "python",
   "pygments_lexer": "ipython3",
   "version": "3.9.2"
  },
  "orig_nbformat": 4,
  "vscode": {
   "interpreter": {
    "hash": "726ef1321fcd34e1bfe5e95996892c07db726849efbcd4abbb89e2457d1bbe6b"
   }
  }
 },
 "nbformat": 4,
 "nbformat_minor": 2
}

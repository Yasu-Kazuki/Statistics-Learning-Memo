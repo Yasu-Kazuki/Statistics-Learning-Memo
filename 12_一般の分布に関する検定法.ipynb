{
 "cells": [
  {
   "cell_type": "code",
   "execution_count": 12,
   "metadata": {},
   "outputs": [
    {
     "name": "stdout",
     "output_type": "stream",
     "text": [
      "統計量Z:2.219\n",
      "棄却限界値:1.960\n",
      "H0を棄却しH1を採択する\n"
     ]
    }
   ],
   "source": [
    "# 母比率の検定\n",
    "\n",
    "# 試行回数n、成功確率Θの二項分布に従う確率変数Xを考える\n",
    "# いま、与えられた比率Θ0に対して、Θ=Θ0を帰無仮説とする仮説検定を行いたいとする\n",
    "# ここでΘ'=X/nはΘの最尤推定量である。棄却限界値には最尤推定量の漸近正規性を利用することが多い\n",
    "# すなわち、帰無仮説のもとでn→∞のとき、√n*(Θ'-Θ0)/√(Θ0*(1-Θ0))が標準正規分布に分布収束することを利用する\n",
    "# ここで分母にあるΘ0*(1-Θ0)は√n*(Θ'-Θ0)の分散である\n",
    "# すると、近似的に有意水準αの検定方式、√n*(Θ'-Θ0)/√(Θ0*(1-Θ0))>=Za とすれば得られる\n",
    "# ここでZaは標準正規分布の上側100%点である\n",
    "# 両側対立仮説Θ≠Θ0の場合、上と同様にして有意水準αの棄却域は\n",
    "# |√n*(Θ'-Θ0)/√(Θ0*(1-Θ0))|>=za/2となる\n",
    "\n",
    "# サンプルデータで信頼度95%で両側検定を実行\n",
    "import numpy as np\n",
    "from scipy import stats\n",
    "\n",
    "theta0 = 0.5 # 母比率\n",
    "\n",
    "sample_n = 1000\n",
    "sample_x = 535\n",
    "theta_hat = sample_x/sample_n\n",
    "\n",
    "z_val = (theta_hat-theta0)/np.sqrt((theta_hat*(1-theta_hat))/sample_n)\n",
    "print(f\"統計量Z:{z_val:.3f}\")\n",
    "\n",
    "alpha = 0.05\n",
    "critical_val = abs(stats.norm.ppf(alpha/2))\n",
    "print(f\"棄却限界値:{critical_val:.3f}\")\n",
    "if(-critical_val<=z_val and critical_val>=z_val):\n",
    "    print(\"H0を棄却しない\")\n",
    "else:\n",
    "    print(\"H0を棄却しH1を採択する\")"
   ]
  },
  {
   "cell_type": "code",
   "execution_count": 13,
   "metadata": {},
   "outputs": [
    {
     "name": "stdout",
     "output_type": "stream",
     "text": [
      "統計量Z:3.816\n",
      "棄却限界値:1.960\n",
      "H0を棄却しH1を採択する\n"
     ]
    }
   ],
   "source": [
    "# 母比率の差の検定\n",
    "\n",
    "# 試行回数n1、成功確率Θ1の二項分布に従う確率変数X1と、\n",
    "# 試行回数n2、成功確率Θ2の二項分布に従う確率変数X2が観測され、\n",
    "# 帰無仮説Θ1=Θ2の検定を行いたいとする。つまり母比率に関する2標本問題である\n",
    "# ここで帰無仮説においてΘ1(=Θ2)の値そのものは決めていないことに注意する\n",
    "# 帰無仮説に限らずΘ1'-Θ2'の平均はΘ1-Θ2、分散はΘ1*(1-Θ1)/n1+Θ1\\2*(1-Θ2)/n2であるから、\n",
    "# 中心極限定理よりn1,n2がともに大きければ\n",
    "# ((Θ1'-Θ2')-(Θ1-Θ2))/√(Θ1*(1-Θ1)/n1+Θ2*(1-Θ2)/n2) は近似的に標準正規分布に従う\n",
    "# ここで分母に現れるΘ1,Θ2をΘ1',Θ2'に置き換え、また帰無仮説のもとでΘ1-Θ2=0に代入することにより、\n",
    "# 有意水準の検定方式 (Θ1'-Θ2')/√(Θ1'*(1-Θ1')/n1+Θ2'*(1-Θ2')/n2) >=za が得られる\n",
    "\n",
    "# サンプルデータで信頼度95%で両側検定を実行\n",
    "\n",
    "a_n = 1000\n",
    "a_x = 535\n",
    "theta_a = a_x/a_n\n",
    "\n",
    "b_n = 1000\n",
    "b_x = 450\n",
    "theta_b = b_x/b_n\n",
    "\n",
    "z_val = (theta_a-theta_b)/np.sqrt(theta_a*(1-theta_a)/a_n+theta_b*(1-theta_b)/b_n)\n",
    "print(f\"統計量Z:{z_val:.3f}\")\n",
    "\n",
    "alpha = 0.05\n",
    "critical_val = abs(stats.norm.ppf(alpha/2))\n",
    "print(f\"棄却限界値:{critical_val:.3f}\")\n",
    "if(-critical_val<=z_val and critical_val>=z_val):\n",
    "    print(\"H0を棄却しない\")\n",
    "else:\n",
    "    print(\"H0を棄却しH1を採択する\")\n"
   ]
  },
  {
   "cell_type": "code",
   "execution_count": 14,
   "metadata": {},
   "outputs": [
    {
     "name": "stdout",
     "output_type": "stream",
     "text": [
      "統計量Z:2.582\n",
      "棄却限界値:1.960\n",
      "H0を棄却しH1を採択する\n"
     ]
    }
   ],
   "source": [
    "# ポアソン分布に関する検定\n",
    "\n",
    "# パラメータλのポアソン分布に従う確率変数Xを考える\n",
    "# λ'=Xはλの最尤推定量である。真のλの値が十分大きければ、λ'の分布は正規分布で近似される\n",
    "# ポアソン分布のの分散はλなので、帰無仮説の下では(λ'-λ0)/√λ0 が近似的に標準積分布に従う\n",
    "# これに基づく棄却域は(λ'-λ0)/√λ0>=Za である\n",
    "\n",
    "# サンプルデータで信頼度95%で両側検定を実行\n",
    "lambda0 = 15\n",
    "\n",
    "lambda_hat = 25\n",
    "\n",
    "z_val = (lambda_hat-lambda0)/np.sqrt(lambda0)\n",
    "print(f\"統計量Z:{z_val:.3f}\")\n",
    "\n",
    "alpha = 0.05\n",
    "critical_val = abs(stats.norm.ppf(alpha/2))\n",
    "print(f\"棄却限界値:{critical_val:.3f}\")\n",
    "if(-critical_val<=z_val and critical_val>=z_val):\n",
    "    print(\"H0を棄却しない\")\n",
    "else:\n",
    "    print(\"H0を棄却しH1を採択する\")"
   ]
  },
  {
   "cell_type": "code",
   "execution_count": 19,
   "metadata": {},
   "outputs": [
    {
     "name": "stdout",
     "output_type": "stream",
     "text": [
      "統計量T(x):9.458\n",
      "棄却限界値(右側):3.058\n",
      "棄却限界値(左側):0.465\n",
      "H0を棄却しH1を採択する\n",
      "chisquareの実行結果:Power_divergenceResult(statistic=9.458333333333334, pvalue=0.02377878015426507)\n"
     ]
    }
   ],
   "source": [
    "# 適合度検定\n",
    "\n",
    "# カテゴリかるデータに関する検定には、尤度比検定のほかに「適合度検定」がよく用いられる\n",
    "# カテゴリの個数Iとし、それぞれの生起確率をpi(1<=i<=I)とおく。\n",
    "# また総度数をn、カテゴリiの観測度数をxiとおき、帰無仮説のもとでのpiの最尤推定量をpi'とおく\n",
    "# このとき、ピアソンのカイ二乗適合度検定量を\n",
    "# T(x) = Σ((xi-n*pi')/n*pi'), x=(x1,..,xI) と定義する。分母と分子に現れるn*pi'は期待度数とよばれる\n",
    "# T(x)は帰無仮説の下で漸近的に自由度d=I-1-kのカイ二乗分布に収束する\n",
    "# ここでkは帰無仮説のもとで自由に動けるパラメータの個数を表し、またI-1は\n",
    "# 生起確率に制約のないフルモデルにおいて自由に動けるパラメータの個数を意味する\n",
    "# 度数が十分に大きくない場合には、「イエーツの補正」が用いられることがある\n",
    "# これは、T(x)の(xi-n*pi')を(|xi-n*pi'|-0.5)**2に置き換える補正法である\n",
    "\n",
    "# サンプルデータで信頼度95%で両側検定を実行\n",
    "\n",
    "#A型:55、O型:22, B型:16, AB型:7\n",
    "n = 100\n",
    "n_list = [55, 22, 16, 7] \n",
    "pi_hat_list = [0.4, 0.3, 0.2, 0.1]\n",
    "\n",
    "chi_val = 0\n",
    "for i, item in enumerate(n_list):\n",
    "    chi_val += (item-100*pi_hat_list[i])**2/np.sum(100*pi_hat_list[i])\n",
    "print(f\"統計量T(x):{chi_val:.3f}\")\n",
    "\n",
    "alpha_l = 0.025\n",
    "alpha_r = 0.975\n",
    "critical_val_l = abs(stats.chi.ppf(alpha_l, len(n_list)-1))\n",
    "critical_val_r = abs(stats.chi.ppf(alpha_r, len(n_list)-1))\n",
    "print(f\"棄却限界値(右側):{critical_val_r:.3f}\")\n",
    "print(f\"棄却限界値(左側):{critical_val_l:.3f}\")\n",
    "if(chi_val<=critical_val_l or critical_val_r<=chi_val):\n",
    "    print(\"H0を棄却しH1を採択する\")\n",
    "else:\n",
    "    print(\"H0を棄却しない\")\n",
    "\n",
    "# 上記と同様の検定は、scipyのchisquareを使用すれば簡単に実行できる\n",
    "print(f\"chisquareの実行結果:{stats .chisquare(n_list, f_exp=[pi*n for pi in pi_hat_list])}\")"
   ]
  },
  {
   "cell_type": "code",
   "execution_count": null,
   "metadata": {},
   "outputs": [],
   "source": [
    "# 尤度比検定\n",
    "\n",
    "# 汎用的な検定の構成法として「尤度比検定」がある\n",
    "# パラメータのベクトルΘが2つの部分に分かれており、Θ=(Θ1, Θ2)とする\n",
    "# ただし、Θ1の次元(要素数)をp、Θ2の次元をqとする\n",
    "# 大きさnの観測値xnの確率密度関数をfn(xn;Θ1,Θ2)と書く。帰無仮説をH0:Θ1=Θ10とし、\n",
    "# 尤度比を λn = maxΘ1,Θ2 fn(xn;Θ1,Θ2)/maxΘ2 fn(xn;Θ10,Θ2) と定義する\n",
    "# 一般的にHoのもとでn→∞のとき、2*logλnの分布は自由度pのカイ二乗分布に従うことが示される\n",
    "# これより2*logλn>=χ**2α(p)のときにHoを棄却すれば、近似的に有意水準αとなる"
   ]
  }
 ],
 "metadata": {
  "kernelspec": {
   "display_name": "Python 3.9.2 64-bit",
   "language": "python",
   "name": "python3"
  },
  "language_info": {
   "codemirror_mode": {
    "name": "ipython",
    "version": 3
   },
   "file_extension": ".py",
   "mimetype": "text/x-python",
   "name": "python",
   "nbconvert_exporter": "python",
   "pygments_lexer": "ipython3",
   "version": "3.9.2"
  },
  "orig_nbformat": 4,
  "vscode": {
   "interpreter": {
    "hash": "726ef1321fcd34e1bfe5e95996892c07db726849efbcd4abbb89e2457d1bbe6b"
   }
  }
 },
 "nbformat": 4,
 "nbformat_minor": 2
}

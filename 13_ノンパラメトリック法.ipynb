{
 "cells": [
  {
   "attachments": {},
   "cell_type": "markdown",
   "metadata": {},
   "source": [
    "# ノンパラメトリック法\n",
    "\n",
    "前章までの仮説検定の多くは**母集団分布**を仮定しており、その多くは正規分布である。  \n",
    "母集団分布の仮定のもとで統計検定量$T$を導出し、$T$が従う分布を用いて仮説検定を行う。  \n",
    "これを**パラメトリック法**というが、**ノンパラメトリック法**は正規分布などの母集団分布の仮定を設けない状態で仮説検定を行うものである。  \n",
    "ノンパラメトリック法の基本的な考え方は、データを構成している観測値を大きさの順に並べて統計量をつくることである。  \n",
    "母集団がわかっている場合にも、サンプルサイズが小さい時にはノンパラメトリック法が有効とされるケースが多い。  \n",
    "以下がノンパラメトリック法の代表的な手法である。  \n",
    "1. ウィルコクソンの順位和検定…2群の差の検定\n",
    "2. 符号付順位検定、符号検定…対応がある場合の差の検定\n",
    "3. クラスカル・ウォリス検定…3群以上の差の検定"
   ]
  },
  {
   "attachments": {},
   "cell_type": "markdown",
   "metadata": {},
   "source": [
    "# ウィルコクソンの順位和検定\n",
    "\n",
    "帰無仮説、対立仮説は以下のように設定する。  \n",
    "帰無仮説：2郡$A,B$の成績の分布は同じ  \n",
    "対立仮説：郡$A$の成績の分布の形は群$B$と同じだが、悪い(-)方にズレている(片側検定)  \n",
    "**ウィルコクソンの順位和検定**は、はじめに群$A$と群$B$をあわせて、小さい値から順位を与え、その和$W_A$または$W_B$を検定統計量とする。  \n",
    "これを**順位和**という。帰無仮説が正しいとすると、2郡の順位はランダムになると考えられる。  \n",
    "全体の順位の組み合わせ数のうち、$W_A$の値以下となる確率を求める。これがウィルコクソン順位和検定の片側$P-$値である"
   ]
  },
  {
   "cell_type": "code",
   "execution_count": 1,
   "metadata": {},
   "outputs": [
    {
     "name": "stdout",
     "output_type": "stream",
     "text": [
      "片側P-値:0.35\n"
     ]
    }
   ],
   "source": [
    "import itertools\n",
    "import numpy as np\n",
    "from scipy.special import comb\n",
    "\n",
    "x = np.array([30., 20., 52., 40., 50., 35.])\n",
    "x_A = x[:3]\n",
    "x_B = x[3:]\n",
    "\n",
    "# 群Aと群Bのデータを合わせて、小さい順に順位を与える(1~)\n",
    "rank_A = np.argsort(x)[:3]+1\n",
    "rank_B = np.argsort(x)[3:]+1\n",
    "\n",
    "# 群ごとに順位の和を計算する\n",
    "W_A = np.sum(rank_A)\n",
    "W_B = np.sum(rank_B)\n",
    "\n",
    "# P値を求める\n",
    "comb_all = comb(len(x), len(x_A), exact=True)\n",
    "all_ranks_list = list(itertools.combinations(range(1,len(x_A)+len(x_B)+1), 3))\n",
    "a_ranks_list = []\n",
    "for ranks in all_ranks_list:\n",
    "    ranks_sum = sum(ranks)\n",
    "    if ranks_sum <= W_A:\n",
    "        a_ranks_list.append(ranks)\n",
    "print(f\"片側P-値:{len(a_ranks_list)/comb_all}\") # この値を有意水準と比較する"
   ]
  },
  {
   "attachments": {},
   "cell_type": "markdown",
   "metadata": {},
   "source": [
    "# 並べ替え検定\n",
    "\n",
    "ウィルコクソンの順位検定と同様に以下の仮説検定を考える。  \n",
    "帰無仮説：2郡$A,B$の成績の分布は同じ  \n",
    "対立仮説：群$A$の成績の分布の形は群$B$と同じだが、悪い(-)方にズレている(片側検定)  \n",
    "数値の平均$\\bar{X}_A$または平均$\\bar{X}_B$を検定統計量とする点でウィルコクソンの順位検定と異なる。  \n",
    "2群$A,B$の平均に差があるか否かを考える。"
   ]
  },
  {
   "cell_type": "code",
   "execution_count": 3,
   "metadata": {},
   "outputs": [
    {
     "name": "stdout",
     "output_type": "stream",
     "text": [
      "片側P-値:0.25\n"
     ]
    }
   ],
   "source": [
    "x = np.array([30., 20., 52., 40., 50., 35.])\n",
    "x_A = x[:3]\n",
    "x_B = x[3:]\n",
    "\n",
    "# 郡ごとの平均値を求める\n",
    "avg_A = np.average(x_A)\n",
    "avg_B = np.average(x_B)\n",
    "\n",
    "# P値を求める\n",
    "all_vals_list = list(itertools.combinations(x, 3))\n",
    "a_vals_list = []\n",
    "for vals in all_vals_list:\n",
    "    avg_vals = sum(vals)/len(x_A)\n",
    "    if avg_vals <= avg_A:\n",
    "        a_vals_list.append(vals)\n",
    "\n",
    "count_comb_all = comb(len(x), len(x_A), exact=True)\n",
    "print(f\"片側P-値:{len(a_vals_list)/count_comb_all}\") # この値を有意水準と比較する"
   ]
  },
  {
   "attachments": {},
   "cell_type": "markdown",
   "metadata": {},
   "source": [
    "# 符号付き順位検定\n",
    "\n",
    "対応がある場合の差の検定で使用する。  \n",
    "ウィルコクソンの順位検定と同様に並べ替えを考えるが、符号に関しても考慮する。  \n",
    "はじめに絶対値の小さな順に並べる。ただし値が0になったときは、その観測値を除きサンプルサイズ$n$も減らす。  \n",
    "並べ替えた順に符号付の順位を割り当て、これらのうち正値の合計$T_+$を検定統計量とする。  \n",
    "帰無仮説、対立仮説は以下のように設定する。  \n",
    "帰無仮説：分布$D$の中央値が0  \n",
    "対立仮説：分布$D$の中央値が0以上(片側検定)  \n",
    "符号付き順位検定を用いるときは、分布$D$が対称であることが条件"
   ]
  },
  {
   "cell_type": "code",
   "execution_count": 4,
   "metadata": {},
   "outputs": [
    {
     "name": "stdout",
     "output_type": "stream",
     "text": [
      "D:[-15.  -9.   0.   6.  11.  20.  25.]\n",
      "D':[6.0, -9.0, 11.0, -15.0, 20.0, 25.0]\n",
      "D bar':[1, -2, 3, -4, 5, 6]\n",
      "検定統計量T+:15\n",
      "片側P-値:0.21875\n",
      "(stats.wilcoxon)検定統計量T+:0.0, P-値:0.00390625\n"
     ]
    }
   ],
   "source": [
    "X_before = np.array([30., 20., 52., 40., 50., 35., 25.])\n",
    "X_after = np.array([15., 11., 52., 46., 61., 55., 50.])\n",
    "\n",
    "# 差分を算出する\n",
    "D_val = X_after - X_before\n",
    "print(f\"D:{D_val}\")\n",
    "\n",
    "# 値が0の観測値は除いた、符号付きの順位を算出する\n",
    "D_val_nonzero = D_val[np.nonzero(D_val)]\n",
    "D_val_nonzero = sorted(D_val_nonzero, key=abs)\n",
    "print(f\"D':{D_val_nonzero}\")\n",
    "\n",
    "rank_unsigned = np.array(range(1, len(D_val_nonzero)+1))\n",
    "rank_signed = []\n",
    "for i, item in enumerate(D_val_nonzero):\n",
    "    if item < 0:\n",
    "        rank_signed.append(rank_unsigned[i]*(-1))\n",
    "    else:\n",
    "        rank_signed.append(rank_unsigned[i])\n",
    "print(f\"D bar':{rank_signed}\")\n",
    "\n",
    "# 正値の合計T+を検定統計量とする\n",
    "T_plus_val = sum([i for i in rank_signed if i > 0])\n",
    "print(f\"検定統計量T+:{T_plus_val}\")\n",
    "\n",
    "# 検定統計量T+より大きな値をとる確率を求める\n",
    "check_counter = 2**len(rank_signed)\n",
    "tplus_greater_list = []\n",
    "for counter in range(check_counter):\n",
    "    # 2進数を用いて組み合わせ計算を実行\n",
    "    bin_str = format(counter, 'b').zfill(len(rank_signed))\n",
    "    tmp_rank_signed = []\n",
    "    tmp_tplus_val = 0\n",
    "    for i, bin_char in enumerate(bin_str):\n",
    "        if bin_char==\"0\":\n",
    "            tmp_rank_signed.append(rank_unsigned[i]*(-1))\n",
    "        else:\n",
    "            tmp_rank_signed.append(rank_unsigned[i])\n",
    "    tmp_tplus_val = sum([i for i in tmp_rank_signed if i > 0])\n",
    "\n",
    "    if tmp_tplus_val >=T_plus_val:\n",
    "        tplus_greater_list.append(tmp_tplus_val)\n",
    "\n",
    "print(f\"片側P-値:{len(tplus_greater_list)/check_counter}\") # この値を有意水準と比較する\n",
    "\n",
    "# scipyを使用して符号付き順位検定を実行することもできる\n",
    "from scipy import stats\n",
    "\n",
    "A = np.array([1.83, 1.50, 1.62, 2.48, 1.68, 1.88, 1.55, 3.06, 1.30])\n",
    "B = np.array([0.88, 0.65, 0.60, 1.05, 1.06, 1.29, 1.06, 2.14, 1.29])\n",
    "result = stats.wilcoxon(A, B)\n",
    "print(f\"(stats.wilcoxon)検定統計量T+:{result.statistic}, P-値:{result.pvalue}\")"
   ]
  },
  {
   "attachments": {},
   "cell_type": "markdown",
   "metadata": {},
   "source": [
    "# 符号検定\n",
    "\n",
    "帰無仮説、対立仮説は以下のように設定する。  \n",
    "帰無仮説：分布$D$の中央値が0  \n",
    "対立仮説：分布$D$の中央値が0以上(片側検定)  \n",
    "$D$分布の対称性は仮定しなくても問題ない。  \n",
    "0の値をとらないサンプルサイズ$n$に対して、差$d$の値が正になった個数$T_+$を検定統計量とする。  \n",
    "帰無仮説が正しいとき、検定統計量$T_+$は二項分布$Bin(n, 0.5)$に従うと考えて$P$値を算出する。"
   ]
  },
  {
   "cell_type": "code",
   "execution_count": 8,
   "metadata": {},
   "outputs": [
    {
     "name": "stdout",
     "output_type": "stream",
     "text": [
      "検定統計量T+:4\n"
     ]
    },
    {
     "data": {
      "text/plain": [
       "BinomTestResult(k=4, n=6, alternative='greater', statistic=0.6666666666666666, pvalue=0.34375)"
      ]
     },
     "execution_count": 8,
     "metadata": {},
     "output_type": "execute_result"
    }
   ],
   "source": [
    "X_before = np.array([30., 20., 52., 40., 50., 35., 25.])\n",
    "X_after = np.array([15., 11., 52., 46., 61., 55., 50.])\n",
    "D_val = X_after - X_before\n",
    "T_plus_val = np.count_nonzero(D_val > 0)    # 正になった個数を検定統計量T+とする\n",
    "non_zero_num = np.count_nonzero(D_val != 0)\n",
    "print(f\"検定統計量T+:{T_plus_val}\")\n",
    "\n",
    "# Bin(6,0.5)に従うと考えてP値を算出\n",
    "result = stats.binomtest(k=T_plus_val, n=non_zero_num, p=0.5, alternative='greater')\n",
    "result"
   ]
  },
  {
   "attachments": {},
   "cell_type": "markdown",
   "metadata": {},
   "source": [
    "# クラスカル・ウォリス検定\n",
    "\n",
    "**クラスカル・ウォリス検定**は、複数の群の分布に差があるか否かを考える。  \n",
    "帰無仮説、対立仮説は以下のように設定する。  \n",
    "帰無仮説：全ての郡の分布は同じ  \n",
    "対立仮説：全ての郡の分布は同じではない  \n",
    "ウィルコクソンの順位和検定と同様に、各群の分布が同じであることが前提である。  \n",
    "また、すべての群のうち、どの群がどの群と異なるかどうかということは考慮しない。"
   ]
  },
  {
   "cell_type": "code",
   "execution_count": 9,
   "metadata": {},
   "outputs": [
    {
     "name": "stdout",
     "output_type": "stream",
     "text": [
      "検定統計量H:2.962, P-値:0.227\n"
     ]
    }
   ],
   "source": [
    "# scipyを使用して算出することができる\n",
    "group_a = np.array([22., 30., 42.])\n",
    "group_b = np.array([36., 40., 52., 53.])\n",
    "group_c = np.array([25., 32., 45., 48.])\n",
    "\n",
    "result = stats.mstats.kruskalwallis(group_a, group_b, group_c)\n",
    "print(f\"検定統計量H:{result.statistic:.3f}, P-値:{result.pvalue:.3f}\")"
   ]
  },
  {
   "attachments": {},
   "cell_type": "markdown",
   "metadata": {},
   "source": [
    "# 順位相関係数\n",
    "\n",
    "2次元データが共に順位データである場合の相関係数のことを**順位相関係数**という。  \n",
    "**スピアマンの順位相関係数**と**ケンドールの順位相関係数**がある。  \n",
    "ともに-1から1の間をとるが、同じ値にはならないため互いの意味は異なる。"
   ]
  },
  {
   "attachments": {},
   "cell_type": "markdown",
   "metadata": {},
   "source": [
    "スピアマンの順位相関係数は、2次元データ$(x_i,y_i)$がともに連続変数である場合のピアソンの積率相関係数と同じ計算を行う"
   ]
  },
  {
   "cell_type": "code",
   "execution_count": 10,
   "metadata": {},
   "outputs": [
    {
     "name": "stdout",
     "output_type": "stream",
     "text": [
      "スピアマンの順位相関係数:0.857\n",
      "(stats.spearmanr)スピアマンの順位相関係数:0.857\n"
     ]
    }
   ],
   "source": [
    "# スピアマンの順位相関係数を計算\n",
    "x_val = np.array([1., 2., 3., 4., 5., 6., 7.])\n",
    "y_val = np.array([1., 3., 2., 6., 4., 5., 7.])\n",
    "diff = x_val - y_val\n",
    "square_diff_val = np.square(diff).sum()\n",
    "n = len(x_val)\n",
    "\n",
    "rs_val = 1 - (6*square_diff_val / (n*(n**(2)-1)) )\n",
    "print(f\"スピアマンの順位相関係数:{rs_val:.3f}\")\n",
    "\n",
    "# scipyのAPIを使用して算出した場合\n",
    "corr, pvalue = stats.spearmanr(x_val, y_val)\n",
    "print(f\"(stats.spearmanr)スピアマンの順位相関係数:{corr:.3f}\")"
   ]
  },
  {
   "attachments": {},
   "cell_type": "markdown",
   "metadata": {},
   "source": [
    "ケンドールの順位相関係数は、$x_i$と$x_j$、$y_i$と$y_j$の順位の大きさの順が一致している組の数と、逆のある組の数の差をみている。"
   ]
  },
  {
   "cell_type": "code",
   "execution_count": 11,
   "metadata": {},
   "outputs": [
    {
     "name": "stdout",
     "output_type": "stream",
     "text": [
      "ケンドールの順位相関係数:0.714\n",
      "(stats.kendalltau)ケンドールの順位相関係数:0.714\n"
     ]
    }
   ],
   "source": [
    "# ケンドールの順位相関係数を計算\n",
    "x_val = np.array([1., 2., 3., 4., 5., 6., 7.])\n",
    "y_val = np.array([1., 3., 2., 6., 4., 5., 7.])\n",
    "P_count = 0\n",
    "N_count = 0\n",
    "n = len(x_val)\n",
    "\n",
    "for i in range(len(x_val)):\n",
    "    for j in range(len(x_val)):\n",
    "        if i >= j:\n",
    "            continue\n",
    "        val = (x_val[i]-x_val[j])*(y_val[i]-y_val[j])\n",
    "        if val > 0:\n",
    "            P_count+=1\n",
    "        else:\n",
    "            N_count+=1\n",
    "\n",
    "rk_val = (P_count - N_count) / (n*(n-1)/2)\n",
    "print(f\"ケンドールの順位相関係数:{rk_val:.3f}\")\n",
    "\n",
    "# scipyのAPIを使用して算出した場合\n",
    "corr, pvalue = stats.kendalltau(x_val, y_val)\n",
    "print(f\"(stats.kendalltau)ケンドールの順位相関係数:{corr:.3f}\")"
   ]
  }
 ],
 "metadata": {
  "kernelspec": {
   "display_name": "Python 3.9.2 64-bit",
   "language": "python",
   "name": "python3"
  },
  "language_info": {
   "codemirror_mode": {
    "name": "ipython",
    "version": 3
   },
   "file_extension": ".py",
   "mimetype": "text/x-python",
   "name": "python",
   "nbconvert_exporter": "python",
   "pygments_lexer": "ipython3",
   "version": "3.11.1"
  },
  "orig_nbformat": 4,
  "vscode": {
   "interpreter": {
    "hash": "726ef1321fcd34e1bfe5e95996892c07db726849efbcd4abbb89e2457d1bbe6b"
   }
  }
 },
 "nbformat": 4,
 "nbformat_minor": 2
}

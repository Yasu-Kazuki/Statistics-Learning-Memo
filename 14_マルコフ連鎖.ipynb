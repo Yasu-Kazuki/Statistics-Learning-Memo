{
 "cells": [
  {
   "cell_type": "code",
   "execution_count": 1,
   "metadata": {},
   "outputs": [
    {
     "name": "stdout",
     "output_type": "stream",
     "text": [
      "天気予測結果：['sunny', 'rainy', 'sunny', 'sunny', 'sunny']\n"
     ]
    }
   ],
   "source": [
    "# マルコフ連載\n",
    "\n",
    "# 実数値確率変数の列X=Xn(n=0,1,2,...)と集合B⊂Rに対して、\n",
    "# P(Xn+1∈B|Xn,Xn-1,...,X1,X0) = P(Xn+1∈B|Xn) となるとき、\n",
    "# これを確率変数Xの「マルコフ性」といい、このような性質を持つXを「マルコフ連鎖」という\n",
    "# 要するに次の遷移の確率が完全に現在の状態にのみ依存し、それ以前の状態には依存しないことをいう\n",
    "# nを時間の変数とみなすとき、Xnは時点nのおける何らかの\"状態\"を表すと考え、\n",
    "# Xnがとる値の空間のことを「状態空間」ということがある\n",
    "# また、ある時点nからmステップ先の確率をmステップ「推移確率」といい、\n",
    "# 特にその確率が時点nによらないとき、マルコフ連鎖Xは「斉時的」であるという\n",
    "\n",
    "# 具体例(天気の予測)\n",
    "import numpy as np\n",
    "\n",
    "states = [\"sunny\", \"rainy\"]\n",
    "# S=sunny, R=rainnyでSSはsunny->sunnyとなる状態遷移\n",
    "transitions = [[\"SS\", \"SR\"],[\"RS\", \"RR\"]]\n",
    "# transitionsの各要素に対応する確率行列\n",
    "T = [[0.9, 0.1],[0.5, 0.5]]\n",
    "\n",
    "# 現在の天気\n",
    "today_weather = \"sunny\"\n",
    "\n",
    "# 予測したい日数\n",
    "forcast_days = 5\n",
    "\n",
    "# 現在の天気と上の遷移確率に基づいて推測\n",
    "weather_list = []\n",
    "n_days = 0\n",
    "prob = 1.0\n",
    "while n_days != forcast_days:\n",
    "    if today_weather == \"sunny\":\n",
    "        change = np.random.choice(transitions[0], p=T[0])\n",
    "        if change == \"SS\":\n",
    "            prob = prob * T[0][0]\n",
    "            weather_list.append(states[0])\n",
    "        else:\n",
    "            prob = prob * T[0][1]\n",
    "            weather_list.append(states[1])            \n",
    "    else:\n",
    "        change = np.random.choice(transitions[1], p=T[1])\n",
    "        if change == \"RS\":\n",
    "            prob = prob * T[1][0]\n",
    "            weather_list.append(states[0])\n",
    "        else:\n",
    "            prob = prob * T[1][1]\n",
    "            weather_list.append(states[1])        \n",
    "    n_days+=1\n",
    "\n",
    "print(f\"天気予測結果：{weather_list}\")"
   ]
  },
  {
   "cell_type": "code",
   "execution_count": 2,
   "metadata": {},
   "outputs": [
    {
     "name": "stdout",
     "output_type": "stream",
     "text": [
      "じゃんけんの推移確率行列：\n",
      "[[0.4 0.3 0.3]\n",
      " [0.6 0.1 0.3]\n",
      " [0.5 0.2 0.3]]\n"
     ]
    }
   ],
   "source": [
    "# 離散的で有限な状態空間\n",
    "\n",
    "# 応用上は、離散的な状態空間Sをもつ斉時的マルコフ連鎖が重要である\n",
    "# 特に状態空間が有限個の要素からなるとき、Xを「有限マルコフ連鎖」という\n",
    "# 以下、一般性を失うことなくS={x1,x2,...}とし、X=Xn(n=0,1,2,..)をS上の\n",
    "# 斉時的有限マルコフ連鎖とする。このとき、状態iから状態jへのmステップ推移確率を\n",
    "# pm(i,j) = P(Xn+m=j|Xn=i), i,j∈S とおく\n",
    "# これをi,j成分において作ったN*N行列Q(m)をマルコフ連鎖Xのmステップ「推移確率行列」という\n",
    "# また、任意の行列成分の和が1で、各成分が0以上となるものを「確率行列」という\n",
    "\n",
    "# 具体例(じゃんけんの推移確率行列(m=2))\n",
    "transition_matrix = np.zeros([3,3])\n",
    "\n",
    "# 0: rock, 1:scissors, 2:paper\n",
    "transition_matrix[0,0] = 0.4\n",
    "transition_matrix[0,1] = 0.3\n",
    "transition_matrix[0,2] = 0.3\n",
    "transition_matrix[1,0] = 0.6\n",
    "transition_matrix[1,1] = 0.1\n",
    "transition_matrix[1,2] = 0.3\n",
    "transition_matrix[2,0] = 0.5\n",
    "transition_matrix[2,1] = 0.2\n",
    "transition_matrix[2,2] = 0.3\n",
    "print(f\"じゃんけんの推移確率行列：\\n{transition_matrix}\")"
   ]
  },
  {
   "cell_type": "code",
   "execution_count": 3,
   "metadata": {},
   "outputs": [
    {
     "name": "stdout",
     "output_type": "stream",
     "text": [
      "Q(m+l):\n",
      "[[0.47488 0.22512 0.3    ]\n",
      " [0.4752  0.2248  0.3    ]\n",
      " [0.47504 0.22496 0.3    ]]\n",
      "\n",
      "Q(m)*Q(l) = (Q**m)*(Q**l):\n",
      "[[0.47488 0.22512 0.3    ]\n",
      " [0.4752  0.2248  0.3    ]\n",
      " [0.47504 0.22496 0.3    ]]\n"
     ]
    }
   ],
   "source": [
    "# 推移確率の性質\n",
    "\n",
    "# Xnに対して、pn(k):=P(Xn=k)(k∈S)と書くとき、\n",
    "# πn = (pn(1), pn(2),.,pn(N))なるN次元ベクトルを時点nにおけるXの「状態ベクトル」という\n",
    "# 特にπ0をXの「初期分布」という。また Σpn(k) = 1となる。\n",
    "# このように、成分の総和が1となるベクトルを「確率ベクトル」という\n",
    "# 推移確率行列と状態確率ベクトルについては以下が成り立つ\n",
    "# (1)任意の自然数l,mに対して、Q(m+l) = Q(m)*Q(l) = (Q**m)*(Q**l)\n",
    "# 任意のn=0,1,2,..に対して、πn = π0*(Q**n)\n",
    "\n",
    "# 具体例(じゃんけんの推移確率行列)\n",
    "m = 2\n",
    "l = 3\n",
    "\n",
    "m_transition_matrix = np.linalg.matrix_power(transition_matrix, m)\n",
    "l_transition_matrix = np.linalg.matrix_power(transition_matrix, l)\n",
    "\n",
    "# Q(m+l)\n",
    "ml_transition_matrix = np.linalg.matrix_power(transition_matrix, m+l)\n",
    "print(f\"Q(m+l):\\n{ml_transition_matrix}\\n\")\n",
    "\n",
    "# Q(m)*Q(l) = (Q**m)*(Q**l)\n",
    "ml_transition_matrix = np.dot(m_transition_matrix, l_transition_matrix)\n",
    "print(f\"Q(m)*Q(l) = (Q**m)*(Q**l):\\n{ml_transition_matrix}\")"
   ]
  },
  {
   "cell_type": "code",
   "execution_count": 4,
   "metadata": {},
   "outputs": [
    {
     "data": {
      "image/png": "[encoded data removed]",
      "text/plain": [
       "<Figure size 1728x432 with 4 Axes>"
      ]
     },
     "metadata": {
      "needs_background": "light"
     },
     "output_type": "display_data"
    }
   ],
   "source": [
    "# 定常分布\n",
    "\n",
    "# 状態確率ベクトルπnにおいてn→∞としたときの極値が存在する場合を考える\n",
    "# π:=lim πn このとき両辺でn→∞とすると、π = π*Qが成り立つ\n",
    "# πは行列Qの固有値1に対する左固有ベクトルである\n",
    "# この意味は、マルコフ連鎖Xの初期分布がπであったとすると、1回の推移によって\n",
    "# 状態変化しないということであり、長い時間のあと状態確率がπに収束してしまうと、\n",
    "# そのあと何回推移してもその状態確率は変化しない\n",
    "# このような状態確率をXの「定常分布」といい、初期状態が定常分布なマルコフ連鎖のことを\n",
    "# 「定常マルコフ連鎖」という\n",
    "\n",
    "# 具体例(じゃんけん)\n",
    "import matplotlib.pyplot as plt\n",
    "\n",
    "transition_matrix = np.zeros([3,3])\n",
    "\n",
    "# 0: rock, 1:scissors, 2:paper\n",
    "transition_matrix[0,0] = 0.4\n",
    "transition_matrix[0,1] = 0.3\n",
    "transition_matrix[0,2] = 0.3\n",
    "transition_matrix[1,0] = 0.6\n",
    "transition_matrix[1,1] = 0.1\n",
    "transition_matrix[1,2] = 0.3\n",
    "transition_matrix[2,0] = 0.5\n",
    "transition_matrix[2,1] = 0.2\n",
    "transition_matrix[2,2] = 0.3\n",
    "\n",
    "T = 1000 # 試行回数\n",
    "np.random.seed(1)\n",
    "\n",
    "# rockを初期状態として計算\n",
    "h_init = 0\n",
    "h_arr = [h_init]\n",
    "h = h_init\n",
    "for i in range(T):\n",
    "    h = np.random.choice(3,1,p=transition_matrix[h,:])[0]\n",
    "    h_arr.append(h)\n",
    "\n",
    "# グラフに描画\n",
    "hist1, bin1 = np.histogram(h_arr[:10],bins=np.arange(4),density=True)\n",
    "hist2, bin2 = np.histogram(h_arr[:100],bins=np.arange(4),density=True)\n",
    "hist3, bin3 = np.histogram(h_arr[:500],bins=np.arange(4),density=True)\n",
    "hist4, bin4 = np.histogram(h_arr[:T],bins=np.arange(4),density=True)\n",
    "\n",
    "plt.rcParams[\"font.size\"] = 20\n",
    "hands_label = ['rock','scissors','paper']\n",
    "\n",
    "plt.figure(figsize=(24,6))\n",
    "plt.subplot(1,4,1)\n",
    "plt.bar(hands_label,hist1)\n",
    "plt.ylim([0, 1])\n",
    "plt.title('10')\n",
    "\n",
    "plt.subplot(1,4,2)\n",
    "plt.bar(hands_label,hist2)\n",
    "plt.ylim([0, 1])\n",
    "plt.title('100')\n",
    "\n",
    "plt.subplot(1,4,3)\n",
    "plt.bar(hands_label,hist3)\n",
    "plt.ylim([0, 1])\n",
    "plt.title('500')\n",
    "\n",
    "plt.subplot(1,4,4)\n",
    "plt.bar(hands_label,hist4)\n",
    "plt.ylim([0, 1])\n",
    "plt.title('1000')\n",
    "\n",
    "plt.tight_layout()\n",
    "plt.show()\n",
    "\n",
    "# 回数を重ねるごとに分布の形の変化が小さくなっている=収束していることがわかる\n",
    "# 十分に時間が経過したとき、とりあえずグーを出し続ければ勝つ確率が高いと言える"
   ]
  },
  {
   "cell_type": "code",
   "execution_count": 5,
   "metadata": {},
   "outputs": [
    {
     "name": "stdout",
     "output_type": "stream",
     "text": [
      "定常分布π=:[0.475 0.225 0.3  ]\n"
     ]
    }
   ],
   "source": [
    "# 定常分布は、固有値1の固有ベクトルの和が1となるように規格化するとを求められる\n",
    "import numpy.linalg as LA\n",
    "\n",
    "w, v = LA.eig(transition_matrix.T)\n",
    "idx = np.argmin(np.abs(np.real(w)-1))\n",
    "w = np.real(v[:, idx]).T \n",
    "w /= np.sum(w)\n",
    "print(f\"定常分布π=:{w}\")"
   ]
  },
  {
   "cell_type": "code",
   "execution_count": 19,
   "metadata": {},
   "outputs": [
    {
     "name": "stdout",
     "output_type": "stream",
     "text": [
      "最尤推定値(Θ):0.07\n"
     ]
    },
    {
     "data": {
      "image/png": "[encoded data removed]",
      "text/plain": [
       "<Figure size 432x288 with 1 Axes>"
      ]
     },
     "metadata": {
      "needs_background": "light"
     },
     "output_type": "display_data"
    }
   ],
   "source": [
    "# 有限マルコフ連鎖のパラメータ推定\n",
    "\n",
    "# 推移行列Qが未知パラメータΘに依存しているとする\n",
    "# Xに関する観測データx0,x1,..,xnが与えられたとき、その実現確率は\n",
    "# P(X0=x0, X1=x1,..,Xn=xn) = p0(x0)*ΠpΘ(xj-1, xj) で与えられる\n",
    "# 従って、θの最尤推定値Θ'は以下の尤度方程式の解として求められる\n",
    "# ∂/∂Θln(Θ')=0\n",
    "# 独立で同一分布に従うようなマルコフ連鎖が複数観測される場合も同様に上記で求められる\n",
    "\n",
    "theta = 0 # 未知パラメータ\n",
    "\n",
    "q_matrix = np.zeros([3,3])\n",
    "\n",
    "# 0: A, 1:B, 2:C\n",
    "def update_q_matrix(param):\n",
    "    q_matrix[0,0] = 1-param\n",
    "    q_matrix[0,1] = param\n",
    "    q_matrix[0,2] = 0\n",
    "    q_matrix[1,0] = 0.1\n",
    "    q_matrix[1,1] = 0.9-param\n",
    "    q_matrix[1,2] = param\n",
    "    q_matrix[2,0] = 0\n",
    "    q_matrix[2,1] = 0.1\n",
    "    q_matrix[2,2] = 0.9\n",
    "\n",
    "a_num = 30\n",
    "b_num = 50\n",
    "c_num =10\n",
    "\n",
    "a2b = 5 # A→Bへの移動数\n",
    "b2c = 1 # B→Cへの移動数\n",
    "\n",
    "x_min = 0.0\n",
    "x_max = 0.5\n",
    "x_num = 100\n",
    "\n",
    "x = np.linspace(x_min, x_max, x_num) # 0<Θ<0.5\n",
    "retult_list = []\n",
    "for theta in x:\n",
    "    update_q_matrix(theta)\n",
    "    result = \\\n",
    "        (q_matrix[0,0]**(a_num-a2b))*(q_matrix[0,1]**a2b)*\\\n",
    "        (q_matrix[1,1]**(b_num-b2c))*(q_matrix[1,2]**b2c)*\\\n",
    "        (q_matrix[2,2]**c_num)\n",
    "    retult_list.append(result)\n",
    "\n",
    "print(f\"最尤推定値(Θ):{retult_list.index(max(retult_list))*x_max/x_num}\")\n",
    "plt.ylabel(\"likelihood\")\n",
    "plt.plot(x, retult_list)\n",
    "plt.show()"
   ]
  }
 ],
 "metadata": {
  "kernelspec": {
   "display_name": "Python 3.9.2 64-bit",
   "language": "python",
   "name": "python3"
  },
  "language_info": {
   "codemirror_mode": {
    "name": "ipython",
    "version": 3
   },
   "file_extension": ".py",
   "mimetype": "text/x-python",
   "name": "python",
   "nbconvert_exporter": "python",
   "pygments_lexer": "ipython3",
   "version": "3.9.2"
  },
  "orig_nbformat": 4,
  "vscode": {
   "interpreter": {
    "hash": "726ef1321fcd34e1bfe5e95996892c07db726849efbcd4abbb89e2457d1bbe6b"
   }
  }
 },
 "nbformat": 4,
 "nbformat_minor": 2
}

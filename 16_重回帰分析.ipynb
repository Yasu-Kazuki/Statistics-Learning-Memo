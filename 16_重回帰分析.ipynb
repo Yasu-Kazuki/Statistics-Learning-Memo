{
 "cells": [
  {
   "attachments": {},
   "cell_type": "markdown",
   "metadata": {},
   "source": [
    "# 重回帰分析\n",
    "\n",
    "目的変数$y$を説明変数$x_1, x_2, x_3, ..., x_d$の線形関数と定数項で説明するモデルのこと。\n",
    "$$\n",
    "y = B_0 + B_1x_1 + ... + B_dx_d + ε\n",
    "$$\n",
    "ただし、$B_1, B_2, ..., B_d\\in{R}$は各変数の$y$への影響を表現する**回帰係数**で、$B_0$は切片項にあたる。  \n",
    "また、$ε$は誤差項で平均0かつ分散$σ^2$とする。"
   ]
  },
  {
   "cell_type": "code",
   "execution_count": 27,
   "metadata": {},
   "outputs": [
    {
     "name": "stdout",
     "output_type": "stream",
     "text": [
      "予測結果：[12.83, 12.07, 12.61, 12.41, 13.95, 13.31, 11.94, 12.43, 12.45, 12.7, 12.31, 12.98, 13.73, 14.56, 12.71, 13.47, 13.35, 12.54, 12.83, 12.98, 13.62, 12.53, 13.31, 13.57, 13.28, 12.15, 12.69, 13.67, 12.8, 12.91, 13.53, 13.07, 12.77, 13.65, 12.01, 13.38, 12.21, 14.14, 13.33, 13.69, 12.64, 12.93, 13.04, 13.94, 13.67, 12.49, 12.77, 12.22, 12.12, 12.73, 12.95, 12.22, 14.1, 12.66, 13.26, 13.56, 12.56, 12.54, 12.63, 13.87, 12.47, 12.57, 13.51, 12.61, 12.51, 13.36, 13.32, 13.45, 12.31, 13.19, 13.35, 12.48, 12.05, 12.42, 12.91, 12.21, 13.37, 12.29]\n",
      "実際の値：[12.53, 12.37, 13.88, 12.25, 14.21, 13.32, 12.08, 12.77, 11.64, 12.88, 11.84, 13.68, 14.23, 14.19, 11.87, 13.56, 13.48, 12.37, 12.85, 11.96, 13.05, 12.07, 11.56, 13.75, 14.75, 12.42, 12.93, 13.76, 12.7, 11.45, 13.41, 13.36, 11.46, 13.9, 12.0, 13.71, 11.79, 14.38, 14.83, 12.25, 12.81, 12.96, 13.24, 13.27, 14.39, 11.84, 13.11, 12.29, 12.0, 12.2, 13.69, 12.6, 13.58, 12.34, 13.84, 13.71, 13.52, 12.43, 13.05, 14.06, 11.62, 13.34, 13.83, 12.21, 11.61, 14.16, 12.45, 14.1, 13.86, 12.36, 14.02, 12.86, 12.08, 12.29, 12.58, 12.08, 13.3, 12.52]\n"
     ]
    }
   ],
   "source": [
    "# wineデータセットで実践\n",
    "import pandas as pd\n",
    "from sklearn.datasets import load_wine\n",
    "from sklearn.linear_model import LinearRegression\n",
    "from sklearn.model_selection import train_test_split\n",
    "\n",
    "wine_data = load_wine()\n",
    "wine_df = pd.DataFrame(wine_data.data, columns=wine_data.feature_names)\n",
    "\n",
    "wine_df_train, wine_df_test = train_test_split(wine_df, train_size=100)\n",
    "\n",
    "x_train = wine_df_train.drop('alcohol', axis=1) # 説明変数x1, x2, x3,... ,xd\n",
    "y_train = wine_df_train['alcohol'] # 目的変数y\n",
    "\n",
    "x_test = wine_df_test.drop('alcohol', axis=1)\n",
    "y_test = wine_df_test['alcohol']\n",
    "\n",
    "model = LinearRegression()\n",
    "model.fit(x_train, y_train)\n",
    "pred_y = model.predict(x_test)\n",
    "\n",
    "print(f\"予測結果：{[round(pred_y[n], 2) for n in range(len(pred_y))]}\")\n",
    "print(f\"実際の値：{y_test.to_list()}\")\n"
   ]
  },
  {
   "attachments": {},
   "cell_type": "markdown",
   "metadata": {},
   "source": [
    "目的変数の変動を説明変数で説明できる部分とそれ以外の部分に分けることで、モデルの説明力を調べることができる。  \n",
    "**決定係数**$R^2$はこの考えを反映させたもので、\n",
    "$$\n",
    "R^2 = \\frac{\\sum_{i=1}^{n} ((x_i-\\bar{x})^T \\hat{\\beta}_{1:d})^2}{\\sum_{i=1}^{n} (y_i-\\bar{y})^2} = \\\n",
    "1-\\frac{\\sum_{i=1}^{n} (y_i-(1,x_i^T)^T \\hat{\\beta})^2}{\\sum_{i=1}^{n} (y_i-\\bar{y})^2}\n",
    "$$\n",
    "と定義される。要するに「$1-($回帰残差$)^2$の総和$/($偏差$)^2$の総和」である。決定係数が大きければそれだけデータのへの当てはまりが良いことを意味する。  \n",
    "なお、決定係数は変数を増やせば増やすほど増大するので、変数の数について調整した**自由度調整済み決定係数**を用いることが多い。  \n",
    "自由度調整済み決定係数$R^{*2}$は、\n",
    "$$\n",
    "R^{*2} = \\frac{\\sum_{i=1}^{n} (y_i-(1,x_i^T)^T \\hat{\\beta})^2/(n-d-1)}{\\sum_{i=1}^{n} (y_i-\\bar{y})^2/(n-1)} = \\\n",
    "1-(1-R^2)\\frac{n-1}{n-d-1}\n",
    "$$\n",
    "で定義される。"
   ]
  },
  {
   "cell_type": "code",
   "execution_count": 28,
   "metadata": {},
   "outputs": [
    {
     "name": "stdout",
     "output_type": "stream",
     "text": [
      "決定係数(r2):0.448\n",
      "自由度調整済み決定係数(r2):0.346\n"
     ]
    }
   ],
   "source": [
    "# 決定係数と自由度調整済み決定係数を算出\n",
    "from sklearn.metrics import r2_score\n",
    "\n",
    "r2 = r2_score(y_test, pred_y)\n",
    "print(f\"決定係数(r2):{round(r2,3)}\")\n",
    "\n",
    "def adj_r2_score(y_true, y_pred, n_dim):\n",
    "    y_true_list = y_true.tolist()\n",
    "    y_pred_list = y_pred.tolist()\n",
    "    data_size = len(y_true_list)\n",
    "\n",
    "    ysos = 0\n",
    "    rsos = 0\n",
    "    y_mean = sum(y_true_list)/len(y_true_list)\n",
    "    for i in range(data_size):\n",
    "        ysos += pow(y_true_list[i]-y_mean, 2)\n",
    "        residual = y_true_list[i] - y_pred_list[i]\n",
    "        rsos += pow(residual, 2)\n",
    "    return 1-(rsos/(data_size-n_dim-1))/(ysos/(data_size-1))\n",
    "\n",
    "adj_r2 = adj_r2_score(y_test, pred_y, len(x_test.columns))\n",
    "print(f\"自由度調整済み決定係数(r2):{round(adj_r2,3)}\")"
   ]
  },
  {
   "attachments": {},
   "cell_type": "markdown",
   "metadata": {},
   "source": [
    "# 重回帰分析の検定\n",
    "\n",
    "重回帰分析においては、変数の**有意性検定**が重要である。  \n",
    "たとえば、回帰変数$B_k$がゼロか非ゼロかを検定することにより、変数$x_k$が$y$に有意に影響しているかどうかがわかる。  \n",
    "これは推定結果の解釈に重要な示唆を与え、データ分析における強力な解析手法となりうる。  \n",
    "変数の有意性検定を一般化すると、以下のように記述できる。  \n",
    "ある$q<d+1$を満たす$q$に対し、行列$A \\in R^{q(d+1)}$は、ランクが$rank(A)=q$かつ像が$Im(A^T) \\subset Im(X^T)$を満たすとする。  \n",
    "このAを用いて、\n",
    "$$\n",
    "帰無仮説H_0：A\\beta=0、\\quad v.s \\quad\n",
    "対立仮説H_1：A\\beta≠0\n",
    "$$\n",
    "として書ける仮説検定を考える。  \n",
    "たとえば、$A=(0,0,...,1,0,..0)$のように$k+1$番目の成分のみが1のベクトルを考えれば、$A\\beta=0 \\leftrightarrow \\beta_k=0$となる。  \n",
    "このとき、$Θ_0=\\{\\beta \\in \\mathbb{R}^{d+1} | A\\beta=0\\}$として、\n",
    "$$\n",
    "R_0^2 = \\min_{\\beta \\in Θ_0}||Y-X\\beta||^2\n",
    "$$\n",
    "とおき、\n",
    "$$\n",
    "R_1^2 = \\min_{\\beta \\in \\mathbb{R}^{d+1}}||Y-X\\beta||^2\n",
    "$$\n",
    "とおく。  \n",
    "$R_0^2$は帰無仮説のもとで二乗損失がどれだけ小さくできるかを表し、$R_1^2$は対立仮説のもとで二乗損失がどれだけ小さくできるかを表す。  \n",
    "なお$R_1^2=||e||^2$であることには注意。  \n",
    "もし、$R_0^2$と$R_1^2$が大きく変わる場合は、帰無仮説は誤っているとして棄却すればよい。  \n",
    "そこで統計検定量として、\n",
    "$$\n",
    "T = \\frac{(R_0^2-R_1^2)/q}{R_1^2/(n-d-1)}\n",
    "$$\n",
    "を考える。すると帰無仮説のもと、\n",
    "$$\n",
    "T \\sim F(q, n-d-1)\n",
    "$$\n",
    "が成り立つ。なおTは統計量である"
   ]
  },
  {
   "cell_type": "code",
   "execution_count": 29,
   "metadata": {},
   "outputs": [
    {
     "data": {
      "text/plain": [
       "<class 'statsmodels.stats.contrast.ContrastResults'>\n",
       "<F test: F=8.694660789609067, p=1.3977043107417128e-09, df_denom=65, df_num=12>"
      ]
     },
     "execution_count": 29,
     "metadata": {},
     "output_type": "execute_result"
    }
   ],
   "source": [
    "# 回帰係数の検定を実行\n",
    "# A=(0,0,...,1,0,..0)(k+1番目の成分のみが1)とする\n",
    "import statsmodels.api as sm\n",
    "import numpy as np\n",
    "\n",
    "model = sm.OLS(y_test, sm.add_constant(x_test))\n",
    "result = model.fit()\n",
    "A = np.identity(len(result.params))\n",
    "A = A[1:,:]\n",
    "result.f_test(A)"
   ]
  },
  {
   "cell_type": "code",
   "execution_count": 30,
   "metadata": {},
   "outputs": [
    {
     "data": {
      "text/plain": [
       "<class 'statsmodels.stats.contrast.ContrastResults'>\n",
       "<F test: F=130.0730454268503, p=3.6889966903540655e-17, df_denom=65, df_num=1>"
      ]
     },
     "execution_count": 30,
     "metadata": {},
     "output_type": "execute_result"
    }
   ],
   "source": [
    "# 定数項の検定を実行\n",
    "# A=(1,0,...,0,0,..0)(1番目の成分のみが1)とする\n",
    "A = np.identity(len(result.params))\n",
    "A = A[0,:]\n",
    "result.f_test(A)"
   ]
  },
  {
   "attachments": {},
   "cell_type": "markdown",
   "metadata": {},
   "source": [
    "# 正則化\n",
    "\n",
    "重回帰分析では$X^TX$が可逆であることを仮定していたが、高次元データを扱う場合は必ずしもそうなるとは限らない。  \n",
    "そこで$X^TX$の条件数が悪い場合でも安定した推定を行うために**正則化**が有用である。  \n",
    "代表的な正則化手法としては、L1正則化とL2正則化がある。  \n",
    "L1正則化を用いた重回帰はLasso回帰、L2正則化を用いた重回帰はRidge回帰ともよばれる。  \n",
    "正則化を加えることで推定の分散を抑えることができる。  \n",
    "そのため、**学習データ**に合わせすぎて予測精度が悪くなる**過適合**を抑止することができる。  \n",
    "一方で正則化が強すぎると推定量が縮小しすぎて、予測精度が悪化する**過小適合**が発生する点に注意"
   ]
  },
  {
   "attachments": {},
   "cell_type": "markdown",
   "metadata": {},
   "source": [
    "L1正則化(Lasso回帰)では、正則化項としてのL1ノルムを使用。L1ノルムはベクトル成分の絶対値の和(マンハッタン距離と呼ばれる)である。  \n",
    "回帰係数$\\beta$のいくつかの成分は0(=**スパース**)になり、凸最適化によって変数選択が可能になる。"
   ]
  },
  {
   "cell_type": "code",
   "execution_count": 31,
   "metadata": {},
   "outputs": [
    {
     "name": "stdout",
     "output_type": "stream",
     "text": [
      "回帰係数\n",
      "                    variable      coef\n",
      "                  malic_acid  0.027706\n",
      "                         ash  0.000000\n",
      "           alcalinity_of_ash -0.000000\n",
      "                   magnesium  0.002435\n",
      "               total_phenols  0.000000\n",
      "                  flavanoids  0.000000\n",
      "        nonflavanoid_phenols -0.000000\n",
      "             proanthocyanins  0.000000\n",
      "             color_intensity  0.112084\n",
      "                         hue -0.000000\n",
      "od280/od315_of_diluted_wines  0.000000\n",
      "                     proline  0.001318\n",
      "決定係数(r2):0.49\n"
     ]
    },
    {
     "ename": "TypeError",
     "evalue": "'float' object is not callable",
     "output_type": "error",
     "traceback": [
      "\u001b[0;31m---------------------------------------------------------------------------\u001b[0m",
      "\u001b[0;31mTypeError\u001b[0m                                 Traceback (most recent call last)",
      "Cell \u001b[0;32mIn[31], line 18\u001b[0m\n\u001b[1;32m     15\u001b[0m \u001b[39mprint\u001b[39m(lasso_result_df\u001b[39m.\u001b[39mto_string(index\u001b[39m=\u001b[39m\u001b[39mFalse\u001b[39;00m))\n\u001b[1;32m     17\u001b[0m \u001b[39mprint\u001b[39m(\u001b[39mf\u001b[39m\u001b[39m\"\u001b[39m\u001b[39m決定係数(r2):\u001b[39m\u001b[39m{\u001b[39;00m\u001b[39mround\u001b[39m(r2_score(y_test,\u001b[39m \u001b[39mpred_y),\u001b[39m3\u001b[39m)\u001b[39m}\u001b[39;00m\u001b[39m\"\u001b[39m)\n\u001b[0;32m---> 18\u001b[0m \u001b[39mprint\u001b[39m(\u001b[39mf\u001b[39m\u001b[39m\"\u001b[39m\u001b[39m自由度調整済み決定係数(r2):\u001b[39m\u001b[39m{\u001b[39;00m\u001b[39mround\u001b[39m(adj_r2_score(y_test,\u001b[39m \u001b[39;49mpred_y,\u001b[39m \u001b[39;49m\u001b[39mlen\u001b[39;49m(x_test\u001b[39m.\u001b[39;49mcolumns)),\u001b[39m3\u001b[39m)\u001b[39m}\u001b[39;00m\u001b[39m\"\u001b[39m)\n",
      "\u001b[0;31mTypeError\u001b[0m: 'float' object is not callable"
     ]
    }
   ],
   "source": [
    "# Lasso回帰を実行\n",
    "from sklearn.linear_model import Lasso\n",
    "\n",
    "model = Lasso(alpha=0.1)\n",
    "\n",
    "# モデル学習と予測\n",
    "model.fit(x_train, y_train)\n",
    "pred_y = model.predict(x_test)\n",
    "\n",
    "lasso_result_df = pd.DataFrame({\n",
    "    \"variable\":x_train.columns,\n",
    "    \"coef\":model.coef_\n",
    "})\n",
    "print(\"回帰係数\")\n",
    "print(lasso_result_df.to_string(index=False))\n",
    "\n",
    "print(f\"決定係数(r2):{round(r2_score(y_test, pred_y),3)}\")\n",
    "print(f\"自由度調整済み決定係数(r2):{round(adj_r2_score(y_test, pred_y, len(x_test.columns)),3)}\")"
   ]
  },
  {
   "attachments": {},
   "cell_type": "markdown",
   "metadata": {},
   "source": [
    "L2正則化(Ridge回帰)では、正則化項としてのL2ノルムを使用。L2ノルムはベクトル成分の絶対値の和(ユークリッド距離と呼ばれる)である。  \n",
    "正則化パラメータを洗濯する基準として**Mallows' CP基準**がある"
   ]
  },
  {
   "cell_type": "code",
   "execution_count": null,
   "metadata": {},
   "outputs": [
    {
     "name": "stdout",
     "output_type": "stream",
     "text": [
      "回帰係数\n",
      "                    variable      coef\n",
      "                  malic_acid  0.135406\n",
      "                         ash -0.002799\n",
      "           alcalinity_of_ash -0.030554\n",
      "                   magnesium  0.002728\n",
      "               total_phenols -0.035880\n",
      "                  flavanoids  0.157312\n",
      "        nonflavanoid_phenols  0.151086\n",
      "             proanthocyanins -0.147887\n",
      "             color_intensity  0.147098\n",
      "                         hue -0.034982\n",
      "od280/od315_of_diluted_wines  0.105350\n",
      "                     proline  0.001052\n",
      "決定係数(r2):0.442\n",
      "自由度調整済み決定係数(r2):-0.005\n"
     ]
    }
   ],
   "source": [
    "# Ridge回帰を実行\n",
    "from sklearn.linear_model import Ridge\n",
    "\n",
    "model = Ridge(alpha=1.0)\n",
    "\n",
    "# モデル学習と予測\n",
    "model.fit(x_train, y_train)\n",
    "pred_y = model.predict(x_test)\n",
    "\n",
    "ridge_result_df = pd.DataFrame({\n",
    "    \"variable\":x_train.columns,\n",
    "    \"coef\":model.coef_\n",
    "})\n",
    "\n",
    "print(\"回帰係数\")\n",
    "print(ridge_result_df.to_string(index=False))\n",
    "\n",
    "print(f\"決定係数(r2):{round(r2_score(y_test, pred_y),3)}\")\n",
    "print(f\"自由度調整済み決定係数(r2):{round(adj_r2_score(y_test, pred_y, len(x_test.columns)),3)}\")"
   ]
  },
  {
   "attachments": {},
   "cell_type": "markdown",
   "metadata": {},
   "source": [
    "L1正則化とL2正則化を混ぜた**Elastic-Net**と呼ばれる手法もある。  \n",
    "2つの相関が強い変数があるとその2つの変数間で変数選択が安定しないL1正則化の欠点を克服。相関の高い両方の変数を用いる"
   ]
  },
  {
   "cell_type": "code",
   "execution_count": null,
   "metadata": {},
   "outputs": [
    {
     "name": "stdout",
     "output_type": "stream",
     "text": [
      "回帰係数\n",
      "                    variable      coef\n",
      "                  malic_acid  0.000000\n",
      "                         ash  0.000000\n",
      "           alcalinity_of_ash -0.000000\n",
      "                   magnesium  0.000000\n",
      "               total_phenols -0.000000\n",
      "                  flavanoids -0.000000\n",
      "        nonflavanoid_phenols  0.000000\n",
      "             proanthocyanins -0.000000\n",
      "             color_intensity  0.020215\n",
      "                         hue -0.000000\n",
      "od280/od315_of_diluted_wines -0.000000\n",
      "                     proline  0.001610\n",
      "決定係数(r2):0.299\n",
      "自由度調整済み決定係数(r2):-0.261\n"
     ]
    }
   ],
   "source": [
    "# Elastic-Netを実行\n",
    "from sklearn.linear_model import ElasticNet\n",
    "\n",
    "model = ElasticNet(alpha=1.0, l1_ratio=0.5) # l1_ratioはL1ノルムとL2ノルムの比率\n",
    "\n",
    "# モデル学習と予測\n",
    "model.fit(x_train, y_train)\n",
    "pred_y = model.predict(x_test)\n",
    "\n",
    "eln_result_df = pd.DataFrame({\n",
    "    \"variable\":x_train.columns,\n",
    "    \"coef\":model.coef_\n",
    "})\n",
    "\n",
    "print(\"回帰係数\")\n",
    "print(eln_result_df.to_string(index=False))\n",
    "\n",
    "print(f\"決定係数(r2):{round(r2_score(y_test, pred_y),3)}\")\n",
    "print(f\"自由度調整済み決定係数(r2):{round(adj_r2_score(y_test, pred_y, len(x_test.columns)),3)}\")"
   ]
  }
 ],
 "metadata": {
  "kernelspec": {
   "display_name": "Python 3",
   "language": "python",
   "name": "python3"
  },
  "language_info": {
   "codemirror_mode": {
    "name": "ipython",
    "version": 3
   },
   "file_extension": ".py",
   "mimetype": "text/x-python",
   "name": "python",
   "nbconvert_exporter": "python",
   "pygments_lexer": "ipython3",
   "version": "3.11.1"
  },
  "orig_nbformat": 4,
  "vscode": {
   "interpreter": {
    "hash": "949777d72b0d2535278d3dc13498b2535136f6dfe0678499012e853ee9abcab1"
   }
  }
 },
 "nbformat": 4,
 "nbformat_minor": 2
}

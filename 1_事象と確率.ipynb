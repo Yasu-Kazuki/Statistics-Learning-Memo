{
 "cells": [
  {
   "cell_type": "code",
   "execution_count": 1,
   "metadata": {},
   "outputs": [],
   "source": [
    "# 事象と確率について\n",
    "\n",
    "# 事象Aの確率をP(A)or Pr(A)とあらわす\n",
    "# Aの余事象とは「Aが起きない確率」のこと\n",
    "# 事象A,Bに対して「A,Bの両方が起きること」をA,Bの積事象\n",
    "# 「A,Bの少なくとも一方が起きること」をA,Bの和事象という\n",
    "# A,Bが背反でない場合には、P(A∪B)=P(A)+P(B)-P(A∩B)が成立する(包除原理)"
   ]
  },
  {
   "cell_type": "code",
   "execution_count": 2,
   "metadata": {},
   "outputs": [],
   "source": [
    "# 条件付き確率とベイズの定理について\n",
    "\n",
    "# Aが起きたという条件のもとでBが起きる条件付き確率をP(B|A)とあらわす\n",
    "# P(B|A)=P(A∩B)/P(A)と定義する。分母を払うとP(A∩B)=P(A)*P(B|A)と書ける\n",
    "# また、事象A,Bが独立である時は、P(A∩B) = P(A)*P(B)が成立する\n",
    "\n",
    "# 条件付き確率においてAとBの順序を変えると、P(A∩B)=P(B)*P(A|B)と書ける\n",
    "# これは以下のベイズの定理に対応している\n",
    "# P(A)*P(B|A)=P(B)*P(A|B) ⇔ P(A|B)=P(B|A)*P(A)/P(B)\n",
    "# P(A)をAの事前確率、P(A|B)を事後確率という"
   ]
  },
  {
   "cell_type": "code",
   "execution_count": 9,
   "metadata": {},
   "outputs": [
    {
     "name": "stdout",
     "output_type": "stream",
     "text": [
      "期待値：3.5\n",
      "分散：2.917\n",
      "分散2：2.917\n"
     ]
    }
   ],
   "source": [
    "# 期待値と分散について\n",
    "\n",
    "# 期待値\n",
    "import statistics\n",
    "\n",
    "x = [1,2,3,4,5,6] # 確率変数\n",
    "p_x = [1/6, 1/6, 1/6, 1/6, 1/6, 1/6] # 確率関数\n",
    "e_x =  0\n",
    "\n",
    "for i in range(len(x)):\n",
    "   e_x += x[i]*p_x[i]\n",
    "print(\"期待値：{}\".format(e_x))\n",
    "\n",
    "# 分散\n",
    "x_mean = statistics.mean(x)\n",
    "v_x = 0\n",
    "\n",
    "for i in range(len(x)):\n",
    "   v_x += ((x[i]-x_mean)**2)*p_x[i]\n",
    "print(\"分散：{:.3f}\".format(v_x))\n",
    "\n",
    "# 分散は以下の式でも求めることができる\n",
    "# V[x]=E[X**2]-E[X]**2\n",
    "e_x2 = 0\n",
    "for i in range(len(x)):\n",
    "   e_x2 += x[i]*x[i]*p_x[i]\n",
    "v_x = e_x2 - x_mean**2\n",
    "print(\"分散2：{:.3f}\".format(v_x))"
   ]
  }
 ],
 "metadata": {
  "kernelspec": {
   "display_name": "Python 3.8.8 ('base')",
   "language": "python",
   "name": "python3"
  },
  "language_info": {
   "codemirror_mode": {
    "name": "ipython",
    "version": 3
   },
   "file_extension": ".py",
   "mimetype": "text/x-python",
   "name": "python",
   "nbconvert_exporter": "python",
   "pygments_lexer": "ipython3",
   "version": "3.8.8"
  },
  "orig_nbformat": 4,
  "vscode": {
   "interpreter": {
    "hash": "7d28bff0bd80815fd32e014bdd91794edc49d99eeb8de38c8fa9a8cf519cb10b"
   }
  }
 },
 "nbformat": 4,
 "nbformat_minor": 2
}

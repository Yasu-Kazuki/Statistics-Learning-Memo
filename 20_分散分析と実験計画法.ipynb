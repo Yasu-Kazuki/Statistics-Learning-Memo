{
 "cells": [
  {
   "attachments": {},
   "cell_type": "markdown",
   "metadata": {},
   "source": [
    "# フィッシャーの三原則\n",
    "\n",
    "**実験計画法**とは、取り上げる対象についての結果とそれに影響しそうな要因との関係を調べるために、時間面、経済面などの制約を考慮しながら計画的な実験によりデータを得て、それらを解析し有益な情報を見出す一連の方法である。  \n",
    "また、分散分析はデータから実験で取り上げた変数の効果の有無の検定に用いる。  \n",
    "物理、化学などの科学的な精密さを求める実験では結果のばらつきの低減を目指すのに対し、数理統計学の力により種々の推論を行う。  \n",
    "結果とその要因の関係を定量的に推定するために、まず、結果を表現する指標を**応答**として設定する。  \n",
    "これを**特性**と呼ぶこともある。  \n",
    "応答に影響を及ぼすと思われる変数の中で、実験で取り上げるものを**因子**、因子について具体的な条件を**水準**とよぶ。  \n",
    "さらに、複数因子の水準によって決まるそれぞれの実験を**処理**とよぶこともある。  \n",
    "実験計画法の起源は、フィッシャーによる農場試験への適用である。  \n",
    "農場試験では結果に影響を与える変数が複数存在する。  \n",
    "また、これらの条件を一定に保つことは現実的に不可能なので、実験結果にばらつきが生じるので、このばらつきの中で条件をの中から良いものを見出す必要がある。  \n",
    "これらを背景に、フィッシャーは次の実験の3原則を示している。  \n",
    "1. 反復、繰り返し：誤差による変動の評価を可能にする。偶然誤差の大きさを評価することができる\n",
    "2. ランダム化：実験による変動以外を確率的な誤差に転化する。系統誤差を偶然誤差に取り込むことができる\n",
    "3. 局所管理：実験場全体での均一化が困難な場合に、局所的に均一な実験環境を準備。系統誤差を小さくすることができる\n",
    "\n",
    "なお3については、均一な実験の場が理想であるが、一般には実現が困難である。  \n",
    "そこで、実験の場を局所的に均一な場に分け、処理以外の影響を取り除く、このために取り上げる因子を**ブロック因子**とよぶ。"
   ]
  },
  {
   "attachments": {},
   "cell_type": "markdown",
   "metadata": {},
   "source": [
    "# 1元配置\n",
    "\n",
    "データ解析に際し、第$i$水準、第$j$繰り返しでのデータの$y_{ij}$について、\n",
    "$$\n",
    "y_{ij} \\sim N(μ(A_i), σ^2)\n",
    "$$\n",
    "とする$(i=1,...,n)$。  \n",
    "このモデルは、因子$A$の水準$i$によって平均$μ(A_i)$が決まり、$A_i$によらず共通の分散をもつ誤差を伴い測定していることを表す。  \n",
    "平均$μ(A_i)$を水準について平均化した$μ = \\sum_{i=1}^{a} μ(A_i)/a$を一般平均と呼ぶ。  \n",
    "因子の効果を$a_i=μ(A_i)-μ$のとおり一般平均の差とすると、上記の$y_{ij}$は次式となる。  \n",
    "$$\n",
    "y_{ij} = μ + a_i + \t\\varepsilon_{ij}, \\quad \t\\varepsilon_{ij} \\sim N(0, σ^2)\n",
    "$$\n",
    "効果に対する帰無仮説、対立仮説は、\n",
    "$$\n",
    "H0:a_1=...=a_α=0 \\quad vs \\quad H1:\"=\"が少なくとも一つは成り立たない\n",
    "$$\n",
    "であり、この検定には**分散分析**を用いる。  \n",
    "応答$y$について、全体の平均値$\\bar{y}$からの偏差について二乗和をとり、**総平方和**$S_T$を\n",
    "$$\n",
    "S_T = \\sum_{i=1}^{a} \\sum_{j=1}^{n} (y_{ij}-\\bar{y})^2\n",
    "$$\n",
    "とする。なお、この自由度$\\phi_T$は$an-1$である。  \n",
    "次に因子$A$の**水準間平方和**$S_A$を\n",
    "$$\n",
    "S_A = \\sum_{i=1}^{a} \\sum_{j=1}^{n}(\\bar{y}_{Ai}-\\bar{y})^2 = n \\sum_{i=1}^{a}(\\bar{y}_{A}-\\bar{y})^2 \n",
    "$$\n",
    "とする。水準ごとの平均$\\bar{y}_{A1},...,\\bar{y}_{Aa}$のばらつきが大きいほど$S_A$が大きくなる。  \n",
    "また、この平方和の自由度$\\phi_A$は$a-1$となる。  \n",
    "さらに**誤差平方和**$S_E$は、第$i$水準での誤差平方和は次式とする。\n",
    "$$\n",
    "S_E = \\sum_{i=1}^{a} \\sum_{j=1}^{n}(y_{ij} - \\bar{y}_{Ai})^2\n",
    "$$\n",
    "この自由度は$\\phi_E$は$a(n-1)$である。なお誤差平方和は**残差平方和**とよぶ場合もある。  \n",
    "平方和$S_A,S_E$を自由度$\\phi_A,\\phi_E$で除し、水準間の変動$V_A=S_A/\\phi_A$、誤差による変動$V_E=S_E/\\phi_E$を求める。  \n",
    "これらを分散、あるいは、**平均平方**とよぶ。  \n",
    "帰無仮説$H_0$が成り立つ場合には、$F=V_A/V_E$が自由度$(\\phi_A,\\phi_E)$の$F$分布に従う。  \n",
    "これから分散分析表の通り$F$値を求め、パーセント点と比較することで検定を行う。"
   ]
  },
  {
   "cell_type": "code",
   "execution_count": 1,
   "metadata": {},
   "outputs": [
    {
     "name": "stdout",
     "output_type": "stream",
     "text": [
      "データの個数:17, データ全体の平均値:16.176\n",
      "ST:40.471\n",
      "SA:21.471\n",
      "SE:19.000\n",
      "自由度ΦT:16, ΦA:3, ΦE:13\n",
      "F統計量:4.897\n",
      "95%点:3.411\n"
     ]
    }
   ],
   "source": [
    "# 分散分析を実践\n",
    "import numpy as np\n",
    "from scipy.stats import f\n",
    "\n",
    "# 実験結果(繰り返しj:3〜5回)\n",
    "Y = [\n",
    "    [15, 13, 15, 16, 14],  # 水準i=1\n",
    "    [18, 17, 16, 15, 18],  # 水準i=2\n",
    "    [19, 16, 17, 18],      # 水準i=3\n",
    "    [17, 15, 16]           # 水準i=4\n",
    "]\n",
    "\n",
    "# データ全体の平均値を求める\n",
    "n_instances = 0\n",
    "total = 0\n",
    "for y_A in Y:\n",
    "    n_instances += len(y_A)\n",
    "    total += sum(y_A)\n",
    "total_mean = total / n_instances\n",
    "print(f\"データの個数:{n_instances}, データ全体の平均値:{total_mean:.3f}\")\n",
    "\n",
    "# 総平方和を求める\n",
    "S_T = 0\n",
    "for i, y_A in enumerate(Y):\n",
    "    for j in range(len(y_A)):\n",
    "        S_T += (Y[i][j] - total_mean)**2\n",
    "print(f\"ST:{S_T:.3f}\")\n",
    "\n",
    "# 水準間平方和を求める\n",
    "means = []\n",
    "for y_A in Y:\n",
    "    mean_A = sum(y_A)/len(y_A)\n",
    "    means.append(mean_A)\n",
    "S_A = 0\n",
    "for i, mean_A in enumerate(means):\n",
    "    S_A += (mean_A - total_mean)**2 * len(Y[i])\n",
    "print(f\"SA:{S_A:.3f}\")\n",
    "\n",
    "# 誤差平方和を求める\n",
    "S_E = S_T - S_A\n",
    "print(f\"SE:{S_E:.3f}\")\n",
    "\n",
    "# 自由度を求める\n",
    "phi_T = n_instances - 1\n",
    "phi_A = len(Y) - 1\n",
    "phi_E = phi_T - phi_A\n",
    "print(f\"自由度ΦT:{phi_T}, ΦA:{phi_A}, ΦE:{phi_E}\")\n",
    "\n",
    "# F統計量を求める\n",
    "V_A = S_A / phi_A\n",
    "V_E = S_E / phi_E\n",
    "F = V_A / V_E\n",
    "print(f\"F統計量:{F:.3f}\")\n",
    "\n",
    "# F分布から棄却域を決定する\n",
    "f_distribution = f(phi_A, phi_E)\n",
    "print(f\"95%点:{f_distribution.ppf(0.95):.3f}\") # F≥3.411のため帰無仮説は棄却"
   ]
  },
  {
   "attachments": {},
   "cell_type": "markdown",
   "metadata": {},
   "source": [
    "# 2元配置\n",
    "\n",
    "因子$A,B$について、水準$A_i(i=1,..,,a)$, 水準$B_j(j=1,...,b)$による組み合わせのそれぞれで$n$回、全部で$abn$回の実験をランダムに実施する計画を**2元配置**、2因子要因計画とよぶ。  \n",
    "因子$A,B$の**主効果**$\\alpha_i,\\beta_j$と**交互作用**$(\\alpha \\beta)_{ij}$を含む次のモデルを用いる。\n",
    "$$\n",
    "y_{ijk} = μ + \\alpha_i + \\beta_j + (\\alpha \\beta)_{ij} + \t\\varepsilon_{ijk}\n",
    "$$\n",
    "交互作用とは複数因子の相乗的な効果を表し、1つの因子の効果がほかの因子の水準によって異なる度合いを示す。  \n",
    "主効果、交互作用の有無は、分散分析により検定する。"
   ]
  },
  {
   "cell_type": "code",
   "execution_count": 2,
   "metadata": {},
   "outputs": [
    {
     "data": {
      "image/png": "[encoded data removed]",
      "text/plain": [
       "<Figure size 640x480 with 1 Axes>"
      ]
     },
     "metadata": {},
     "output_type": "display_data"
    }
   ],
   "source": [
    "# stasmodelsを活用して実践\n",
    "import pandas as pd\n",
    "\n",
    "import statsmodels.api as sm\n",
    "import statsmodels.formula.api as smf\n",
    "from statsmodels.graphics.factorplots import interaction_plot\n",
    "\n",
    "# ハンバーガーについて、「味付け」が普通/辛口の２水準、「食感」が普通/クリスピーの２水準の評価データを作成\n",
    "taste = 2*(['chili' for _ in range(15)] + ['normal' for _ in range(15)])\n",
    "coating = ['crisp' for _ in range(30)] + ['normal' for _ in range(30)]\n",
    "hamburger_df = pd.DataFrame({'taste': taste, 'coating': coating,\n",
    "'score': [65,85,75,85,75,80,90,75,85,65,75,85,80,85,90,\n",
    "          65,70,80,75,70,60,65,70,85,60,65,75,70,80,75,\n",
    "          70,65,85,80,75,65,75,60,85,65,75,70,65,80,75,\n",
    "          70,70,85,80,65,75,65,85,80,60,70,75,70,80,85]})\n",
    "hamburger_df.groupby(['coating', 'taste']).describe().round(2)\n",
    "\n",
    "# 交互作用の確認\n",
    "fig = interaction_plot(hamburger_df.coating, \n",
    "    hamburger_df.taste, \n",
    "    hamburger_df.score, \n",
    "    colors=['red', 'blue'], ms=10)"
   ]
  },
  {
   "attachments": {},
   "cell_type": "markdown",
   "metadata": {},
   "source": [
    "交互作用を確認したところ、crisp * chiliの組み合わせがよさそう。"
   ]
  },
  {
   "cell_type": "code",
   "execution_count": 3,
   "metadata": {},
   "outputs": [
    {
     "data": {
      "text/html": [
       "<div>\n",
       "<style scoped>\n",
       "    .dataframe tbody tr th:only-of-type {\n",
       "        vertical-align: middle;\n",
       "    }\n",
       "\n",
       "    .dataframe tbody tr th {\n",
       "        vertical-align: top;\n",
       "    }\n",
       "\n",
       "    .dataframe thead th {\n",
       "        text-align: right;\n",
       "    }\n",
       "</style>\n",
       "<table border=\"1\" class=\"dataframe\">\n",
       "  <thead>\n",
       "    <tr style=\"text-align: right;\">\n",
       "      <th></th>\n",
       "      <th>sum_sq</th>\n",
       "      <th>df</th>\n",
       "      <th>F</th>\n",
       "      <th>PR(&gt;F)</th>\n",
       "    </tr>\n",
       "  </thead>\n",
       "  <tbody>\n",
       "    <tr>\n",
       "      <th>coating</th>\n",
       "      <td>50.42</td>\n",
       "      <td>1.0</td>\n",
       "      <td>0.84</td>\n",
       "      <td>0.36</td>\n",
       "    </tr>\n",
       "    <tr>\n",
       "      <th>taste</th>\n",
       "      <td>183.75</td>\n",
       "      <td>1.0</td>\n",
       "      <td>3.05</td>\n",
       "      <td>0.09</td>\n",
       "    </tr>\n",
       "    <tr>\n",
       "      <th>coating:taste</th>\n",
       "      <td>400.42</td>\n",
       "      <td>1.0</td>\n",
       "      <td>6.65</td>\n",
       "      <td>0.01</td>\n",
       "    </tr>\n",
       "    <tr>\n",
       "      <th>Residual</th>\n",
       "      <td>3370.00</td>\n",
       "      <td>56.0</td>\n",
       "      <td>NaN</td>\n",
       "      <td>NaN</td>\n",
       "    </tr>\n",
       "  </tbody>\n",
       "</table>\n",
       "</div>"
      ],
      "text/plain": [
       "                sum_sq    df     F  PR(>F)\n",
       "coating          50.42   1.0  0.84    0.36\n",
       "taste           183.75   1.0  3.05    0.09\n",
       "coating:taste   400.42   1.0  6.65    0.01\n",
       "Residual       3370.00  56.0   NaN     NaN"
      ]
     },
     "execution_count": 3,
     "metadata": {},
     "output_type": "execute_result"
    }
   ],
   "source": [
    "# 2元配置分散分析の実行\n",
    "twoway_anova = smf.ols(formula='score ~ coating + taste + coating*taste', data=hamburger_df).fit()\n",
    "sm.stats.anova_lm(twoway_anova, typ=2).round(2)"
   ]
  },
  {
   "attachments": {},
   "cell_type": "markdown",
   "metadata": {},
   "source": [
    "上記の分散分析表より、以下の結果となる\n",
    "- coating（食感）による違いは有意差なし\n",
    "- taste（味付け）による違いは有意差なし\n",
    "- 交互作用による違いは有意差あり"
   ]
  },
  {
   "attachments": {},
   "cell_type": "markdown",
   "metadata": {},
   "source": [
    "# 乱塊法:ブロック因子の導入\n",
    "\n",
    "たとえば、\n",
    "応答に影響を与えるがその効果に興味がないものをブロック因子と呼ぶ。  \n",
    "Ex, 実験日、実験場、作業者、ロットなど  \n",
    "また、ブロック因子を導入する実験計画を**乱塊法**とよぶ。  \n",
    "フィッシャーの局所管理の原則に基づきブロック因子の影響を取り除くと、他の因子の効果が検出されやすくなる。  "
   ]
  },
  {
   "attachments": {},
   "cell_type": "markdown",
   "metadata": {},
   "source": [
    "たとえば4種類の小麦$A_1,...,A_4$について、5つの農場試験場$B_1,...,B_5$のそれぞれで収穫量$y$を測定する。  \n",
    "このとき5つの試験場のそれぞれで、水準$A_1,...,A_4$の一揃いをランダムな順序で実験する。  \n",
    "このときの農場試験場$B_1,...,B_5$がブロック因子に該当する。  \n",
    "\n",
    "| 種/試験場 | $B_1$ | $B_2$ | $B_3$ | $B_4$ | $B_5$ |\n",
    "| :---: | :---: | :---: | :---: | :---: | :---: |\n",
    "| $A_1$ | 5.2 | 12.3 | 7.1 | 20.5 | 9.4 |\n",
    "| $A_2$ | 3.8 | 11.3 | 7.2 | 18.5 | 9.0 |\n",
    "| $A_3$ | 7.2 | 15.3 | 10.6 | 25.3 | 11.1 |\n",
    "| $A_4$ | 3.5 | 10.2 | 8.5 | 20.2 | 10.7 |\n",
    "\n",
    "上記の表のデータについて分散分析を行うと、因子$A$、因子$B$ともに効果があることがわかる。  \n",
    "\n",
    "| 要因 | $S$ | $\\phi$ | $V$ | $F$ | $p$ |\n",
    "| :---: | :---: | :---: | :---: | :---: | :---: |\n",
    "| $A$ | 48.850 | 3 | 15.283 | 13.394 | <0.001 |\n",
    "| $B$ | 593.507 | 4 | 148.377 | 130.031 | <0.001 |\n",
    "| 誤差 | 13.693 | 12 | 1.141 |  |  |\n",
    "| 合計 | 653.050 | 19 | 8.5 |  |  |\n",
    "\n",
    "一方このデータについて、ブロック因子を導入せずに一元配置分散分析を実行すると、因子$B$による変動を誤差平方和に含めることになり、因子の効果が見いだせなくなる。  \n",
    "このように、ブロック因子のよる変動が大きい場合には、これを誤差平方和から分離したほうが他の因子の効果が検出しやすくなる。  \n",
    "逆に、ブロック因子による変動がほとんどない場合に、これを誤差平方和から分離すると、誤差平方和の自由度が小さくなることから誤差分散が大きくなり、他の因子の効果が検出しにくくなる。  \n",
    "ただし、ある程度の誤差の自由度がある場合には、自由度の減少による検出力の低下は実質的に少なくなるので、積極的にブロック因子を導入するのがよい。"
   ]
  },
  {
   "attachments": {},
   "cell_type": "markdown",
   "metadata": {},
   "source": [
    "# 直行表による一部実施要因計画\n",
    "\n",
    "複数因子のすべての水準組み合わせを実施する計画を要要因計画と、また、その一部を実施する計画を**一部実施要因計画**と呼ぶ。  \n",
    "一部実施要因計画を実施するためのテンプレートが**直交表**である。  \n",
    "直交表を用いて実験を行うには、直行表の列に因子を対応させて実験の水準組み合わせを決める必要がある。  \n",
    "このことを直行表の列に対する因子の**割付け**とよぶ。"
   ]
  }
 ],
 "metadata": {
  "kernelspec": {
   "display_name": "Python 3",
   "language": "python",
   "name": "python3"
  },
  "language_info": {
   "codemirror_mode": {
    "name": "ipython",
    "version": 3
   },
   "file_extension": ".py",
   "mimetype": "text/x-python",
   "name": "python",
   "nbconvert_exporter": "python",
   "pygments_lexer": "ipython3",
   "version": "3.11.1"
  },
  "orig_nbformat": 4,
  "vscode": {
   "interpreter": {
    "hash": "949777d72b0d2535278d3dc13498b2535136f6dfe0678499012e853ee9abcab1"
   }
  }
 },
 "nbformat": 4,
 "nbformat_minor": 2
}

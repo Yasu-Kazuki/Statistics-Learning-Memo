{
 "cells": [
  {
   "cell_type": "code",
   "execution_count": 1,
   "metadata": {},
   "outputs": [],
   "source": [
    "# フィッシャーの三原則\n",
    "\n",
    "# 「実験計画法」とは、取り上げる対象についての結果とそれに影響しそうな要因との関係を調べるために、\n",
    "# 時間面、経済面などの制約を考慮しながら計画的な実験によりデータを得て、それらを解析し有益な情報を見出す一連の方法である。\n",
    "# また、分散分析はデータから実験で取り上げた変数の効果の有無の検定に用いる。\n",
    "# 物理、化学などの科学的な精密さを求める実験では結果のばらつきの低減を目指すのに対し、\n",
    "# 数理統計学の力により種々の推論を行う\n",
    "# 結果とその要因の関係を定量的に推定するために、まず、結果を表現する指標を「応答」として設定する\n",
    "# これを「特性」と呼ぶこともある。応答に影響を及ぼすと思われる変数の中で、実験で取り上げるものを「因子」、\n",
    "# 「因子」について具体的な条件を「水準」とよぶ。さらに、複数因子の水準によって決まるそれぞれの実験を「処理」とよぶこともある。\n",
    "# 実験計画法の起源は、フィッシャーによる農場試験への適用である。\n",
    "# 農場試験では結果に影響を与える変数が複数存在する。また、これらの条件を一定に保つことは現実的に不可能なので、\n",
    "# 実験結果にばらつきが生じるので、このばらつきの中で条件をの中から良いものを見出す必要がある。\n",
    "# これらを背景に、フィッシャーは次の実験の3原則を示している。\n",
    "# (1)反復、繰り返し：誤差による変動の評価を可能にする。偶然誤差or系統誤差の判別\n",
    "# (2)ランダム化：実験による変動以外を確率的な誤差に転化する\n",
    "# (3)局所管理：実験場全体での均一化が困難な場合に、局所的に均一な実験環境を準備"
   ]
  },
  {
   "cell_type": "code",
   "execution_count": 9,
   "metadata": {},
   "outputs": [
    {
     "name": "stdout",
     "output_type": "stream",
     "text": [
      "データの個数:17, データ全体の平均値:16.176\n",
      "ST:40.471\n",
      "SA:21.471\n",
      "SE:19.000\n",
      "自由度ΦT:16, ΦA:3, ΦE:13\n",
      "F統計量:4.897\n",
      "95%点:3.411\n"
     ]
    }
   ],
   "source": [
    "# 1元配置\n",
    "\n",
    "# データ解析に際し、第i水準、第j繰り返しでのデータのyijについて、\n",
    "# yij~N(μ(Ai), σ**2) とする(i=1,..,n)。このモデルは、因子Aの水準iによって平均μ(Ai)が決まり、\n",
    "# Aiによらず共通の分散をもつ誤差を伴い測定していることを表す\n",
    "# 平均μ(Ai)を水準について平均化したμ=Σμ(Ai)/aを一般平均と呼ぶ\n",
    "# 因子の効果をai=μ(Ai)-μのとおり一般平均の差とすると、上記のyijは次式となる\n",
    "# yij = μ+ai+εij, εij~N(0, σ**2)\n",
    "# 効果に対する帰無仮説、対立仮説は、H0:a1=..=aα=0 vs H1:\"=\"が少なくとも一つは成り立たない \n",
    "# であり、この検定には「分散分析」を用いる。\n",
    "# 応答yについて、全体の平均値y_barからの偏差について二乗和をとり、「総平方和」STを\n",
    "# ST = ΣΣ(yij-y_bar)**2 とする。なお、この自由度ΦTはan-1である\n",
    "# 次に因子Aの「水準間平方和」SAを\n",
    "# SA = ΣΣ(yAi_bar-y_bar)**2 = n*Σ(yA_bar-y_bar)**2 とする\n",
    "# 水準ごとの平均yA1_bar,..,yAa_barのばらつきが大きいほどSAが大きくなる。\n",
    "# また、この平方和の自由度ΦAはa-1となる\n",
    "# さらに「誤差平方和」SEは、第i水準での誤差平方和は次式とする\n",
    "# SE = ΣΣ(yij-yAi_bar)**2\n",
    "# この自由度はΦEはa*(n-1)である。なお誤差平方和は「残差平方和」とよぶ場合もある。\n",
    "# 平方和SA,SEを自由度ΦA,ΦEで除し、水準間の変動VA=SA/ΦA、誤差による変動VE=SE/ΦEを求める\n",
    "# これらを分散、あるいは、「平均平方」とよぶ\n",
    "# 帰無仮説H0が成り立つ場合には、F=VA/VE が自由度(ΦA,ΦE)のF分布に従う。\n",
    "# これから分散分析表の通りF値を求め、パーセント点と比較することで検定を行う\n",
    "\n",
    "import numpy as np\n",
    "from scipy.stats import f\n",
    "\n",
    "# 実験結果(繰り返しj:3〜5回)\n",
    "Y = [\n",
    "    [15, 13, 15, 16, 14],  # 水準i=1\n",
    "    [18, 17, 16, 15, 18],  # 水準i=2\n",
    "    [19, 16, 17, 18],      # 水準i=3\n",
    "    [17, 15, 16]           # 水準i=4\n",
    "]\n",
    "\n",
    "# データ全体の平均値を求める\n",
    "n_instances = 0\n",
    "total = 0\n",
    "for y_A in Y:\n",
    "    n_instances += len(y_A)\n",
    "    total += sum(y_A)\n",
    "total_mean = total / n_instances\n",
    "print(f\"データの個数:{n_instances}, データ全体の平均値:{total_mean:.3f}\")\n",
    "\n",
    "# 総平方和を求める\n",
    "S_T = 0\n",
    "for i, y_A in enumerate(Y):\n",
    "    for j in range(len(y_A)):\n",
    "        S_T += (Y[i][j] - total_mean)**2\n",
    "print(f\"ST:{S_T:.3f}\")\n",
    "\n",
    "# 水準間平方和を求める\n",
    "means = []\n",
    "for y_A in Y:\n",
    "    mean_A = sum(y_A)/len(y_A)\n",
    "    means.append(mean_A)\n",
    "S_A = 0\n",
    "for i, mean_A in enumerate(means):\n",
    "    S_A += (mean_A - total_mean)**2 * len(Y[i])\n",
    "print(f\"SA:{S_A:.3f}\")\n",
    "\n",
    "# 誤差平方和を求める\n",
    "S_E = S_T - S_A\n",
    "print(f\"SE:{S_E:.3f}\")\n",
    "\n",
    "# 自由度を求める\n",
    "phi_T = n_instances - 1\n",
    "phi_A = len(Y) - 1\n",
    "phi_E = phi_T - phi_A\n",
    "print(f\"自由度ΦT:{phi_T}, ΦA:{phi_A}, ΦE:{phi_E}\")\n",
    "\n",
    "# F統計量を求める\n",
    "V_A = S_A / phi_A\n",
    "V_E = S_E / phi_E\n",
    "F = V_A / V_E\n",
    "print(f\"F統計量:{F:.3f}\")\n",
    "\n",
    "# F分布から棄却域を決定する\n",
    "f_distribution = f(phi_A, phi_E)\n",
    "print(f\"95%点:{f_distribution.ppf(0.95):.3f}\") # F≥3.411のため帰無仮説は棄却"
   ]
  },
  {
   "cell_type": "code",
   "execution_count": 14,
   "metadata": {},
   "outputs": [
    {
     "data": {
      "image/png": "[encoded data removed]",
      "text/plain": [
       "<Figure size 432x288 with 1 Axes>"
      ]
     },
     "metadata": {
      "needs_background": "light"
     },
     "output_type": "display_data"
    }
   ],
   "source": [
    "# 2元配置\n",
    "\n",
    "# 因子A,Bについて、水準Ai(i=1,..,a), 水準Bj(j=1,..,b)による組み合わせのそれぞれでn回、\n",
    "# 全部でa*b*n回の実験をランダムに実施する計画を「2元配置」、2因子要因計画とよぶ。\n",
    "# 因子A,Bの「主効果」ai,bjと「交互作用」(ab)ijを含む次のモデルを用いる\n",
    "# yijk = μ + ai + bi +(ab)ij + εijk\n",
    "# 交互作用とは複数因子の相乗的な効果を表し、1つの因子の効果がほかの因子の水準によって異なる度合いを示す\n",
    "# 主効果、交互作用の有無は、分散分析により検定する\n",
    "\n",
    "# stasmodelsを活用して実行\n",
    "import pandas as pd\n",
    "\n",
    "import statsmodels.api as sm\n",
    "import statsmodels.formula.api as smf\n",
    "from statsmodels.graphics.factorplots import interaction_plot\n",
    "\n",
    "# ハンバーガーについて、「味付け」が普通/辛口の２水準、「食感」が普通/クリスピーの２水準の評価データを作成\n",
    "taste = 2*(['chili' for _ in range(15)] + ['normal' for _ in range(15)])\n",
    "coating = ['crisp' for _ in range(30)] + ['normal' for _ in range(30)]\n",
    "hamburger_df = pd.DataFrame({'taste': taste, 'coating': coating,\n",
    "'score': [65,85,75,85,75,80,90,75,85,65,75,85,80,85,90,\n",
    "          65,70,80,75,70,60,65,70,85,60,65,75,70,80,75,\n",
    "          70,65,85,80,75,65,75,60,85,65,75,70,65,80,75,\n",
    "          70,70,85,80,65,75,65,85,80,60,70,75,70,80,85]})\n",
    "hamburger_df.groupby(['coating', 'taste']).describe().round(2)\n",
    "\n",
    "# 交互作用の確認\n",
    "fig = interaction_plot(hamburger_df.coating, \n",
    "    hamburger_df.taste, \n",
    "    hamburger_df.score, \n",
    "    colors=['red', 'blue'], ms=10) # crisp * chiliの組み合わせは良い\n"
   ]
  },
  {
   "cell_type": "code",
   "execution_count": 15,
   "metadata": {},
   "outputs": [
    {
     "data": {
      "text/html": [
       "<div>\n",
       "<style scoped>\n",
       "    .dataframe tbody tr th:only-of-type {\n",
       "        vertical-align: middle;\n",
       "    }\n",
       "\n",
       "    .dataframe tbody tr th {\n",
       "        vertical-align: top;\n",
       "    }\n",
       "\n",
       "    .dataframe thead th {\n",
       "        text-align: right;\n",
       "    }\n",
       "</style>\n",
       "<table border=\"1\" class=\"dataframe\">\n",
       "  <thead>\n",
       "    <tr style=\"text-align: right;\">\n",
       "      <th></th>\n",
       "      <th>sum_sq</th>\n",
       "      <th>df</th>\n",
       "      <th>F</th>\n",
       "      <th>PR(&gt;F)</th>\n",
       "    </tr>\n",
       "  </thead>\n",
       "  <tbody>\n",
       "    <tr>\n",
       "      <th>coating</th>\n",
       "      <td>50.42</td>\n",
       "      <td>1.0</td>\n",
       "      <td>0.84</td>\n",
       "      <td>0.36</td>\n",
       "    </tr>\n",
       "    <tr>\n",
       "      <th>taste</th>\n",
       "      <td>183.75</td>\n",
       "      <td>1.0</td>\n",
       "      <td>3.05</td>\n",
       "      <td>0.09</td>\n",
       "    </tr>\n",
       "    <tr>\n",
       "      <th>coating:taste</th>\n",
       "      <td>400.42</td>\n",
       "      <td>1.0</td>\n",
       "      <td>6.65</td>\n",
       "      <td>0.01</td>\n",
       "    </tr>\n",
       "    <tr>\n",
       "      <th>Residual</th>\n",
       "      <td>3370.00</td>\n",
       "      <td>56.0</td>\n",
       "      <td>NaN</td>\n",
       "      <td>NaN</td>\n",
       "    </tr>\n",
       "  </tbody>\n",
       "</table>\n",
       "</div>"
      ],
      "text/plain": [
       "                sum_sq    df     F  PR(>F)\n",
       "coating          50.42   1.0  0.84    0.36\n",
       "taste           183.75   1.0  3.05    0.09\n",
       "coating:taste   400.42   1.0  6.65    0.01\n",
       "Residual       3370.00  56.0   NaN     NaN"
      ]
     },
     "execution_count": 15,
     "metadata": {},
     "output_type": "execute_result"
    }
   ],
   "source": [
    "# 2元配置分散分析の実行\n",
    "twoway_anova = smf.ols(formula='score ~ coating + taste + coating*taste', data=hamburger_df).fit()\n",
    "sm.stats.anova_lm(twoway_anova, typ=2).round(2)\n",
    "\n",
    "# 分散分析表より\n",
    "# coating（食感）による違いは有意差なし\n",
    "# taste（味付け）による違いは有意差なし\n",
    "# 交互作用による違いは有意差あり"
   ]
  },
  {
   "cell_type": "code",
   "execution_count": 16,
   "metadata": {},
   "outputs": [],
   "source": [
    "# 乱塊法:ブロック因子の導入\n",
    "\n",
    "# 応答に影響を与えるがその効果に興味がないものをブロック因子と呼ぶ\n",
    "# また、ブロック因子を導入する実験計画を「乱塊法」とよぶ\n",
    "# フィッシャーの局所管理の原則に基づきブロック因子の影響を取り除くと、他の因子の効果が検出されやすくなる"
   ]
  },
  {
   "cell_type": "code",
   "execution_count": 16,
   "metadata": {},
   "outputs": [],
   "source": [
    "# 直行表による一部実施要因計画\n",
    "\n",
    "# 複数因子のすべての水準組み合わせを実施する計画を要要因計画と、\n",
    "# また、その一部を実施する計画を「一部実施要因計画」と呼ぶ。\n",
    "# 一部実施要因計画を実施するためのテンプレートが「直交表」である。\n",
    "# 直交表を用いて実験を行うには、直行表の列に因子を対応させて実験の水準組み合わせを\n",
    "# 決める必要がある。このことを直行表の列に対する因子の「割付け」とよぶ"
   ]
  }
 ],
 "metadata": {
  "kernelspec": {
   "display_name": "Python 3",
   "language": "python",
   "name": "python3"
  },
  "language_info": {
   "codemirror_mode": {
    "name": "ipython",
    "version": 3
   },
   "file_extension": ".py",
   "mimetype": "text/x-python",
   "name": "python",
   "nbconvert_exporter": "python",
   "pygments_lexer": "ipython3",
   "version": "3.9.2"
  },
  "orig_nbformat": 4,
  "vscode": {
   "interpreter": {
    "hash": "726ef1321fcd34e1bfe5e95996892c07db726849efbcd4abbb89e2457d1bbe6b"
   }
  }
 },
 "nbformat": 4,
 "nbformat_minor": 2
}

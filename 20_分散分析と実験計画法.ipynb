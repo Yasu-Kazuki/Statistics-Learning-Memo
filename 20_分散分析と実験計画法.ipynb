{
 "cells": [
  {
   "cell_type": "code",
   "execution_count": 1,
   "metadata": {},
   "outputs": [],
   "source": [
    "# フィッシャーの三原則とは\n",
    "# 実験で取り上げる対象についての結果と要因を見出すための三原則のこと\n",
    "# (1)反復、繰り返し：誤差による変動の評価を可能にする。偶然誤差or系統誤差の判別\n",
    "# (2)ランダム化：実験による変動以外を確率的な誤差に転化する\n",
    "# (3)局所管理：実験場全体での均一化が困難な場合に、局所的に均一な実験環境を準備"
   ]
  },
  {
   "cell_type": "code",
   "execution_count": 5,
   "metadata": {},
   "outputs": [
    {
     "name": "stdout",
     "output_type": "stream",
     "text": [
      "データの個数: 17\n",
      "データ全体の平均値: 16.176470588235293\n",
      "S_T = 40.47058823529411\n",
      "S_A = 21.47058823529413\n",
      "S_E = 18.99999999999998\n",
      "16 3 13\n",
      "F = 4.896800825593403\n"
     ]
    },
    {
     "data": {
      "text/plain": [
       "3.4105336446278476"
      ]
     },
     "execution_count": 5,
     "metadata": {},
     "output_type": "execute_result"
    }
   ],
   "source": [
    "# 1元配置分散分析\n",
    "# 1つの因子の異なる水準が特性値の平均にもたらす差の有無を調べる分析手法。\n",
    "# 分散の分析ではなく、分散を用いた平均値の分析\n",
    "# 帰無仮説H0：各水準の母平均は等しい\n",
    "# 対立仮説H0：少なくとも一つの水準について母平均が異なる\n",
    "\n",
    "import numpy as np\n",
    "from scipy.stats import f\n",
    "\n",
    "# 実験結果(繰り返し3〜5回)\n",
    "Y = [\n",
    "    [15, 13, 15, 16, 14],  # lev1\n",
    "    [18, 17, 16, 15, 18],  # lev2\n",
    "    [19, 16, 17, 18],      # lev3\n",
    "    [17, 15, 16]           # lev4\n",
    "]\n",
    "\n",
    "# データ全体の平均値を求める\n",
    "n_instances = 0\n",
    "total = 0\n",
    "for y_A in Y:\n",
    "    n_instances += len(y_A)\n",
    "    total += sum(y_A)\n",
    "total_mean = total / n_instances\n",
    "print('データの個数: {}\\nデータ全体の平均値: {}'.format(n_instances, total_mean))\n",
    "\n",
    "# 総平方和を求める\n",
    "S_T = 0\n",
    "for i, y_A in enumerate(Y):\n",
    "    for j in range(len(y_A)):\n",
    "        S_T += (Y[i][j] - total_mean)**2\n",
    "print('S_T = {}'.format(S_T))\n",
    "\n",
    "# 水準間平方和を求める\n",
    "means = []\n",
    "for y_A in Y:\n",
    "    mean_A = sum(y_A)/len(y_A)\n",
    "    means.append(mean_A)\n",
    "S_A = 0\n",
    "for i, mean_A in enumerate(means):\n",
    "    S_A += (mean_A - total_mean)**2 * len(Y[i])\n",
    "print('S_A = {}'.format(S_A))\n",
    "\n",
    "# 誤差平方和を求める\n",
    "S_E = S_T - S_A\n",
    "print('S_E = {}'.format(S_E))\n",
    "\n",
    "# 自由度を求める\n",
    "phi_T = n_instances - 1\n",
    "phi_A = len(Y) - 1\n",
    "phi_E = phi_T - phi_A\n",
    "print(phi_T, phi_A, phi_E)\n",
    "\n",
    "# F統計量を求める\n",
    "V_A = S_A / phi_A\n",
    "V_E = S_E / phi_E\n",
    "F = V_A / V_E\n",
    "print('F = {}'.format(F))\n",
    "\n",
    "# F分布から棄却域を決定する\n",
    "f_distribution = f(phi_A, phi_E)\n",
    "f_distribution.ppf(0.95) # F≥3.411のため帰無仮説は棄却。すなわち、「水準間の母平均には違いがあるといえる」と結論。\n"
   ]
  },
  {
   "cell_type": "code",
   "execution_count": 13,
   "metadata": {},
   "outputs": [
    {
     "data": {
      "image/png": "[encoded data removed]",
      "text/plain": [
       "<Figure size 432x288 with 1 Axes>"
      ]
     },
     "metadata": {
      "needs_background": "light"
     },
     "output_type": "display_data"
    }
   ],
   "source": [
    "# 2元配置分散分析\n",
    "# 2つの因子A, Bの異なる水準が特性値の平均にもたらす差の有無を調べる分析手法。\n",
    "# 帰無仮説H0：Aの各水準の母平均は等しい、Bの各水準の母平均は等しい、AとBに交互作用がない\n",
    "# 対立仮説H0：Aの母平均に差がある、Bの母平均に差がある、AとBに交互作用がある\n",
    "\n",
    "# stasmodelsを活用して実行\n",
    "\n",
    "import pandas as pd\n",
    "\n",
    "import statsmodels.api as sm\n",
    "import statsmodels.formula.api as smf\n",
    "from statsmodels.graphics.factorplots import interaction_plot\n",
    "\n",
    "# ハンバーガーについて、「味付け」が普通/辛口の２水準、「食感」が普通/クリスピーの２水準の評価データを作成\n",
    "taste = 2*(['chili' for _ in range(15)] + ['normal' for _ in range(15)])\n",
    "coating = ['crisp' for _ in range(30)] + ['normal' for _ in range(30)]\n",
    "hamburger_df = pd.DataFrame({'taste': taste, 'coating': coating,\n",
    "'score': [65,85,75,85,75,80,90,75,85,65,75,85,80,85,90,\n",
    "    65,70,80,75,70,60,65,70,85,60,65,75,70,80,75,\n",
    "    70,65,85,80,75,65,75,60,85,65,75,70,65,80,75,\n",
    "    70,70,85,80,65,75,65,85,80,60,70,75,70,80,85]})\n",
    "hamburger_df.groupby(['coating', 'taste']).describe().round(2)\n",
    "\n",
    "# 交互作用の確認\n",
    "fig = interaction_plot(hamburger_df.coating, \n",
    "    hamburger_df.taste, \n",
    "    hamburger_df.score, \n",
    "    colors=['red', 'blue'], ms=10) # crisp * chiliの組み合わせは良い\n"
   ]
  },
  {
   "cell_type": "code",
   "execution_count": 14,
   "metadata": {},
   "outputs": [
    {
     "data": {
      "text/html": [
       "<div>\n",
       "<style scoped>\n",
       "    .dataframe tbody tr th:only-of-type {\n",
       "        vertical-align: middle;\n",
       "    }\n",
       "\n",
       "    .dataframe tbody tr th {\n",
       "        vertical-align: top;\n",
       "    }\n",
       "\n",
       "    .dataframe thead th {\n",
       "        text-align: right;\n",
       "    }\n",
       "</style>\n",
       "<table border=\"1\" class=\"dataframe\">\n",
       "  <thead>\n",
       "    <tr style=\"text-align: right;\">\n",
       "      <th></th>\n",
       "      <th>sum_sq</th>\n",
       "      <th>df</th>\n",
       "      <th>F</th>\n",
       "      <th>PR(&gt;F)</th>\n",
       "    </tr>\n",
       "  </thead>\n",
       "  <tbody>\n",
       "    <tr>\n",
       "      <th>coating</th>\n",
       "      <td>50.42</td>\n",
       "      <td>1.0</td>\n",
       "      <td>0.84</td>\n",
       "      <td>0.36</td>\n",
       "    </tr>\n",
       "    <tr>\n",
       "      <th>taste</th>\n",
       "      <td>183.75</td>\n",
       "      <td>1.0</td>\n",
       "      <td>3.05</td>\n",
       "      <td>0.09</td>\n",
       "    </tr>\n",
       "    <tr>\n",
       "      <th>coating:taste</th>\n",
       "      <td>400.42</td>\n",
       "      <td>1.0</td>\n",
       "      <td>6.65</td>\n",
       "      <td>0.01</td>\n",
       "    </tr>\n",
       "    <tr>\n",
       "      <th>Residual</th>\n",
       "      <td>3370.00</td>\n",
       "      <td>56.0</td>\n",
       "      <td>NaN</td>\n",
       "      <td>NaN</td>\n",
       "    </tr>\n",
       "  </tbody>\n",
       "</table>\n",
       "</div>"
      ],
      "text/plain": [
       "                sum_sq    df     F  PR(>F)\n",
       "coating          50.42   1.0  0.84    0.36\n",
       "taste           183.75   1.0  3.05    0.09\n",
       "coating:taste   400.42   1.0  6.65    0.01\n",
       "Residual       3370.00  56.0   NaN     NaN"
      ]
     },
     "execution_count": 14,
     "metadata": {},
     "output_type": "execute_result"
    }
   ],
   "source": [
    "# 2元配置分散分析の実行\n",
    "twoway_anova = smf.ols(formula='score ~ coating + taste + coating*taste', data=hamburger_df).fit()\n",
    "sm.stats.anova_lm(twoway_anova, typ=2).round(2)\n",
    "\n",
    "# 分散分析表より\n",
    "# coating（食感）による違いは有意差なし\n",
    "# taste（味付け）による違いは有意差なし\n",
    "# 交互作用による違いは有意差あり"
   ]
  },
  {
   "cell_type": "code",
   "execution_count": 15,
   "metadata": {},
   "outputs": [],
   "source": [
    "# 乱塊法とは\n",
    "# 実験計画において、実験全体を無作為化せず、局所管理の考えに基づきブロック因子を導入しブロック内で無作為化を行う方法のこと。\n",
    "# フィッシャーの三原則の全てを盛り込んだ実験デザイン。"
   ]
  },
  {
   "cell_type": "code",
   "execution_count": 16,
   "metadata": {},
   "outputs": [],
   "source": [
    "# 一部実施要因計画とは\n",
    "# 複数因子の全ての水準組み合わせではなく、その一部を実施する計画\n",
    "# 直行表を活用する"
   ]
  }
 ],
 "metadata": {
  "kernelspec": {
   "display_name": "Python 3.9.7 ('base')",
   "language": "python",
   "name": "python3"
  },
  "language_info": {
   "codemirror_mode": {
    "name": "ipython",
    "version": 3
   },
   "file_extension": ".py",
   "mimetype": "text/x-python",
   "name": "python",
   "nbconvert_exporter": "python",
   "pygments_lexer": "ipython3",
   "version": "3.9.7"
  },
  "orig_nbformat": 4,
  "vscode": {
   "interpreter": {
    "hash": "31764a0ab3329e725d74bc2166eb119537181bd6cc650e6bbc5c27684234dfe8"
   }
  }
 },
 "nbformat": 4,
 "nbformat_minor": 2
}

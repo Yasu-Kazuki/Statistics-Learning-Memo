{
 "cells": [
  {
   "cell_type": "code",
   "execution_count": 1,
   "metadata": {},
   "outputs": [
    {
     "name": "stdout",
     "output_type": "stream",
     "text": [
      "サンプル:[3, 0, 1]\n",
      "期待値:3.000, 分散:0.333\n"
     ]
    }
   ],
   "source": [
    "# 単純無作為抽出法\n",
    "\n",
    "# 「母集団」からその一部である「標本」をとりだすことを「標本抽出」あるいは「サンプリング」、\n",
    "# そのような調査を「標本調査」とよぶ。また母集団を構成する最小構成単位を調査単位、\n",
    "# 標本として取り出される単位を抽出単位とよぶ\n",
    "# 「無作為抽出」は母集団のすべての抽出単位に対して、それが標本に選ばれる確率を\n",
    "# あらかじめ定めてから標本抽出する方法である\n",
    "# どの抽出単位をとるかを決める場合には乱数を用いる場合が多い。特に調査単位そのものが抽出単位で、\n",
    "# しかも抽出全体を通じて母集団の各抽出単位の選ばれる確率が等しい抽出法を「単純無作為抽出法」という\n",
    "# なお、調査を行う側の主観や意図が入る方法を、無作為抽出法と対比させて「有意抽出法」または「有意選出法」とよぶ\n",
    "# 大きさNの母集団から大きさnの標本を非復元単純無作為抽出する。「非復元抽出」は、同じ抽出単位を\n",
    "# 2回以上抽出しない方法である。その変量の値をxi(i=1,..,n)として、母平均μの推定を例にして考える。\n",
    "# 推定量として標本平均 x_bar = 1/n*Σxi を用いるとき、その期待値はE[x_bar]=μ、\n",
    "# 分散は V[x_bar] = (N-n)/(N-1)*1/n*σ**2 である\n",
    "# ここでσ**2は母分散であり、(N-n)/(N-1)は「有限修正」項とよばれる\n",
    "# 母集団が無限母集団の場合や、有限母集団でも標本が「復元抽出」される場合には、\n",
    "# 標本平均の分散は有限修正項を除いて V[X_bar] = σ**2/n となる\n",
    "\n",
    "# 非復元抽出を実装\n",
    "import random\n",
    "import statistics\n",
    "\n",
    "# 母集団データ\n",
    "l = [0, 1, 2, 3, 4]\n",
    "\n",
    "# ランダムに3標本を非復元抽出。抽出単位の重複なし\n",
    "print(f\"サンプル:{random.sample(l,3)}\")\n",
    "\n",
    "# この時の期待値と分散\n",
    "E_x = statistics.mean(random.sample(l,3))\n",
    "V_x = (len(l)-len(random.sample(l,3))) / (len(l)-1) * 1 / len(random.sample(l,3)) * statistics.pvariance(l)\n",
    "print(f\"期待値:{E_x:.3f}, 分散:{V_x:.3f}\")"
   ]
  },
  {
   "cell_type": "code",
   "execution_count": 2,
   "metadata": {},
   "outputs": [],
   "source": [
    "# さまざまな標本抽出法\n",
    "\n",
    "# 母集団が大きい場合には、単純無作為抽出よりも調査がしやすい抽出法を用いることがある。\n",
    "# また推定の精度をより高めるためにも、さまざまな抽出法が用いられることがある。\n",
    "\n",
    "# 母集団をあらかじめ「集落」または「クラスター」とよばれるグループに分けておき、\n",
    "# その中からいくつかの集落を抽出単位として取り出し、集落に含まれるすべての調査単位を調査する方法を\n",
    "# 「集落抽出法」とよぶ。調査は容易だが、どの集落を標本として選定するかにより結果が大きく変わってしまう欠点がある。\n",
    "\n",
    "# 母集団をあらかじめ「第1次抽出単位」とよばれるグループに分けておき、そのなかからいくつかを抽出する。\n",
    "# 抽出された第一次抽出単位それぞれから、より小さい単位の「第2次抽出単位」である調査単位を抽出する。\n",
    "# このような方法は「二段抽出法」とよばれる。抽出された第2次抽出単位からさらに第3次抽出単位、第4次抽出単位、..と\n",
    "# 抽出する方法もあり「多段抽出法」とよばれる\n",
    "\n",
    "# 母集団をあらかじめ「層」とよばれるグループに分けておき、すべての層から決められた大きさの調査単位を\n",
    "# 抽出する方法は「層化抽出法」とよばれる。集落抽出法、二段抽出法と比較すると、母集団全体から\n",
    "# 偏りなく抽出することができる。母集団の平均や比率を推定する場合には、層内はできるだけ均質に、\n",
    "# 異なる層はできるだけ異質にするのがよい層の作り方とされる。\n",
    "\n",
    "# 母集団の調査単位がまとめられたリストがある場合、リスト上で等間隔に選んでいくような方法は\n",
    "# 「系統的抽出法」あるいは「系統抽出法」とよばれる。無作為抽出法のように乱数を用いる必要がなく、\n",
    "# 母集団全体からある程度偏りなく標本を抽出することが可能である"
   ]
  },
  {
   "cell_type": "code",
   "execution_count": 4,
   "metadata": {},
   "outputs": [
    {
     "data": {
      "text/html": [
       "<div>\n",
       "<style scoped>\n",
       "    .dataframe tbody tr th:only-of-type {\n",
       "        vertical-align: middle;\n",
       "    }\n",
       "\n",
       "    .dataframe tbody tr th {\n",
       "        vertical-align: top;\n",
       "    }\n",
       "\n",
       "    .dataframe thead th {\n",
       "        text-align: right;\n",
       "    }\n",
       "</style>\n",
       "<table border=\"1\" class=\"dataframe\">\n",
       "  <thead>\n",
       "    <tr style=\"text-align: right;\">\n",
       "      <th></th>\n",
       "      <th>name</th>\n",
       "      <th>score</th>\n",
       "    </tr>\n",
       "  </thead>\n",
       "  <tbody>\n",
       "    <tr>\n",
       "      <th>0</th>\n",
       "      <td>D</td>\n",
       "      <td>68</td>\n",
       "    </tr>\n",
       "    <tr>\n",
       "      <th>1</th>\n",
       "      <td>C</td>\n",
       "      <td>65</td>\n",
       "    </tr>\n",
       "    <tr>\n",
       "      <th>2</th>\n",
       "      <td>D</td>\n",
       "      <td>71</td>\n",
       "    </tr>\n",
       "    <tr>\n",
       "      <th>3</th>\n",
       "      <td>C</td>\n",
       "      <td>61</td>\n",
       "    </tr>\n",
       "    <tr>\n",
       "      <th>4</th>\n",
       "      <td>A</td>\n",
       "      <td>55</td>\n",
       "    </tr>\n",
       "  </tbody>\n",
       "</table>\n",
       "</div>"
      ],
      "text/plain": [
       "  name  score\n",
       "0    D     68\n",
       "1    C     65\n",
       "2    D     71\n",
       "3    C     61\n",
       "4    A     55"
      ]
     },
     "execution_count": 4,
     "metadata": {},
     "output_type": "execute_result"
    }
   ],
   "source": [
    "# 層化抽出法\n",
    "\n",
    "# 大きさNの母集団があらかじめL個の層に分けられており、各層の大きさがNh(h=1,2,..,L)とする。\n",
    "# 層hからほかの層とは独立に大きさnhの標本を非復元無作為抽出して、得られた変量の値をxhi(i=1,2,..,nh)とする。\n",
    "# このような標本抽出法は「層化(非復元)無作為抽出法」とよばれる\n",
    "# 各層から抽出する標本の大きさの決め方を「標本配分法」という。\n",
    "# 代表的な3つの標本配分法について以下で実装する\n",
    "\n",
    "# サンプルデータの作成\n",
    "import pandas as pd\n",
    "import numpy as np\n",
    "import random\n",
    "\n",
    "name_list=['A','B','C','D']\n",
    "sample_df=pd.DataFrame({'name':random.choices(name_list,k=10000),\n",
    "                'score':np.random.randint(55,86,10000)})\n",
    "sample_df.head()"
   ]
  },
  {
   "cell_type": "code",
   "execution_count": 6,
   "metadata": {},
   "outputs": [
    {
     "name": "stdout",
     "output_type": "stream",
     "text": [
      "all:10000, A:2501, B:2494, C:2529, D:2476\n",
      "Aの標本数:500\n",
      "Bの標本数:498\n",
      "Cの標本数:505\n",
      "Dの標本数:495\n"
     ]
    }
   ],
   "source": [
    "# 各層の標本の大きさnkが母集団の各層の大きさNnに比例する標本配分法を「比例配分法」とよぶ\n",
    "# 層hから抽出する標本の大きさはnk=(Nh/N)*nとなる。\n",
    "all_count = len(sample_df)\n",
    "a_count = len(sample_df.loc[sample_df[\"name\"]==\"A\"])\n",
    "b_count = len(sample_df.loc[sample_df[\"name\"]==\"B\"])\n",
    "c_count = len(sample_df.loc[sample_df[\"name\"]==\"C\"])\n",
    "d_count = len(sample_df.loc[sample_df[\"name\"]==\"D\"])\n",
    "print(f\"all:{all_count}, A:{a_count}, B:{b_count}, C:{c_count}, D:{d_count}\")\n",
    "\n",
    "sample_all_count = 2000\n",
    "a_sample_count = int(a_count / all_count * sample_all_count)\n",
    "b_sample_count = int(b_count / all_count * sample_all_count)\n",
    "c_sample_count = int(c_count / all_count * sample_all_count)\n",
    "d_sample_count = int(d_count / all_count * sample_all_count)\n",
    "print(f\"Aの標本数:{a_sample_count}\")\n",
    "print(f\"Bの標本数:{b_sample_count}\")\n",
    "print(f\"Cの標本数:{c_sample_count}\")\n",
    "print(f\"Dの標本数:{d_sample_count}\")"
   ]
  },
  {
   "cell_type": "code",
   "execution_count": 7,
   "metadata": {},
   "outputs": [
    {
     "name": "stdout",
     "output_type": "stream",
     "text": [
      "Aの標本数:500\n",
      "Bの標本数:500\n",
      "Cの標本数:500\n",
      "Dの標本数:500\n"
     ]
    }
   ],
   "source": [
    "# 各層の標本の大きさがすべて等しい、すなわちn1=...=nL=n/Lとする標本配分法を「等配分法」とよぶ\n",
    "# 母集団の各層の大きさが大きく異なる場合には、推定量の分散が単純無作為抽出の標本平均の分散よりも大きくなることもあるが、\n",
    "# たとえば各層の母平均の推定においても精度を保ちたい場合などには有効な配分法である。\n",
    "\n",
    "a_sample_count = 500\n",
    "b_sample_count = 500\n",
    "c_sample_count = 500\n",
    "d_sample_count = 500\n",
    "print(f\"Aの標本数:{a_sample_count}\")\n",
    "print(f\"Bの標本数:{b_sample_count}\")\n",
    "print(f\"Cの標本数:{c_sample_count}\")\n",
    "print(f\"Dの標本数:{d_sample_count}\")"
   ]
  },
  {
   "cell_type": "code",
   "execution_count": 8,
   "metadata": {},
   "outputs": [
    {
     "name": "stdout",
     "output_type": "stream",
     "text": [
      "Aの標本数:500\n",
      "Bの標本数:501\n",
      "Cの標本数:519\n",
      "Dの標本数:498\n"
     ]
    }
   ],
   "source": [
    "# 推定量の分散を最小にするような標本配分法を「ネイマン配分法」または「最適配分法」とよぶ\n",
    "# 母集団において大きい層から大きい標本を抽出するのが比例配分法であるが、それに加えて、散らばりの\n",
    "# 大きい層からも大きい標本を抽出するのがネイマン配分法である。\n",
    "\n",
    "import math\n",
    "\n",
    "a_std = sample_df.loc[sample_df[\"name\"]==\"A\",\"score\"].std()\n",
    "b_std = sample_df.loc[sample_df[\"name\"]==\"B\",\"score\"].std()\n",
    "c_std = sample_df.loc[sample_df[\"name\"]==\"C\",\"score\"].std()\n",
    "d_std = sample_df.loc[sample_df[\"name\"]==\"D\",\"score\"].std()\n",
    "\n",
    "sample_all_count = 2000\n",
    "a_sample_count = int((a_count*a_std*math.sqrt(a_count/(a_count-1))) / (all_count*a_std*math.sqrt(a_count/(a_count-1))) * sample_all_count)\n",
    "b_sample_count = int((b_count*a_std*math.sqrt(b_count/(b_count-1))) / (all_count*b_std*math.sqrt(b_count/(b_count-1))) * sample_all_count)\n",
    "c_sample_count = int((c_count*a_std*math.sqrt(c_count/(c_count-1))) / (all_count*c_std*math.sqrt(c_count/(c_count-1))) * sample_all_count)\n",
    "d_sample_count = int((d_count*a_std*math.sqrt(d_count/(d_count-1))) / (all_count*d_std*math.sqrt(d_count/(d_count-1))) * sample_all_count)\n",
    "print(f\"Aの標本数:{a_sample_count}\")\n",
    "print(f\"Bの標本数:{b_sample_count}\")\n",
    "print(f\"Cの標本数:{c_sample_count}\")\n",
    "print(f\"Dの標本数:{d_sample_count}\")"
   ]
  }
 ],
 "metadata": {
  "kernelspec": {
   "display_name": "Python 3",
   "language": "python",
   "name": "python3"
  },
  "language_info": {
   "codemirror_mode": {
    "name": "ipython",
    "version": 3
   },
   "file_extension": ".py",
   "mimetype": "text/x-python",
   "name": "python",
   "nbconvert_exporter": "python",
   "pygments_lexer": "ipython3",
   "version": "3.9.2"
  },
  "orig_nbformat": 4,
  "vscode": {
   "interpreter": {
    "hash": "726ef1321fcd34e1bfe5e95996892c07db726849efbcd4abbb89e2457d1bbe6b"
   }
  }
 },
 "nbformat": 4,
 "nbformat_minor": 2
}

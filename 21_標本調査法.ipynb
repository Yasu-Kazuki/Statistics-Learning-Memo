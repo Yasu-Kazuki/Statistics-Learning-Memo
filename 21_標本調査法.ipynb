{
 "cells": [
  {
   "cell_type": "code",
   "execution_count": 1,
   "metadata": {},
   "outputs": [],
   "source": [
    "# 標本調査とは\n",
    "# 母集団からその一部である標本を取り出すことを標本抽出(サンプリング)という\n",
    "# また、そのような調査を標本調査という"
   ]
  },
  {
   "cell_type": "code",
   "execution_count": 7,
   "metadata": {},
   "outputs": [
    {
     "name": "stdout",
     "output_type": "stream",
     "text": [
      "4 0 0\n"
     ]
    }
   ],
   "source": [
    "# 無作為抽出法とは\n",
    "# 母集団の全ての抽出単位について、それが標本に選ばれる確率をあらかじめ定めてから標本抽出する方法\n",
    "\n",
    "import random\n",
    "\n",
    "# 母集団データ\n",
    "l = [0, 1, 2, 3, 4]\n",
    "\n",
    "# ランダムに3標本を抽出。抽出単位の重複あり\n",
    "print(random.choice(l), random.choice(l), random.choice(l))\n"
   ]
  },
  {
   "cell_type": "code",
   "execution_count": 13,
   "metadata": {},
   "outputs": [
    {
     "name": "stdout",
     "output_type": "stream",
     "text": [
      "[4, 1, 0]\n",
      "期待値:2.000, 分散:0.333\n"
     ]
    }
   ],
   "source": [
    "# 非復元抽出とは\n",
    "# 同じ抽出単位を2回以上抽出しない方法\n",
    "\n",
    "import random\n",
    "import statistics\n",
    "\n",
    "# 母集団データ\n",
    "l = [0, 1, 2, 3, 4]\n",
    "\n",
    "# ランダムに3標本を非復元抽出。抽出単位の重複なし\n",
    "print(random.sample(l,3))\n",
    "\n",
    "# この時の期待値と分散\n",
    "E_x = statistics.mean(random.sample(l,3))\n",
    "V_x = (len(l)-len(random.sample(l,3))) / (len(l)-1) * 1 / len(random.sample(l,3)) * statistics.pvariance(l)\n",
    "print(\"期待値:{:.3f}, 分散:{:.3f}\".format(E_x, V_x))\n",
    "\n",
    "# 分散を求める際の (N-n)/(N-1)は「有限修正項」と呼ばれる\n",
    "# 復元抽出の場合は不要"
   ]
  },
  {
   "cell_type": "code",
   "execution_count": 22,
   "metadata": {},
   "outputs": [
    {
     "data": {
      "text/html": [
       "<div>\n",
       "<style scoped>\n",
       "    .dataframe tbody tr th:only-of-type {\n",
       "        vertical-align: middle;\n",
       "    }\n",
       "\n",
       "    .dataframe tbody tr th {\n",
       "        vertical-align: top;\n",
       "    }\n",
       "\n",
       "    .dataframe thead th {\n",
       "        text-align: right;\n",
       "    }\n",
       "</style>\n",
       "<table border=\"1\" class=\"dataframe\">\n",
       "  <thead>\n",
       "    <tr style=\"text-align: right;\">\n",
       "      <th></th>\n",
       "      <th>name</th>\n",
       "      <th>score</th>\n",
       "    </tr>\n",
       "  </thead>\n",
       "  <tbody>\n",
       "    <tr>\n",
       "      <th>0</th>\n",
       "      <td>A</td>\n",
       "      <td>83</td>\n",
       "    </tr>\n",
       "    <tr>\n",
       "      <th>1</th>\n",
       "      <td>B</td>\n",
       "      <td>67</td>\n",
       "    </tr>\n",
       "    <tr>\n",
       "      <th>2</th>\n",
       "      <td>C</td>\n",
       "      <td>57</td>\n",
       "    </tr>\n",
       "    <tr>\n",
       "      <th>3</th>\n",
       "      <td>B</td>\n",
       "      <td>84</td>\n",
       "    </tr>\n",
       "    <tr>\n",
       "      <th>4</th>\n",
       "      <td>D</td>\n",
       "      <td>61</td>\n",
       "    </tr>\n",
       "  </tbody>\n",
       "</table>\n",
       "</div>"
      ],
      "text/plain": [
       "  name  score\n",
       "0    A     83\n",
       "1    B     67\n",
       "2    C     57\n",
       "3    B     84\n",
       "4    D     61"
      ]
     },
     "execution_count": 22,
     "metadata": {},
     "output_type": "execute_result"
    }
   ],
   "source": [
    "# 層化抽出法について\n",
    "# 母集団をあらかじめ層と呼ばれるグループに分けておき、全ての層から決められた調査単位を抽出する方法\n",
    "# 非復元無作為抽出する場合の層化抽出法のことを「層化無作為抽出法」という\n",
    "\n",
    "# 標本配分法について\n",
    "# 各層から抽出する標本の大きさの決め方を「標本配分法」という\n",
    "# 代表的な3つの手法について以下で実装する\n",
    "\n",
    "import pandas as pd\n",
    "import numpy as np\n",
    "import random\n",
    "\n",
    "# サンプルデータの作成\n",
    "name_list=['A','B','C','D']\n",
    "sample_df=pd.DataFrame({'name':random.choices(name_list,k=10000),\n",
    "                'score':np.random.randint(55,86,10000)})\n",
    "sample_df.head()\n"
   ]
  },
  {
   "cell_type": "code",
   "execution_count": 23,
   "metadata": {},
   "outputs": [
    {
     "name": "stdout",
     "output_type": "stream",
     "text": [
      "all:10000, A:2580, B:2406, C:2484, D:2530\n",
      "Aの標本数:516\n",
      "Bの標本数:481\n",
      "Cの標本数:496\n",
      "Dの標本数:506\n"
     ]
    }
   ],
   "source": [
    "# 比例配分法：各層の標本の大きさが母集団の各層の大きさに比例する標本配分法\n",
    "all_count = len(sample_df)\n",
    "a_count = len(sample_df.loc[sample_df[\"name\"]==\"A\"])\n",
    "b_count = len(sample_df.loc[sample_df[\"name\"]==\"B\"])\n",
    "c_count = len(sample_df.loc[sample_df[\"name\"]==\"C\"])\n",
    "d_count = len(sample_df.loc[sample_df[\"name\"]==\"D\"])\n",
    "print(\"all:{}, A:{}, B:{}, C:{}, D:{}\".format(all_count, a_count, b_count, c_count, d_count))\n",
    "\n",
    "sample_all_count = 2000\n",
    "a_sample_count = int(a_count / all_count * sample_all_count)\n",
    "b_sample_count = int(b_count / all_count * sample_all_count)\n",
    "c_sample_count = int(c_count / all_count * sample_all_count)\n",
    "d_sample_count = int(d_count / all_count * sample_all_count)\n",
    "print(\"Aの標本数:{}\".format(len(sample_df.loc[sample_df[\"name\"]==\"A\"].sample(n=a_sample_count))))\n",
    "print(\"Bの標本数:{}\".format(len(sample_df.loc[sample_df[\"name\"]==\"B\"].sample(n=b_sample_count))))\n",
    "print(\"Cの標本数:{}\".format(len(sample_df.loc[sample_df[\"name\"]==\"C\"].sample(n=c_sample_count))))\n",
    "print(\"Dの標本数:{}\".format(len(sample_df.loc[sample_df[\"name\"]==\"D\"].sample(n=d_sample_count))))"
   ]
  },
  {
   "cell_type": "code",
   "execution_count": 24,
   "metadata": {},
   "outputs": [
    {
     "name": "stdout",
     "output_type": "stream",
     "text": [
      "Aの標本数:500\n",
      "Bの標本数:500\n",
      "Cの標本数:500\n",
      "Dの標本数:500\n"
     ]
    }
   ],
   "source": [
    "# 等配分法：各層の標本の大きさが全て等しい標本配分法\n",
    "\n",
    "a_sample_count = 500\n",
    "b_sample_count = 500\n",
    "c_sample_count = 500\n",
    "d_sample_count = 500\n",
    "print(\"Aの標本数:{}\".format(len(sample_df.loc[sample_df[\"name\"]==\"A\"].sample(n=a_sample_count))))\n",
    "print(\"Bの標本数:{}\".format(len(sample_df.loc[sample_df[\"name\"]==\"B\"].sample(n=b_sample_count))))\n",
    "print(\"Cの標本数:{}\".format(len(sample_df.loc[sample_df[\"name\"]==\"C\"].sample(n=c_sample_count))))\n",
    "print(\"Dの標本数:{}\".format(len(sample_df.loc[sample_df[\"name\"]==\"D\"].sample(n=d_sample_count))))"
   ]
  },
  {
   "cell_type": "code",
   "execution_count": 32,
   "metadata": {},
   "outputs": [
    {
     "name": "stdout",
     "output_type": "stream",
     "text": [
      "Aの標本数:516\n",
      "Bの標本数:487\n",
      "Cの標本数:499\n",
      "Dの標本数:507\n"
     ]
    }
   ],
   "source": [
    "# ネイマン配分法(最適配分法)：層別の標準偏差に注目し比例配分する標本配分法\n",
    "# サイズの大きい層 + 散らばりの大きい層から大きい標本を抽出し、推定量の分散を最小にする。\n",
    "\n",
    "import math\n",
    "\n",
    "a_std = sample_df.loc[sample_df[\"name\"]==\"A\",\"score\"].std()\n",
    "b_std = sample_df.loc[sample_df[\"name\"]==\"B\",\"score\"].std()\n",
    "c_std = sample_df.loc[sample_df[\"name\"]==\"C\",\"score\"].std()\n",
    "d_std = sample_df.loc[sample_df[\"name\"]==\"D\",\"score\"].std()\n",
    "\n",
    "sample_all_count = 2000\n",
    "a_sample_count = int((a_count*a_std*math.sqrt(a_count/(a_count-1))) / (all_count*a_std*math.sqrt(a_count/(a_count-1))) * sample_all_count)\n",
    "b_sample_count = int((b_count*a_std*math.sqrt(b_count/(b_count-1))) / (all_count*b_std*math.sqrt(b_count/(b_count-1))) * sample_all_count)\n",
    "c_sample_count = int((c_count*a_std*math.sqrt(c_count/(c_count-1))) / (all_count*c_std*math.sqrt(c_count/(c_count-1))) * sample_all_count)\n",
    "d_sample_count = int((d_count*a_std*math.sqrt(d_count/(d_count-1))) / (all_count*d_std*math.sqrt(d_count/(d_count-1))) * sample_all_count)\n",
    "print(\"Aの標本数:{}\".format(len(sample_df.loc[sample_df[\"name\"]==\"A\"].sample(n=a_sample_count))))\n",
    "print(\"Bの標本数:{}\".format(len(sample_df.loc[sample_df[\"name\"]==\"B\"].sample(n=b_sample_count))))\n",
    "print(\"Cの標本数:{}\".format(len(sample_df.loc[sample_df[\"name\"]==\"C\"].sample(n=c_sample_count))))\n",
    "print(\"Dの標本数:{}\".format(len(sample_df.loc[sample_df[\"name\"]==\"D\"].sample(n=d_sample_count))))"
   ]
  }
 ],
 "metadata": {
  "kernelspec": {
   "display_name": "Python 3.9.7 ('base')",
   "language": "python",
   "name": "python3"
  },
  "language_info": {
   "codemirror_mode": {
    "name": "ipython",
    "version": 3
   },
   "file_extension": ".py",
   "mimetype": "text/x-python",
   "name": "python",
   "nbconvert_exporter": "python",
   "pygments_lexer": "ipython3",
   "version": "3.9.7"
  },
  "orig_nbformat": 4,
  "vscode": {
   "interpreter": {
    "hash": "31764a0ab3329e725d74bc2166eb119537181bd6cc650e6bbc5c27684234dfe8"
   }
  }
 },
 "nbformat": 4,
 "nbformat_minor": 2
}

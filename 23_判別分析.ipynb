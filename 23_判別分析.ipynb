{
 "cells": [
  {
   "attachments": {},
   "cell_type": "markdown",
   "metadata": {},
   "source": [
    "# 判別分析\n",
    "\n",
    "**判別分析**とは一般に、入力されたデータの**特徴量**の情報を用いてクラスラベルを定めるための方法である。"
   ]
  },
  {
   "attachments": {},
   "cell_type": "markdown",
   "metadata": {},
   "source": [
    "# フィッシャーの判別分析\n",
    "\n",
    "主成分分析と同様に、特徴量を低次元空間に射影する方法であり、次元削減の方法としてよく用いられる。  \n",
    "主成分分析と同様に観測データの情報を標本平均、標本分散共分散行列に集約して変数の線形結合で判別関数を構成する。  \n",
    "主成分分析との違いは、サンプルが属する郡の情報を利用して判別に適した射影軸を選択する点である。  \n",
    "ベクトル$w \\in \\mathbb{R}^p$による射影を考え、射影後のサンプルを\n",
    "$$\n",
    "y_i^{(j)} = w^T x_i^{(j)}, \\quad j=1,2, i=1,...,n_j\n",
    "$$\n",
    "とする。  \n",
    "判別対象の2群の平均は離れたおいた方がよく、一方で各群の中での分散は小さい方が良い。  \n",
    "そこで$\\lambda(w)=$群間分散/郡内分散を最大にする射影方向$w$を求める。  \n",
    "ここで群間分散は\n",
    "$$\n",
    "(\\bar{y}^{(1)} - \\bar{y}^{(2)})^2 = (w^T(\\bar{x}^{(1)} - \\bar{x}^{(2)}))^2\n",
    "$$\n",
    "で定義する。群$G_j,j=1,2$内での分散は、\n",
    "$$\n",
    "\\frac{1}{n_j-1} \\sum_{i=1}^{n_j}(y_i^{(j)} - \\bar{y}^{(j)})^2 = w^T S_jw\n",
    "$$\n",
    "で定義する。ただし$S_j$は群$G_j$に含まれるサンプル$\\{x_i^{(j)}\\}_{i=1}^{n_j}$の標本分散共分散行列である。  \n",
    "郡内分散は、共通の標本分散共分散行列\n",
    "$$\n",
    "S = \\frac{1}{n_1+n_2-2}((n_1-1)S_1+(n_2-1)S_2)\n",
    "$$\n",
    "を用いて$w^TSw$で定義する。すなわち、\n",
    "$$\n",
    "\\lambda(w) = \\frac{(w^T(\\bar{x}^{(1)}-\\bar{x}^{(2)}))^2}{w^TSw}\n",
    "$$\n",
    "を最大にする$w$を求めればよく、最適な射影方向は$\\hat{w} = S^{-1}(\\bar{x}^{(1)}-\\bar{x}^{(2)})$で与えられる。  \n",
    "新しいサンプル$x$は、$y=\\hat{w}^Tx$のように射影される。  \n",
    "このサンプルがどちら群に属するかを決めるには、射影後の各群に属するサンプルの標本平均を求め、その中点$(w^T \\bar{x}^{(1)}- w^T \\bar{x}^{(2)})/2 = (\\bar{x}^{(1)}-\\bar{x}^{(2)})^T S^{-1} (\\bar{x}^{(1)}-\\bar{x}^{(2)})/2$と$y$を比較すればよい。すなわち、\n",
    "$$\n",
    "f(x) = \\hat{w}^Tx - \\frac{1}{2}(\\bar{x}^{(1)}-\\bar{x}^{(2)})^T S^{-1} (\\bar{x}^{(1)}-\\bar{x}^{(2)})\n",
    "$$\n",
    "の値が正なら$x$を群$G_1$、負なら群$G_2$に分類すれば良い。  \n",
    "この関数f(x)を**フィッシャーの線形判別関数**と呼ぶ。"
   ]
  },
  {
   "cell_type": "code",
   "execution_count": 1,
   "metadata": {},
   "outputs": [
    {
     "name": "stdout",
     "output_type": "stream",
     "text": [
      "w =[[-0.02840198]\n",
      " [-0.02520291]]\n"
     ]
    },
    {
     "data": {
      "image/png": "[encoded data removed]",
      "text/plain": [
       "<Figure size 432x288 with 1 Axes>"
      ]
     },
     "metadata": {
      "needs_background": "light"
     },
     "output_type": "display_data"
    }
   ],
   "source": [
    "import numpy as np\n",
    "import matplotlib.pyplot as plt\n",
    "\n",
    "# データの次元数\n",
    "DIM = 2 \n",
    "\n",
    "# 共分散\n",
    "cov = [[3,1],[1,3]]\n",
    "\n",
    "# 群G1と群2のデータを生成\n",
    "g1_sample = np.random.multivariate_normal([-5,-5], cov, 50)\n",
    "g2_sample = np.random.multivariate_normal([5,5], cov, 50)\n",
    "\n",
    "# 各クラスの平均を算出:\n",
    "mean1 = np.mean(g1_sample, axis=0)\n",
    "mean2 = np.mean(g2_sample, axis=0)\n",
    "\n",
    "# クラス内共分散行列を求める:S\n",
    "sw = np.zeros((DIM, DIM))\n",
    "for x1 in g1_sample:\n",
    "    x1 = x1.reshape(DIM,1)\n",
    "    mean1 = mean1.reshape(DIM,1)\n",
    "    sw += np.dot((x1-mean1),(x1-mean1).T)\n",
    "for x2 in g2_sample:\n",
    "    x2 = x2.reshape(DIM,1)\n",
    "    mean2 = mean2.reshape(DIM,1)\n",
    "    sw += np.dot((x2-mean2),(x2-mean2).T)\n",
    "\n",
    "# クラス内共分散行列の逆行列:S^(-1)\n",
    "sw_inv = np.linalg.inv(sw)\n",
    "\n",
    "# wを求める\n",
    "w = np.dot(sw_inv,(mean1-mean2))\n",
    "print(f'w ={w}')\n",
    "\n",
    "# G1のデータをプロット\n",
    "x_1,y_1 = g1_sample.T\n",
    "plt.plot(x_1, y_1, 'bo', label='G1')\n",
    "\n",
    "# G2のデータをプロット\n",
    "x_2, y_2 = g2_sample.T\n",
    "plt.plot(x_2, y_2, 'ro', label='G2')\n",
    "\n",
    "# 決定境界をプロット\n",
    "mean = (mean1 + mean2)/2 # 平均値の中点\n",
    "a = -(w[0]/w[1]) # wと直交する方向が傾きとなる\n",
    "b = -a*mean[0]+mean[1] # b=-a*x+yより算出\n",
    "x = np.linspace(-10, 10, 1000)\n",
    "y = a*x+b\n",
    "line = (x, y)\n",
    "plt.plot(line[0], line[1])\n",
    "\n",
    "plt.title(\"Fisher's linear descriminant function\")\n",
    "plt.xlabel(\"Dim0\")\n",
    "plt.ylabel(\"Dim1\")\n",
    "plt.legend()\n",
    "plt.show()"
   ]
  },
  {
   "attachments": {},
   "cell_type": "markdown",
   "metadata": {},
   "source": [
    "# 正準判別分析\n",
    "\n",
    "サンプルが属する群が2より多い場合の各群の判別においても、各群の平均(重心)となるサンプル$x$とのマハラノビス平方距離を求め、それが最小となる群にサンプルxを分類することで、各群の判別が実行できる。  \n",
    "**正準判別分析**とは、$g$群の$p$次元データを判別性が高くなるように低次元に射影する方法である。  \n",
    "フィッシャーの判別分析と同様に群間分散/郡内分散が最大となる$w$を求める。  \n",
    "正準判別分析のにおいては一般に郡の数が2より多い状況を考えており、複数の射影軸が得られる。  \n",
    "群間分散/郡内分散により得られる固有ベクトルが射影ベクトルに対応する。"
   ]
  },
  {
   "cell_type": "code",
   "execution_count": 2,
   "metadata": {},
   "outputs": [
    {
     "data": {
      "image/png": "[encoded data removed]",
      "text/plain": [
       "<Figure size 432x288 with 1 Axes>"
      ]
     },
     "metadata": {
      "needs_background": "light"
     },
     "output_type": "display_data"
    }
   ],
   "source": [
    "import pandas as pd\n",
    "from sklearn.datasets import load_iris\n",
    "\n",
    "# irisデータセットで標本分散共分散行列と標本相関行列を表示\n",
    "iris = load_iris()\n",
    "iris_df = pd.DataFrame(\n",
    "        iris.data,\n",
    "        columns=iris.feature_names,\n",
    "    )\n",
    "iris_df['target'] = iris.target\n",
    "\n",
    "# irisデータで実行\n",
    "setosa_df = iris_df.loc[iris_df['target']==0]\n",
    "versi_df = iris_df.loc[iris_df['target']==1]\n",
    "virgi_df = iris_df.loc[iris_df['target']==2]\n",
    "\n",
    "# 全データの平均を算出\n",
    "iris_all_mean = iris_df.iloc[:, 0:4].mean()\n",
    "\n",
    "# 各群ごとに平均を算出\n",
    "setosa_mean = setosa_df.iloc[:, 0:4].mean()\n",
    "versi_mean = versi_df.iloc[:, 0:4].mean()\n",
    "virgi_mean = versi_df.iloc[:, 0:4].mean()\n",
    "\n",
    "# 群間変動行列を算出\n",
    "setosa_div = setosa_mean.to_numpy()-iris_all_mean.to_numpy()\n",
    "versi_div = versi_mean.to_numpy()-iris_all_mean.to_numpy()\n",
    "virgi_div = virgi_mean.to_numpy()-iris_all_mean.to_numpy()\n",
    "s_b = len(setosa_df)*np.dot(setosa_div, setosa_div.T)\n",
    "s_b += len(versi_df)*np.dot(versi_div, versi_div.T)\n",
    "s_b += len(virgi_df)*np.dot(virgi_div, virgi_div.T)\n",
    "\n",
    "# 郡内変動行列を算出\n",
    "setosa_cov = setosa_df.iloc[:, 0:4].cov()\n",
    "versi_cov = versi_df.iloc[:, 0:4].cov()\n",
    "virgi_cov = virgi_df.iloc[:, 0:4].cov()\n",
    "s_w = len(setosa_df)*setosa_cov\n",
    "s_w += len(versi_df)*versi_cov\n",
    "s_w += len(virgi_df)*virgi_cov\n",
    "\n",
    "# 固有値、固有ベクトルを算出\n",
    "s_w_inv = np.linalg.inv(s_w)\n",
    "eigen_result = np.linalg.eig(np.dot(s_w_inv, s_b))\n",
    "eigen_id = np.argsort(eigen_result[0])[::-1] # 固有値の大きい順にソート\n",
    "eigen_value = eigen_result[0][eigen_id]\n",
    "eigen_vector = eigen_result[1][eigen_id]\n",
    "\n",
    "# 1,2番目に大きい固有値の固有ベクトルで2次元平面にデータを各群10点ずつプロットする\n",
    "setosa_sample = setosa_df.iloc[:, 0:4].sample(10)\n",
    "x_1 = []\n",
    "y_1 = []\n",
    "for idx, row in setosa_sample.iterrows():\n",
    "    x_1.append(np.dot(eigen_vector[0].T, row))\n",
    "    y_1.append(np.dot(eigen_vector[1].T, row))\n",
    "\n",
    "versi_sample = versi_df.iloc[:, 0:4].sample(10)\n",
    "x_2 = []\n",
    "y_2 = []\n",
    "for idx, row in versi_sample.iterrows():\n",
    "    x_2.append(np.dot(eigen_vector[0].T, row))\n",
    "    y_2.append(np.dot(eigen_vector[1].T, row))\n",
    "\n",
    "virgi_sample = virgi_df.iloc[:, 0:4].sample(10)\n",
    "x_3 = []\n",
    "y_3 = []\n",
    "for idx, row in virgi_sample.iterrows():\n",
    "    x_3.append(np.dot(eigen_vector[0].T, row))\n",
    "    y_3.append(np.dot(eigen_vector[1].T, row))\n",
    "\n",
    "plt.plot(x_1, y_1, 'bo', label='setosa')\n",
    "plt.plot(x_2, y_2, 'ro', label='versicolor')\n",
    "plt.plot(x_3, y_3, 'go', label='virginica')\n",
    "\n",
    "plt.title(\"canonical descriminant analysis\")\n",
    "plt.xlabel(\"w0\")\n",
    "plt.ylabel(\"w1\")\n",
    "plt.legend()\n",
    "plt.show() # 3群をうまく判別することができた"
   ]
  },
  {
   "attachments": {},
   "cell_type": "markdown",
   "metadata": {},
   "source": [
    "# サポートベクターマシン\n",
    "\n",
    "**サポートベクターマシン**(**SVM**)は、判別平面と最も近いデータ点の距離(**マージン**)が最大になるように、判別平面(判別軸)を定めることで、未知のデータに対しても高い予測性能を有する線形判別器である。  \n",
    "判別軸を求める最適化問題は凸最適化問題として定式化され、大域的な解が定まること、そしてカーネル法を利用することで柔軟な非線形判別への拡張が容易であることから、機械学習における代表的な2クラス判別手法として広く用いられている。"
   ]
  },
  {
   "cell_type": "code",
   "execution_count": 3,
   "metadata": {},
   "outputs": [
    {
     "data": {
      "image/png": "[encoded data removed]",
      "text/plain": [
       "<Figure size 432x288 with 1 Axes>"
      ]
     },
     "metadata": {
      "needs_background": "light"
     },
     "output_type": "display_data"
    },
    {
     "name": "stdout",
     "output_type": "stream",
     "text": [
      "SVMスコア:1.0\n"
     ]
    }
   ],
   "source": [
    "# irisデータで実践\n",
    "from sklearn.model_selection import train_test_split\n",
    "from sklearn.svm import LinearSVC\n",
    "\n",
    "# 目的変数と説明変数に分離\n",
    "X = iris.data[:100, 2:]\n",
    "Y = iris.target[:100]\n",
    "\n",
    "# モデルを作成\n",
    "X_train, X_test, Y_train, Y_test = train_test_split(X, Y, stratify=Y, random_state=0)\n",
    "svm = LinearSVC()\n",
    "svm.fit(X_train, Y_train)\n",
    "\n",
    "# 判別関数を描画\n",
    "line = np.linspace(0, 5)\n",
    "intercept = svm.intercept_\n",
    "coef = svm.coef_\n",
    "plt.plot(X[:50, 0], X[:50, 1], 'bo', label='setosa')\n",
    "plt.plot(X[50:, 0], X[50:, 1], 'ro', label='versicolor')\n",
    "plt.plot(line, -(line*coef[0][0]+intercept)/coef[0][1], c='g')\n",
    "plt.title('SVM:Hard mergin')\n",
    "plt.xlabel('petal length')\n",
    "plt.ylabel('petal width')\n",
    "plt.legend()\n",
    "plt.show()\n",
    "\n",
    "print(f\"SVMスコア:{svm.score(X_test, Y_test)}\")"
   ]
  },
  {
   "attachments": {},
   "cell_type": "markdown",
   "metadata": {},
   "source": [
    "SVMのマージン最大化という定式化では、全ての学習データが謝りなく線形分離可能であるという仮定を置いていた。  \n",
    "この仮定を緩和して、線形分離でなくても定義できる**ソフトマージン**最大化によって判別関数を求めることにする。"
   ]
  },
  {
   "cell_type": "code",
   "execution_count": 4,
   "metadata": {},
   "outputs": [
    {
     "data": {
      "image/png": "[encoded data removed]",
      "text/plain": [
       "<Figure size 432x288 with 1 Axes>"
      ]
     },
     "metadata": {
      "needs_background": "light"
     },
     "output_type": "display_data"
    },
    {
     "name": "stdout",
     "output_type": "stream",
     "text": [
      "SVMスコア:0.96\n"
     ]
    }
   ],
   "source": [
    "# 分離が悪いirisデータを使用して実践\n",
    "X = iris.data[50:, 2:]\n",
    "Y = iris.target[50:] - 1\n",
    "\n",
    "# ソフトマージンパラメータC=0.1で描画\n",
    "X_train, X_test, Y_train, Y_test = train_test_split(X, Y, stratify=Y, random_state=0)\n",
    "svm = LinearSVC(C=0.1)\n",
    "svm.fit(X_train, Y_train)\n",
    "\n",
    "# 判別関数を描画\n",
    "line = np.linspace(2, 8)\n",
    "intercept = svm.intercept_\n",
    "coef = svm.coef_\n",
    "plt.plot(X[:50, 0], X[:50, 1], 'bo', label='setosa')\n",
    "plt.plot(X[50:, 0], X[50:, 1], 'ro', label='versicolor')\n",
    "plt.plot(line, -(line*coef[0][0]+intercept)/coef[0][1], c='g')\n",
    "plt.title('SVM:Soft mergin(C=0.1)')\n",
    "plt.xlabel('petal length')\n",
    "plt.ylabel('petal width')\n",
    "plt.legend()\n",
    "plt.show()\n",
    "\n",
    "print(f\"SVMスコア:{svm.score(X_test, Y_test)}\")"
   ]
  },
  {
   "cell_type": "code",
   "execution_count": 5,
   "metadata": {},
   "outputs": [
    {
     "data": {
      "image/png": "[encoded data removed]",
      "text/plain": [
       "<Figure size 432x288 with 1 Axes>"
      ]
     },
     "metadata": {
      "needs_background": "light"
     },
     "output_type": "display_data"
    },
    {
     "name": "stdout",
     "output_type": "stream",
     "text": [
      "SVMスコア:1.0\n"
     ]
    }
   ],
   "source": [
    "# ソフトマージンパラメータC=1.0で描画\n",
    "svm = LinearSVC(C=1.0)\n",
    "svm.fit(X_train, Y_train)\n",
    "\n",
    "# 判別関数を描画\n",
    "line = np.linspace(2, 8)\n",
    "intercept = svm.intercept_\n",
    "coef = svm.coef_\n",
    "plt.plot(X[:50, 0], X[:50, 1], 'bo', label='setosa')\n",
    "plt.plot(X[50:, 0], X[50:, 1], 'ro', label='versicolor')\n",
    "plt.plot(line, -(line*coef[0][0]+intercept)/coef[0][1], c='g')\n",
    "plt.title('SVM:Soft mergin(C=1.0)')\n",
    "plt.xlabel('petal length')\n",
    "plt.ylabel('petal width')\n",
    "plt.legend()\n",
    "plt.show()\n",
    "\n",
    "print(f\"SVMスコア:{svm.score(X_test, Y_test)}\")"
   ]
  },
  {
   "attachments": {},
   "cell_type": "markdown",
   "metadata": {},
   "source": [
    "# 混同行列とROC解析\n",
    "\n",
    "判別分析において、一般にはクラスラベルごとに判別を誤った際に被る損失は異なる。  \n",
    "また各クラスのサンプルの比率が大きく偏っている状況では、誤り率を判別性能の指標として用いることは適切でないことがある。  \n",
    "線形判別、2次半別、SVMなどは、実数値関数$f(x)$の符号$sgn(f(x))$の正負によりサンプル$x$を正例か負例かに分類する方法であるが、クラスラベルに偏りがある場合に対応するため、$t$を閾値として$sgn(f(x)+t)$を用いた判別を考える。  \n",
    "判別器による判別結果としては以下の4パターンが考えられる。  \n",
    "　**TP**(**True Positive**)：正例を正しく正例と判別するケース  \n",
    "　**FP**(**False Positive**)：負例を誤って正例と判別するケース  \n",
    "　**FN**(**False Negative**)：負例を正しく負例と判別するケース  \n",
    "　**TN**(**True Negative**)：正例を誤って負例と判別するケース  \n",
    "これらの値を表にまとめたものを**混同行列**と呼ぶ。"
   ]
  },
  {
   "cell_type": "code",
   "execution_count": 6,
   "metadata": {},
   "outputs": [
    {
     "name": "stdout",
     "output_type": "stream",
     "text": [
      "TP:2, FP:4, TN:1, FN:3\n"
     ]
    }
   ],
   "source": [
    "from sklearn.metrics import confusion_matrix\n",
    "\n",
    "y_true = [0, 0, 0, 0, 0, 1, 1, 1, 1, 1]\n",
    "y_pred = [0, 1, 1, 1, 1, 0, 0, 0, 1, 1]\n",
    "\n",
    "tn, fp, fn, tp = confusion_matrix(y_true, y_pred).ravel()\n",
    "print(f\"TP:{tp}, FP:{fp}, TN:{tn}, FN:{fn}\")"
   ]
  },
  {
   "attachments": {},
   "cell_type": "markdown",
   "metadata": {},
   "source": [
    "TP, FP, FN, TNを用いて判別する様々な尺度が定義されている。  \n",
    "**正解率**は全サンプルの中で正しく判別できたサンプルの割合であり、\n",
    "$$\n",
    "\\frac{TP+TN}{TP+FP+FN+TN}\n",
    "$$\n",
    "で定義される。"
   ]
  },
  {
   "cell_type": "code",
   "execution_count": 7,
   "metadata": {},
   "outputs": [
    {
     "name": "stdout",
     "output_type": "stream",
     "text": [
      "正解率 計算:0.3, sklearn関数:0.3\n"
     ]
    }
   ],
   "source": [
    "from sklearn.metrics import accuracy_score\n",
    "print(f\"正解率 計算:{(tp+tn)/(tp+fp+fn+tn)}, sklearn関数:{accuracy_score(y_true, y_pred)}\")"
   ]
  },
  {
   "attachments": {},
   "cell_type": "markdown",
   "metadata": {},
   "source": [
    "**適合率**は、正例と分類されたサンプルのうち実際に正例であるサンプルの割合であり、\n",
    "$$\n",
    "\\frac{TP}{TP+FP}\n",
    "$$\n",
    "で定義される。"
   ]
  },
  {
   "cell_type": "code",
   "execution_count": 8,
   "metadata": {},
   "outputs": [
    {
     "name": "stdout",
     "output_type": "stream",
     "text": [
      "適合率 計算:0.3333333333333333, sklearn関数:0.3333333333333333\n"
     ]
    }
   ],
   "source": [
    "from sklearn.metrics import precision_score\n",
    "print(f\"適合率 計算:{tp/(tp+fp)}, sklearn関数:{precision_score(y_true, y_pred)}\")"
   ]
  },
  {
   "attachments": {},
   "cell_type": "markdown",
   "metadata": {},
   "source": [
    "**再現率**(**真陽性率、感度**)は、本来は正例と判別するべきサンプルのうち正しく正例と判別できたサンプルの割合であり、\n",
    "$$\n",
    "\\frac{TP}{TP+FN}\n",
    "$$\n",
    "で定義される。"
   ]
  },
  {
   "cell_type": "code",
   "execution_count": 9,
   "metadata": {},
   "outputs": [
    {
     "name": "stdout",
     "output_type": "stream",
     "text": [
      "再現率 計算:0.4, sklearn関数:0.4\n"
     ]
    }
   ],
   "source": [
    "from sklearn.metrics import recall_score\n",
    "print(f\"再現率 計算:{tp/(tp+fn)}, sklearn関数:{recall_score(y_true, y_pred)}\")"
   ]
  },
  {
   "attachments": {},
   "cell_type": "markdown",
   "metadata": {},
   "source": [
    "**真陰性率**(**特異度**)は、本来は負例と判別するべきサンプルのうち正しく負例と判別できたサンプルの割合であり、\n",
    "$$\n",
    "\\frac{TN}{TN+FP}\n",
    "$$\n",
    "で定義される。"
   ]
  },
  {
   "cell_type": "code",
   "execution_count": 10,
   "metadata": {},
   "outputs": [
    {
     "name": "stdout",
     "output_type": "stream",
     "text": [
      "真陰性率:0.2\n"
     ]
    }
   ],
   "source": [
    "print(f\"真陰性率:{tn/(tn+fp)}\")"
   ]
  },
  {
   "attachments": {},
   "cell_type": "markdown",
   "metadata": {},
   "source": [
    "1-特異度を**偽陽性率**と呼ぶ。"
   ]
  },
  {
   "cell_type": "code",
   "execution_count": 11,
   "metadata": {},
   "outputs": [
    {
     "name": "stdout",
     "output_type": "stream",
     "text": [
      "偽陽性率:0.8\n"
     ]
    }
   ],
   "source": [
    "print(f\"偽陽性率:{1-tn/(tn+fp)}\")"
   ]
  },
  {
   "attachments": {},
   "cell_type": "markdown",
   "metadata": {},
   "source": [
    "一方、閾値の決め方によらない全体的な判別器の性能を評価する方法として、**ROC曲線**がある。  \n",
    "ROC曲線は閾値$t$を$-\\infty$から$\\infty$まで変化させた時の真陽性率と偽陽性率を2次元にプロットしたものである。  \n",
    "ROC曲線は直観的にに判別性能を把握するのに適している。  \n",
    "定量的に全体的な判別性能を表す指標として、ROC曲線の下側の面積で定義される**AUC**がある。  \n",
    "1に近いほど判別性能が良いと判断できる。"
   ]
  },
  {
   "cell_type": "code",
   "execution_count": 12,
   "metadata": {},
   "outputs": [
    {
     "data": {
      "image/png": "[encoded data removed]",
      "text/plain": [
       "<Figure size 432x288 with 1 Axes>"
      ]
     },
     "metadata": {
      "needs_background": "light"
     },
     "output_type": "display_data"
    },
    {
     "name": "stdout",
     "output_type": "stream",
     "text": [
      "AUC:0.6875\n"
     ]
    }
   ],
   "source": [
    "from sklearn.metrics import roc_curve\n",
    "from sklearn.metrics import roc_auc_score\n",
    "\n",
    "y_true = [0, 0, 0, 0, 1, 1, 1, 1]\n",
    "y_score = [0.2, 0.3, 0.6, 0.8, 0.4, 0.5, 0.7, 0.9]\n",
    "\n",
    "fpr, tpr, thresholds = roc_curve(y_true, y_score)\n",
    "\n",
    "# ROC曲線を描画\n",
    "plt.plot(fpr, tpr, marker='o')\n",
    "plt.xlabel('FPR: False positive rate') # 偽陽性率\n",
    "plt.ylabel('TPR: True positive rate') # 真陽性率\n",
    "plt.grid()\n",
    "plt.show()\n",
    "\n",
    "# AUCを算出\n",
    "print(f\"AUC:{roc_auc_score(y_true, y_score)}\")"
   ]
  },
  {
   "cell_type": "code",
   "execution_count": 13,
   "metadata": {},
   "outputs": [
    {
     "data": {
      "image/png": "[encoded data removed]",
      "text/plain": [
       "<Figure size 432x288 with 1 Axes>"
      ]
     },
     "metadata": {
      "needs_background": "light"
     },
     "output_type": "display_data"
    },
    {
     "name": "stdout",
     "output_type": "stream",
     "text": [
      "AUC:1.0\n"
     ]
    }
   ],
   "source": [
    "# 完全に正確に分類できる閾値が存在する場合(AUCが1の場合)\n",
    "y_true_perfect = np.array([0, 0, 0, 0, 1, 1, 1, 1])\n",
    "y_score_perfect = np.array([0.1, 0.2, 0.3, 0.4, 0.5, 0.6, 0.7, 0.8])\n",
    "\n",
    "fpr, tpr, thresholds = roc_curve(y_true_perfect, y_score_perfect)\n",
    "\n",
    "# ROC曲線を描画\n",
    "plt.plot(fpr, tpr, marker='o')\n",
    "plt.xlabel('FPR: False positive rate') # 偽陽性率\n",
    "plt.ylabel('TPR: True positive rate') # 真陽性率\n",
    "plt.grid()\n",
    "plt.show()\n",
    "\n",
    "print(f\"AUC:{roc_auc_score(y_true_perfect, y_score_perfect)}\")"
   ]
  }
 ],
 "metadata": {
  "kernelspec": {
   "display_name": "Python 3",
   "language": "python",
   "name": "python3"
  },
  "language_info": {
   "codemirror_mode": {
    "name": "ipython",
    "version": 3
   },
   "file_extension": ".py",
   "mimetype": "text/x-python",
   "name": "python",
   "nbconvert_exporter": "python",
   "pygments_lexer": "ipython3",
   "version": "3.9.7"
  },
  "orig_nbformat": 4,
  "vscode": {
   "interpreter": {
    "hash": "949777d72b0d2535278d3dc13498b2535136f6dfe0678499012e853ee9abcab1"
   }
  }
 },
 "nbformat": 4,
 "nbformat_minor": 2
}

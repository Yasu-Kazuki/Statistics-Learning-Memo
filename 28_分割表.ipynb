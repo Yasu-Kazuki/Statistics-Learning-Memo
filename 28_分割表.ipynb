{
 "cells": [
  {
   "attachments": {},
   "cell_type": "markdown",
   "metadata": {},
   "source": [
    "# 分割表\n",
    "\n",
    "複数の質的な変量に関する多変量データから、変量の値の組み合わせごとの頻度を集計して表にしたものを**分割表**という。  \n",
    "分割表における変量を**因子**と呼び、因子のとりうる値を**水準**と呼ぶ。  \n",
    "分割表の分析手法には様々なものがあり、特に3水準以上で水準に順序がある場合には、水準の順序を考慮した適切な分析手法を用いるのが望ましい。"
   ]
  },
  {
   "cell_type": "code",
   "execution_count": 1,
   "metadata": {},
   "outputs": [
    {
     "data": {
      "text/html": [
       "<div>\n",
       "<style scoped>\n",
       "    .dataframe tbody tr th:only-of-type {\n",
       "        vertical-align: middle;\n",
       "    }\n",
       "\n",
       "    .dataframe tbody tr th {\n",
       "        vertical-align: top;\n",
       "    }\n",
       "\n",
       "    .dataframe thead th {\n",
       "        text-align: right;\n",
       "    }\n",
       "</style>\n",
       "<table border=\"1\" class=\"dataframe\">\n",
       "  <thead>\n",
       "    <tr style=\"text-align: right;\">\n",
       "      <th>smoke</th>\n",
       "      <th>0</th>\n",
       "      <th>1</th>\n",
       "    </tr>\n",
       "    <tr>\n",
       "      <th>sex</th>\n",
       "      <th></th>\n",
       "      <th></th>\n",
       "    </tr>\n",
       "  </thead>\n",
       "  <tbody>\n",
       "    <tr>\n",
       "      <th>女</th>\n",
       "      <td>8</td>\n",
       "      <td>4</td>\n",
       "    </tr>\n",
       "    <tr>\n",
       "      <th>男</th>\n",
       "      <td>5</td>\n",
       "      <td>3</td>\n",
       "    </tr>\n",
       "  </tbody>\n",
       "</table>\n",
       "</div>"
      ],
      "text/plain": [
       "smoke  0  1\n",
       "sex        \n",
       "女      8  4\n",
       "男      5  3"
      ]
     },
     "execution_count": 1,
     "metadata": {},
     "output_type": "execute_result"
    }
   ],
   "source": [
    "# 分割表の具体例\n",
    "import pandas as pd\n",
    "\n",
    "smoke_df =pd.DataFrame({\n",
    "  'sex' : ['女','男','男','女','男','女','女','男','男','男','女','女','男','女','女','男','女','女','女','女'],\n",
    "  'smoke' : [1,0,1,1,0,0,0,0,0,1,0,0,1,1,0,0,1,0,0,0]\n",
    "  })\n",
    "pd.crosstab(smoke_df['sex'], smoke_df['smoke']) # 「sex」が因子、「smoke」が水準"
   ]
  },
  {
   "attachments": {},
   "cell_type": "markdown",
   "metadata": {},
   "source": [
    "# 2群の比較\n",
    "\n",
    "各群$A_i(i=1,2)$の事象$B_1$の頻度を$x_1$、標本サイズを$n_i$と書けば、独立な二項分布\n",
    "$$\n",
    "X_i \\sim Bin(n_i, \\theta_i), \\quad i=1,2, \\quad X_1とX_2は独立\n",
    "$$\n",
    "が自然な統計モデルとなる。  \n",
    "2群比較では、群ごとの二項分布の生起確率の違いに興味がある。  \n",
    "この違いを両側検定で検証する場合、帰無仮説と対立仮説はそれぞれ\n",
    "$$\n",
    "H_0:\\theta_1 = \\theta_2 \\quad vs. \\quad H_1:\\theta_1 \\neq \\theta_2\n",
    "$$\n",
    "となる"
   ]
  },
  {
   "attachments": {},
   "cell_type": "markdown",
   "metadata": {},
   "source": [
    "# オッズ比\n",
    "\n",
    "上記の$H_0:\\theta_1=\\theta_2 \\quad vs. \\quad  H_1:\\theta_1 \\neq \\theta_2$について、$\\psi =(\\theta_1/(1-\\theta_1))/(\\theta_2/(1-\\theta_2))$と定めることにより、\n",
    "$$\n",
    "H_0: \\psi = 1 \\quad vs. \\quad H_1:\\psi \\neq 1\n",
    "$$\n",
    "と表すことができる。  \n",
    "2つの二項確率$\\theta_1、\\theta_2$について、$\\theta_1/(1-\\theta_1)$と$\\theta_2/(1-\\theta_2)$をそれぞれのオッズと呼び、それらの比$\\psi$を**オッズ比**という。  \n",
    "さらに、その対数$\\log \\psi$を**対数オッズ比**という。  \n",
    "オッズ比は正の値をとり、対数オッズ比は全ての実数値をとる。  \n",
    "また、標本から計算されるオッズ比は**標本オッズ比**といい、オッズ比の自然な推定量である。"
   ]
  },
  {
   "attachments": {},
   "cell_type": "markdown",
   "metadata": {},
   "source": [
    "# 前向き研究と後向き研究\n",
    "\n",
    "例えば、喫煙習慣が肺がんの羅漢に与える影響の大きさを調べる、という2群比較の問題を考える。  \n",
    "この場合、あらかじめ喫煙者$n_1$人と非喫煙者$n_2$人を用意し、一定期間後にそれらのうち肺がんに羅漢した人数を調べればよい。  \n",
    "このような研究デザインを**前向き研究**(予見研究、コホート研究など)と呼ぶ。  \n",
    "しかし、現実的には、標本サイズ$n_1$、$n_2$人をかなり大きくしないと、がんのような稀な疾患を観測することは難しい。  \n",
    "そこで、実際には、肺がん患者と健常者を一定数($m_1$人、$m_2$人)用意して、過去の喫煙歴を調査する、という方法が撮られることが多い。  \n",
    "このような研究デザインを**後向き研究**(回顧研究、患者対象研究など)と呼ぶ。  \n",
    "後向き研究におけるオッズ比は、前向き研究のオッズ比と一致する。  \n",
    "つまり、オッズ比には、後向き研究で得られる観測データから、本当に知りたい前向き研究のオッズ比を推定することができるという便利な性質がある。"
   ]
  },
  {
   "attachments": {},
   "cell_type": "markdown",
   "metadata": {},
   "source": [
    "# 母数の推定\n",
    "\n",
    "2群比較の$2 \\times 2$分割表の統計モデルでは、母数$θ_i$の「自然な」点推定量は\n",
    "$$\n",
    "\\hat{\\theta_i} = \\frac{x_i}{n_i}, \\quad i=1,2\n",
    "$$\n",
    "である。  \n",
    "$\\hat{\\theta_i}$は最尤推定量であり、また不偏推定量でもある。  \n",
    "この結果と二項分布の性質から、様々な推定量と信頼区間が導出できる。"
   ]
  },
  {
   "attachments": {},
   "cell_type": "markdown",
   "metadata": {},
   "source": [
    "# 適合度カイ二乗検定と尤度比検定\n",
    "\n",
    "2群の一様性の仮説の代表的な検定手法には、**適合度カイ二乗検定**、尤度比検定、フィッシャーの正確検定などがある。  \n",
    "適合度カイ二乗検定と尤度比検定では、まず、帰無仮説と対立仮説のそれぞれのもとで、母数の最尤推定量を求め、そこから、それぞれの仮説のもとでの**当てはめ値**を求める。  \n",
    "当てはめ値は、各セル頻度の期待値、理論値などと呼ばれることもあり、各セルの頻度に対応する確率変数の期待値の最尤推定量として定義される。  \n",
    "適合度カイ二乗検定の検定統計量は、帰無仮説のもとでの当てはめ値$m=(m_{ij})$と対立仮説のもとでの当てはめ値$x=(x_{ij})$から\n",
    "$$\n",
    "\\chi^2 = \\sum_{i} \\sum_{j} \\frac{(x_{ij}-m_{ij})^2}{m_{ij}}\n",
    "$$\n",
    "で定義される。  \n",
    "帰無仮説が正しいとき、$\\chi^2$は漸近的に自由度$1$のカイ二乗分布に従う。  \n",
    "尤度比検定統計量$\\Lambda$は、尤度関数にそれぞれの仮説のもとでの母数の最尤推定量を代入したものの比を取ることで得られる。  \n",
    "特に、帰無仮説のもとで、対数尤度比の2倍が漸近的にカイ二乗分布に従うことを利用して検定を行うので、これを検定統計量として使うことが多い。  \n",
    "この値$G^2 = 2 \\log \\Lambda$は「逸脱度」と呼ばれる。  \n",
    "逸脱度の自由度は、$\\chi^2$の自由度と等しい。対数尤度関数にそれぞれの仮説のもとでの母数の最尤推定量を代入して、逸脱度を計算すれば次のようになる。\n",
    "$$\n",
    "G^2 = 2 \\log \\Lambda = 2 \\sum_{i} \\sum_{j} x_{ij} \\log \\frac{x_{ij}}{m_{ij}}\n",
    "$$"
   ]
  },
  {
   "cell_type": "code",
   "execution_count": 5,
   "metadata": {},
   "outputs": [
    {
     "name": "stdout",
     "output_type": "stream",
     "text": [
      "適合度カイ二乗検定の結果\n",
      "検定統計量:2.5072417355371908\n",
      "p値:0.4739837610894708\n",
      "自由度:3\n",
      "分割表:\n",
      "[[13.24137931 24.27586207 15.44827586 11.03448276]\n",
      " [22.75862069 41.72413793 26.55172414 18.96551724]]\n"
     ]
    }
   ],
   "source": [
    "# 適合度カイ二乗検定\n",
    "import numpy as np\n",
    "from scipy.stats import chi2_contingency\n",
    "\n",
    "# 分割表\n",
    "contingency_table = np.array([[10, 28, 14, 12], [26, 38, 28, 18]])\n",
    "\n",
    "fit_result = chi2_contingency(contingency_table)\n",
    "print(\"適合度カイ二乗検定の結果\")\n",
    "print(f\"検定統計量:{fit_result[0]}\")\n",
    "print(f\"p値:{fit_result[1]}\")\n",
    "print(f\"自由度:{fit_result[2]}\")\n",
    "print(f\"分割表:\\n{fit_result[3]}\")"
   ]
  },
  {
   "cell_type": "code",
   "execution_count": 6,
   "metadata": {},
   "outputs": [
    {
     "name": "stdout",
     "output_type": "stream",
     "text": [
      "尤度比検定検定の結果\n",
      "検定統計量:2.545571854653499\n",
      "p値:0.46711149520971695\n",
      "自由度:3\n",
      "分割表:\n",
      "[[13.24137931 24.27586207 15.44827586 11.03448276]\n",
      " [22.75862069 41.72413793 26.55172414 18.96551724]]\n"
     ]
    }
   ],
   "source": [
    "# 尤度比検定検定を実施\n",
    "likelihood_result = chi2_contingency(contingency_table, lambda_=0)\n",
    "print(\"尤度比検定検定の結果\")\n",
    "print(f\"検定統計量:{likelihood_result[0]}\")\n",
    "print(f\"p値:{likelihood_result[1]}\")\n",
    "print(f\"自由度:{likelihood_result[2]}\")\n",
    "print(f\"分割表:\\n{likelihood_result[3]}\")"
   ]
  },
  {
   "attachments": {},
   "cell_type": "markdown",
   "metadata": {},
   "source": [
    "# フィッシャーの正確検定\n",
    "\n",
    "適合度カイ二乗検定と尤度比検定では、いずれも、帰無仮説のもとでの検定統計量の分布を標本サイズを十分大きくしたときの漸近分布に基づき評価している。  \n",
    "これに対し、漸近分布論を使わない検定手法として広く利用されているのが、**フィッシャーの正確検定**である。   \n",
    "フィッシャーの正確検定は、条件付き分布に基づく条件付き検定の手法である。  \n",
    "超幾何分布の確率関数を用いて、片側検定の有意確率(P-値)を定めるのが、フィッシャーの正確検定である。"
   ]
  },
  {
   "cell_type": "code",
   "execution_count": 8,
   "metadata": {},
   "outputs": [
    {
     "name": "stdout",
     "output_type": "stream",
     "text": [
      "フィッシャーの正確検定の結果\n",
      "オッズ比:0.09855162654299938\n",
      "P値:2.6906937468626293e-96\n"
     ]
    }
   ],
   "source": [
    "# フィッシャーの正確検定を実施\n",
    "from scipy.stats import fisher_exact\n",
    "\n",
    "# 分割表\n",
    "contingency_table_2_2 = [[367, 1364], [344, 126]]\n",
    "fisher_result = fisher_exact(contingency_table_2_2)\n",
    "print(\"フィッシャーの正確検定の結果\")\n",
    "print(f\"オッズ比:{fisher_result[0]}\")\n",
    "print(f\"P値:{fisher_result[1]}\")"
   ]
  }
 ],
 "metadata": {
  "kernelspec": {
   "display_name": "Python 3",
   "language": "python",
   "name": "python3"
  },
  "language_info": {
   "codemirror_mode": {
    "name": "ipython",
    "version": 3
   },
   "file_extension": ".py",
   "mimetype": "text/x-python",
   "name": "python",
   "nbconvert_exporter": "python",
   "pygments_lexer": "ipython3",
   "version": "3.11.1"
  },
  "orig_nbformat": 4,
  "vscode": {
   "interpreter": {
    "hash": "949777d72b0d2535278d3dc13498b2535136f6dfe0678499012e853ee9abcab1"
   }
  }
 },
 "nbformat": 4,
 "nbformat_minor": 2
}

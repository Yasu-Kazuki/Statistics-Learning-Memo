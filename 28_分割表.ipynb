{
 "cells": [
  {
   "cell_type": "code",
   "execution_count": 3,
   "metadata": {},
   "outputs": [
    {
     "data": {
      "text/html": [
       "<div>\n",
       "<style scoped>\n",
       "    .dataframe tbody tr th:only-of-type {\n",
       "        vertical-align: middle;\n",
       "    }\n",
       "\n",
       "    .dataframe tbody tr th {\n",
       "        vertical-align: top;\n",
       "    }\n",
       "\n",
       "    .dataframe thead th {\n",
       "        text-align: right;\n",
       "    }\n",
       "</style>\n",
       "<table border=\"1\" class=\"dataframe\">\n",
       "  <thead>\n",
       "    <tr style=\"text-align: right;\">\n",
       "      <th>smoke</th>\n",
       "      <th>0</th>\n",
       "      <th>1</th>\n",
       "    </tr>\n",
       "    <tr>\n",
       "      <th>sex</th>\n",
       "      <th></th>\n",
       "      <th></th>\n",
       "    </tr>\n",
       "  </thead>\n",
       "  <tbody>\n",
       "    <tr>\n",
       "      <th>女</th>\n",
       "      <td>8</td>\n",
       "      <td>4</td>\n",
       "    </tr>\n",
       "    <tr>\n",
       "      <th>男</th>\n",
       "      <td>5</td>\n",
       "      <td>3</td>\n",
       "    </tr>\n",
       "  </tbody>\n",
       "</table>\n",
       "</div>"
      ],
      "text/plain": [
       "smoke  0  1\n",
       "sex        \n",
       "女      8  4\n",
       "男      5  3"
      ]
     },
     "execution_count": 3,
     "metadata": {},
     "output_type": "execute_result"
    }
   ],
   "source": [
    "# 分割表について\n",
    "# 複数の質的な変量に関する多変量データから、\n",
    "# 変量の値の組み合わせごとの頻度を集計して表にしたもの\n",
    "# 分割表における変量を「因子」、因子の取りうる値を「水準」と呼ぶ\n",
    "\n",
    "# 分割表の具体例\n",
    "import pandas as pd\n",
    "\n",
    "smoke_df =pd.DataFrame({\n",
    "  'sex' : ['女','男','男','女','男','女','女','男','男','男','女','女','男','女','女','男','女','女','女','女'],\n",
    "  'smoke' : [1,0,1,1,0,0,0,0,0,1,0,0,1,1,0,0,1,0,0,0]\n",
    "  })\n",
    "pd.crosstab(smoke_df['sex'], smoke_df['smoke']) # 「sex」が因子、「smoke」が水準"
   ]
  },
  {
   "cell_type": "code",
   "execution_count": 7,
   "metadata": {},
   "outputs": [
    {
     "name": "stdout",
     "output_type": "stream",
     "text": [
      "適合度カイ二乗検定を実施\n",
      "(2.5072417355371908, 0.4739837610894708, 3, array([[13.24137931, 24.27586207, 15.44827586, 11.03448276],\n",
      "       [22.75862069, 41.72413793, 26.55172414, 18.96551724]]))\n",
      "尤度比検定検定を実施\n",
      "(2.545571854653499, 0.46711149520971695, 3, array([[13.24137931, 24.27586207, 15.44827586, 11.03448276],\n",
      "       [22.75862069, 41.72413793, 26.55172414, 18.96551724]]))\n"
     ]
    }
   ],
   "source": [
    "# 適合度カイ二乗検定と尤度比検定\n",
    "\n",
    "import numpy as np\n",
    "from scipy import stats\n",
    "\n",
    "contingency_table = np.array([[10, 28, 14, 12], [26, 38, 28, 18]])\n",
    " \n",
    "fit_result = stats.chi2_contingency(contingency_table)\n",
    "print(\"適合度カイ二乗検定を実施\")\n",
    "print(fit_result) # 検定統計量、p値、自由度、期待度数を表す分割表\n",
    "\n",
    "# \n",
    "likelihood_result = stats.chi2_contingency(contingency_table, lambda_=0)\n",
    "print(\"尤度比検定検定を実施\")\n",
    "print(likelihood_result) # 検定統計量(逸脱度)、p値、自由度、期待度数を表す分割表\n"
   ]
  },
  {
   "cell_type": "code",
   "execution_count": 9,
   "metadata": {},
   "outputs": [
    {
     "name": "stdout",
     "output_type": "stream",
     "text": [
      "フィッシャーの正確検定を実施\n",
      "(0.09855162654299938, 2.6906937468576903e-96)\n"
     ]
    }
   ],
   "source": [
    "# フィッシャーの正確検定\n",
    "\n",
    "contingency_table_2_2 = [[367, 1364], [344, 126]]\n",
    "fisher_result = stats.fisher_exact(contingency_table_2_2)\n",
    "print(\"フィッシャーの正確検定を実施\")\n",
    "print(fisher_result) # オッズ比、P値"
   ]
  }
 ],
 "metadata": {
  "kernelspec": {
   "display_name": "Python 3.9.2 64-bit",
   "language": "python",
   "name": "python3"
  },
  "language_info": {
   "codemirror_mode": {
    "name": "ipython",
    "version": 3
   },
   "file_extension": ".py",
   "mimetype": "text/x-python",
   "name": "python",
   "nbconvert_exporter": "python",
   "pygments_lexer": "ipython3",
   "version": "3.9.2"
  },
  "orig_nbformat": 4,
  "vscode": {
   "interpreter": {
    "hash": "726ef1321fcd34e1bfe5e95996892c07db726849efbcd4abbb89e2457d1bbe6b"
   }
  }
 },
 "nbformat": 4,
 "nbformat_minor": 2
}

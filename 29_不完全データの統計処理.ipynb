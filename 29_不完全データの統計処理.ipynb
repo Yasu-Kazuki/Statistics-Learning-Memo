{
 "cells": [
  {
   "attachments": {},
   "cell_type": "markdown",
   "metadata": {},
   "source": [
    "# はじめに\n",
    "\n",
    "実際のデータ解析では、何らかの理由でデータが不完全な形でしか得られないことがよくある。  \n",
    "データが観測されないことを**欠測**もしくは欠損、欠落などという。  \n",
    "全部で$p$種類の変量(測定項目)に対して$n$個分のデータを観測するとし、$x_{ij}$を第$i$番目の個体の第$j$変量の値とする。  \n",
    "そして、それらを第$(i,j)$要素とする$n \\times p$行列$X=\\{x_{ij}\\}$の各要素の値が全て得られている時、データは**完全**であるという。  \n",
    "それに対し、$X$のいくつかの要素が得られていない時、データは**不完全**であるという。  \n",
    "そして、不完全データを何らかの方策によって擬似的に完全な形としたものを**擬似完全**データという。  \n",
    "不完全データへの対処法は、データ行列$X$に対しどのような分析を行うのかに依存する。"
   ]
  },
  {
   "attachments": {},
   "cell_type": "markdown",
   "metadata": {},
   "source": [
    "不完全データへの対処では、欠測のメカニズムを知ることが重要である。\n",
    "**欠測メカニズム**は、次のように分類される。\n",
    "\n",
    "(a)MCAR(Missing Completely At Random)：  \n",
    "欠測は、欠測データ及び観測データの両方に依存せず、ランダムに生じる"
   ]
  },
  {
   "cell_type": "code",
   "execution_count": 1,
   "metadata": {},
   "outputs": [
    {
     "data": {
      "text/html": [
       "<div>\n",
       "<style scoped>\n",
       "    .dataframe tbody tr th:only-of-type {\n",
       "        vertical-align: middle;\n",
       "    }\n",
       "\n",
       "    .dataframe tbody tr th {\n",
       "        vertical-align: top;\n",
       "    }\n",
       "\n",
       "    .dataframe thead th {\n",
       "        text-align: right;\n",
       "    }\n",
       "</style>\n",
       "<table border=\"1\" class=\"dataframe\">\n",
       "  <thead>\n",
       "    <tr style=\"text-align: right;\">\n",
       "      <th></th>\n",
       "      <th>class</th>\n",
       "      <th>score</th>\n",
       "      <th>score_perfect</th>\n",
       "    </tr>\n",
       "  </thead>\n",
       "  <tbody>\n",
       "    <tr>\n",
       "      <th>0</th>\n",
       "      <td>A</td>\n",
       "      <td>NaN</td>\n",
       "      <td>98</td>\n",
       "    </tr>\n",
       "    <tr>\n",
       "      <th>1</th>\n",
       "      <td>B</td>\n",
       "      <td>90.0</td>\n",
       "      <td>90</td>\n",
       "    </tr>\n",
       "    <tr>\n",
       "      <th>2</th>\n",
       "      <td>A</td>\n",
       "      <td>85.0</td>\n",
       "      <td>85</td>\n",
       "    </tr>\n",
       "    <tr>\n",
       "      <th>3</th>\n",
       "      <td>A</td>\n",
       "      <td>NaN</td>\n",
       "      <td>80</td>\n",
       "    </tr>\n",
       "    <tr>\n",
       "      <th>4</th>\n",
       "      <td>B</td>\n",
       "      <td>75.0</td>\n",
       "      <td>75</td>\n",
       "    </tr>\n",
       "    <tr>\n",
       "      <th>5</th>\n",
       "      <td>B</td>\n",
       "      <td>NaN</td>\n",
       "      <td>73</td>\n",
       "    </tr>\n",
       "    <tr>\n",
       "      <th>6</th>\n",
       "      <td>A</td>\n",
       "      <td>60.0</td>\n",
       "      <td>60</td>\n",
       "    </tr>\n",
       "    <tr>\n",
       "      <th>7</th>\n",
       "      <td>B</td>\n",
       "      <td>NaN</td>\n",
       "      <td>54</td>\n",
       "    </tr>\n",
       "  </tbody>\n",
       "</table>\n",
       "</div>"
      ],
      "text/plain": [
       "  class  score  score_perfect\n",
       "0     A    NaN             98\n",
       "1     B   90.0             90\n",
       "2     A   85.0             85\n",
       "3     A    NaN             80\n",
       "4     B   75.0             75\n",
       "5     B    NaN             73\n",
       "6     A   60.0             60\n",
       "7     B    NaN             54"
      ]
     },
     "execution_count": 1,
     "metadata": {},
     "output_type": "execute_result"
    }
   ],
   "source": [
    "# MCARデータを作成\n",
    "import pandas as pd\n",
    "\n",
    "mcar_df = pd.DataFrame(\n",
    "    {\n",
    "        'class':['A','B','A','A','B','B','A','B'],\n",
    "        'score':[None, 90, 85, None, 75, None, 60, None],\n",
    "        'score_perfect':[98, 90, 85, 80, 75, 73, 60, 54]\n",
    "    }\n",
    ")\n",
    "mcar_df"
   ]
  },
  {
   "attachments": {},
   "cell_type": "markdown",
   "metadata": {},
   "source": [
    "ランダムに欠損が存在する。"
   ]
  },
  {
   "attachments": {},
   "cell_type": "markdown",
   "metadata": {},
   "source": [
    "(b)MAR(Missing At Random)：  \n",
    "欠測は、観測データに依存して生じるが、欠測データの値によらない"
   ]
  },
  {
   "cell_type": "code",
   "execution_count": 2,
   "metadata": {},
   "outputs": [
    {
     "data": {
      "text/html": [
       "<div>\n",
       "<style scoped>\n",
       "    .dataframe tbody tr th:only-of-type {\n",
       "        vertical-align: middle;\n",
       "    }\n",
       "\n",
       "    .dataframe tbody tr th {\n",
       "        vertical-align: top;\n",
       "    }\n",
       "\n",
       "    .dataframe thead th {\n",
       "        text-align: right;\n",
       "    }\n",
       "</style>\n",
       "<table border=\"1\" class=\"dataframe\">\n",
       "  <thead>\n",
       "    <tr style=\"text-align: right;\">\n",
       "      <th></th>\n",
       "      <th>class</th>\n",
       "      <th>score</th>\n",
       "      <th>score_perfect</th>\n",
       "    </tr>\n",
       "  </thead>\n",
       "  <tbody>\n",
       "    <tr>\n",
       "      <th>0</th>\n",
       "      <td>A</td>\n",
       "      <td>98.0</td>\n",
       "      <td>98</td>\n",
       "    </tr>\n",
       "    <tr>\n",
       "      <th>1</th>\n",
       "      <td>B</td>\n",
       "      <td>NaN</td>\n",
       "      <td>90</td>\n",
       "    </tr>\n",
       "    <tr>\n",
       "      <th>2</th>\n",
       "      <td>A</td>\n",
       "      <td>85.0</td>\n",
       "      <td>85</td>\n",
       "    </tr>\n",
       "    <tr>\n",
       "      <th>3</th>\n",
       "      <td>A</td>\n",
       "      <td>80.0</td>\n",
       "      <td>80</td>\n",
       "    </tr>\n",
       "    <tr>\n",
       "      <th>4</th>\n",
       "      <td>B</td>\n",
       "      <td>NaN</td>\n",
       "      <td>75</td>\n",
       "    </tr>\n",
       "    <tr>\n",
       "      <th>5</th>\n",
       "      <td>B</td>\n",
       "      <td>NaN</td>\n",
       "      <td>73</td>\n",
       "    </tr>\n",
       "    <tr>\n",
       "      <th>6</th>\n",
       "      <td>A</td>\n",
       "      <td>60.0</td>\n",
       "      <td>60</td>\n",
       "    </tr>\n",
       "    <tr>\n",
       "      <th>7</th>\n",
       "      <td>B</td>\n",
       "      <td>NaN</td>\n",
       "      <td>54</td>\n",
       "    </tr>\n",
       "  </tbody>\n",
       "</table>\n",
       "</div>"
      ],
      "text/plain": [
       "  class  score  score_perfect\n",
       "0     A   98.0             98\n",
       "1     B    NaN             90\n",
       "2     A   85.0             85\n",
       "3     A   80.0             80\n",
       "4     B    NaN             75\n",
       "5     B    NaN             73\n",
       "6     A   60.0             60\n",
       "7     B    NaN             54"
      ]
     },
     "execution_count": 2,
     "metadata": {},
     "output_type": "execute_result"
    }
   ],
   "source": [
    "# MARデータを作成\n",
    "mar_df = pd.DataFrame(\n",
    "    {\n",
    "        'class':['A','B','A','A','B','B','A','B'],\n",
    "        'score':[98, None, 85, 80, None, None, 60, None],\n",
    "        'score_perfect':[98, 90, 85, 80, 75, 73, 60, 54]\n",
    "    }\n",
    ")\n",
    "mar_df"
   ]
  },
  {
   "attachments": {},
   "cell_type": "markdown",
   "metadata": {},
   "source": [
    "class Bに欠測が集中している。"
   ]
  },
  {
   "attachments": {},
   "cell_type": "markdown",
   "metadata": {},
   "source": [
    "(c)MNAR(Missing Not At Random)：  \n",
    "欠測は、欠測データの値そのものの値に依存して生ずる"
   ]
  },
  {
   "cell_type": "code",
   "execution_count": 3,
   "metadata": {},
   "outputs": [
    {
     "data": {
      "text/html": [
       "<div>\n",
       "<style scoped>\n",
       "    .dataframe tbody tr th:only-of-type {\n",
       "        vertical-align: middle;\n",
       "    }\n",
       "\n",
       "    .dataframe tbody tr th {\n",
       "        vertical-align: top;\n",
       "    }\n",
       "\n",
       "    .dataframe thead th {\n",
       "        text-align: right;\n",
       "    }\n",
       "</style>\n",
       "<table border=\"1\" class=\"dataframe\">\n",
       "  <thead>\n",
       "    <tr style=\"text-align: right;\">\n",
       "      <th></th>\n",
       "      <th>class</th>\n",
       "      <th>score</th>\n",
       "      <th>score_perfect</th>\n",
       "    </tr>\n",
       "  </thead>\n",
       "  <tbody>\n",
       "    <tr>\n",
       "      <th>0</th>\n",
       "      <td>A</td>\n",
       "      <td>98.0</td>\n",
       "      <td>98</td>\n",
       "    </tr>\n",
       "    <tr>\n",
       "      <th>1</th>\n",
       "      <td>B</td>\n",
       "      <td>90.0</td>\n",
       "      <td>90</td>\n",
       "    </tr>\n",
       "    <tr>\n",
       "      <th>2</th>\n",
       "      <td>A</td>\n",
       "      <td>85.0</td>\n",
       "      <td>85</td>\n",
       "    </tr>\n",
       "    <tr>\n",
       "      <th>3</th>\n",
       "      <td>A</td>\n",
       "      <td>80.0</td>\n",
       "      <td>80</td>\n",
       "    </tr>\n",
       "    <tr>\n",
       "      <th>4</th>\n",
       "      <td>B</td>\n",
       "      <td>NaN</td>\n",
       "      <td>75</td>\n",
       "    </tr>\n",
       "    <tr>\n",
       "      <th>5</th>\n",
       "      <td>B</td>\n",
       "      <td>NaN</td>\n",
       "      <td>73</td>\n",
       "    </tr>\n",
       "    <tr>\n",
       "      <th>6</th>\n",
       "      <td>A</td>\n",
       "      <td>NaN</td>\n",
       "      <td>60</td>\n",
       "    </tr>\n",
       "    <tr>\n",
       "      <th>7</th>\n",
       "      <td>B</td>\n",
       "      <td>NaN</td>\n",
       "      <td>54</td>\n",
       "    </tr>\n",
       "  </tbody>\n",
       "</table>\n",
       "</div>"
      ],
      "text/plain": [
       "  class  score  score_perfect\n",
       "0     A   98.0             98\n",
       "1     B   90.0             90\n",
       "2     A   85.0             85\n",
       "3     A   80.0             80\n",
       "4     B    NaN             75\n",
       "5     B    NaN             73\n",
       "6     A    NaN             60\n",
       "7     B    NaN             54"
      ]
     },
     "execution_count": 3,
     "metadata": {},
     "output_type": "execute_result"
    }
   ],
   "source": [
    "# MNARデータを作成\n",
    "mnar_df = pd.DataFrame(\n",
    "    {\n",
    "        'class':['A','B','A','A','B','B','A','B'],\n",
    "        'score':[98, 90, 85, 80, None, None, None, None],\n",
    "        'score_perfect':[98, 90, 85, 80, 75, 73, 60, 54]\n",
    "    }\n",
    ")\n",
    "mnar_df"
   ]
  },
  {
   "attachments": {},
   "cell_type": "markdown",
   "metadata": {},
   "source": [
    "scoreが低いほうに欠測が集中している。"
   ]
  },
  {
   "attachments": {},
   "cell_type": "markdown",
   "metadata": {},
   "source": [
    "# 削除法と補完法\n",
    "\n",
    "不完全データから擬似的な完全データを作成するには、欠測のある個体を削除する**削除法**と、欠測箇所に何らかの値を代入する**補完法**(**代入法**)がある。  \n",
    "削除法の中で、多変量データで1箇所でも欠測のある個体は個体ごと削除し、全ての変量が観測されている個体のみを用いる解析法を**CC**(**Complete Case**)**解析**という。  \n",
    "それに対し、例えばある変量の平均値の計算では別の変量の観測・欠測は無関係であり、相関係数の計算では2つの変量さえ両方とも観測されていればよいことから、当該変量の計算では使えるデータは全部使うという**AC**(**Available Case**)**解析**がある。  \n",
    "欠測値に何らかの値を代入する補完法では、どのような値を欠測箇所に代入するかの選択肢があり、以下がよく用いられる。  \n",
    "(ⅰ)平均値代入：当該変量の観測データのみから求めた平均値を代入  \n",
    "(ⅱ)回帰代入：回帰式によって欠測部分を予測して代入  \n",
    "(ⅲ)Hot Deck法：欠測のあるサンプルと類似のサンプルを同じデータセットから探し出して、その観測データを欠測部分に代入"
   ]
  },
  {
   "attachments": {},
   "cell_type": "markdown",
   "metadata": {},
   "source": [
    "# 正規分布における推測(1変量正規分布)\n",
    "\n",
    "1変量データでは、欠測メカニズムはMCARかMNARのいずれかとなる。  \n",
    "欠測メカニズムがMCARの時は、サイズ$n$のランダムサンプルを得る計画だったが、$m$個しかデータが得られなかったとしても、観測された$m$個のデータのみを用いて統計的な分析を行なっても問題はない。  \n",
    "観測データのランダムネスは保たれるからである。  \n",
    "しかし、欠測が観測されるべき値に依存する場合は、その限りではなく、欠測した理由を加味した分析が必要となる。  \n",
    "例えば、ある既知の定数$c$があり、$c$を超えた観測データが得られないような状況である。これはMNARの一つである。  \n",
    "ここでさらに、$c$を超えて観測されないデータの個数の情報がある場合とない場合の区別が生じる。  \n",
    "全部で$n$個のデータを観測する計画を立てたが、$c$以下で実際に観測されたデータは$m$個であり、観測されなかった個数は$n-m$個であることがわかっている時、データは$c$で**打ち切り**になったという。  \n",
    "一方、$c$以下で$m$個のデータが観測されたが$c$を超えたデータの個数が不明の時、データは**トランケート**されたという。  \n",
    "打ち切りとトランケートの違いは、パラメータを推定する上で大きく影響するので注意する必要がある。"
   ]
  },
  {
   "attachments": {},
   "cell_type": "markdown",
   "metadata": {},
   "source": [
    "# 正規分布における推測(2変量正規分布)\n",
    "\n",
    "$2$変量確率変数$(X,Y)$は$2$変量正規分布$N(\\mu_X,\\mu_Y,\\sigma_X^2,\\sigma_Y^2,\\sigma_{XY}), \\rho=\\sigma_{XY}/(\\sigma_X \\sigma_Y)$に従うとし、その同時確率密度関数を$f(x,y)$とする。  \n",
    "欠測メカニズムがMCARであれば、削除法を適用し$\\mu_Y$の推定値は観測データの標本平均$\\bar{y}$とし、相関係数$\\rho$の推定値は標本相関係数$r$とすれば良い。   \n",
    "欠測メカニズムがMARの場合には、$x$を与えた時の$y$の条件つき推測では$y$の欠測は完全にランダムとなることを利用して推測を行う。  \n",
    "欠測メカニズムがMNARの場合には、$x$を与えた時の$y$の欠測メカニズムをモデル化しておく必要がある。分析は容易ではない。"
   ]
  },
  {
   "attachments": {},
   "cell_type": "markdown",
   "metadata": {},
   "source": [
    "# EMアルゴリズム\n",
    "\n",
    "MARの状況で、欠測値のあるデータからパラメータの最尤推定値を求める一般的なアルゴリズムが**EMアルゴリズム**である。  \n",
    "データが$X$と$Y$の$2$つの部類に分かれ、$Y=y$のみが観測され、$X$が欠測したとする。  \n",
    "$(X,Y)$の同時確率密度関数を$f(x,y;\\theta)$とすると、$y$の周辺確率密度関数は$f(y;\\theta)=\\int f(x,y;\\theta)dx$である。  \n",
    "これを$\\theta$の尤度関数として、反復計算により最大化したい。  \n",
    "EMアルゴリズムでは、以下の**E-ステップ**と**M-ステップ**を交互に繰り返す。  \n",
    "E-ステップ:$\\theta$の現在の値を$\\theta^*$として、$\\theta^*$のもとで完全データの対数尤度比の条件付き期待値$q(\\theta|\\theta^*)$を次式で計算する。\n",
    "$$\n",
    "q(\\theta|\\theta^*) = \\int \\log \\frac{f(x,y;\\theta)}{f(x,y;\\theta^*)}f_{X|Y}(x|y;\\theta^*)dx\n",
    "$$\n",
    "M-ステップ:$q(\\theta|\\theta^*)$を$\\theta$について最大化する。  \n",
    "E-ステップとM-ステップを行うと尤度が必ず非減少となることが示されるので、EMアルゴリズムが収束すれば尤度関数の極大値に到達する。"
   ]
  },
  {
   "cell_type": "code",
   "execution_count": 4,
   "metadata": {},
   "outputs": [
    {
     "data": {
      "image/png": "[encoded data removed]",
      "text/plain": [
       "<Figure size 558.75x500 with 1 Axes>"
      ]
     },
     "metadata": {},
     "output_type": "display_data"
    }
   ],
   "source": [
    "# EMアルゴリズムを実行\n",
    "import numpy as np\n",
    "import matplotlib.pyplot as plt\n",
    "import seaborn as sns\n",
    "\n",
    "# まずは学習させたいデータを描画\n",
    "x1 = np.random.normal(loc=0.5, scale=1 , size =100).reshape(-1,1)\n",
    "x2 = np.random.normal(loc=10, scale=2 , size =100).reshape(-1,1)\n",
    "x3 = np.random.normal(loc=0, scale=3 , size =100).reshape(-1,1)\n",
    "x = np.concatenate([x1 , x2 , x3])\n",
    "sns.displot(data=x, kde=True)\n",
    "plt.title(\"base data\")\n",
    "plt.show()"
   ]
  },
  {
   "cell_type": "code",
   "execution_count": 5,
   "metadata": {},
   "outputs": [
    {
     "name": "stdout",
     "output_type": "stream",
     "text": [
      "初期パラメータ mu:[ 0 10  3], sig:[ 1  5 10], pi:[0.1 0.4 0.5]\n",
      "iter_num=0, LF=-890.2571174841755, change=-890.2571174841755\n",
      "iter_num=5, LF=-820.9398431035568, change=0.39936717404964384\n",
      "iter_num=10, LF=-820.0777496184558, change=0.09600521967217901\n",
      "iter_num=15, LF=-819.8444779649269, change=0.0256033007269707\n",
      "iter_num=19, LF=-819.7886770919584, change=0.00916044553912343\n",
      "Iteration is finished 20 iter. \n",
      "更新後パラメータ mu:[ 0.32741894 10.10323433  0.07488616], sig:[0.64745293 4.49251756 9.38785807], pi:[0.31901372 0.33111265 0.34987363]\n"
     ]
    }
   ],
   "source": [
    "# 初期パラメータ\n",
    "mu = np.array([0, 10, 3])\n",
    "sig = np.array([1, 5, 10])\n",
    "pi = np.array([0.1, 0.4, 0.5])\n",
    "print(f\"初期パラメータ mu:{mu}, sig:{sig}, pi:{pi}\")\n",
    "\n",
    "# 学習パラメータ\n",
    "iter_num = 100\n",
    "e_val = 0.01\n",
    "LF = 0\n",
    "\n",
    "for i in range(iter_num):\n",
    "    # 正規分布の値を取得\n",
    "    gaus_val = np.exp( - pow((x-mu), 2) /(2*sig) )/np.sqrt(2*np.pi*sig)\n",
    "    \n",
    "    # ----- E-ステップ ----- #\n",
    "    # 事後分布の計算\n",
    "    gamma_val = pi * gaus_val\n",
    "    gamma_val = gamma_val/np.sum(gamma_val, axis=1).reshape(len(x),1)\n",
    "    N_k = np.sum(gamma_val, axis=0)\n",
    "    N = np.sum(N_k)\n",
    "\n",
    "    # ----- M-ステップ ----- #\n",
    "    LF_new = np.sum(np.log(np.sum(pi*gaus_val, axis=1)))\n",
    "    ch = LF_new - LF\n",
    "    if i%5==0:\n",
    "        print(f\"iter_num={i}, LF={LF_new}, change={ch}\")\n",
    "\n",
    "    # e_val以下になるまで尤度を更新\n",
    "    if np.abs(ch) < e_val:\n",
    "        print(f\"iter_num={i}, LF={LF_new}, change={ch}\")\n",
    "        print(f\"Iteration is finished {i+1} iter. \")\n",
    "        break\n",
    "    LF = LF_new\n",
    "\n",
    "    # パラメータの更新\n",
    "    mu_k = np.sum(x*gamma_val, axis=0) / N_k\n",
    "    sig_k = np.sum(gamma_val*pow(x-mu, 2), axis=0) / N_k\n",
    "    pi_k = N_k / N\n",
    "    \n",
    "    pi = pi_k\n",
    "    mu = mu_k\n",
    "    sig = sig_k\n",
    "\n",
    "print(f\"更新後パラメータ mu:{mu}, sig:{sig}, pi:{pi}\")\n"
   ]
  },
  {
   "cell_type": "code",
   "execution_count": 6,
   "metadata": {},
   "outputs": [
    {
     "data": {
      "image/png": "[encoded data removed]",
      "text/plain": [
       "<Figure size 558.75x500 with 1 Axes>"
      ]
     },
     "metadata": {},
     "output_type": "display_data"
    }
   ],
   "source": [
    "# 推定データを描画\n",
    "x_pred1 = np.random.normal(loc=mu[0], scale=np.sqrt(sig)[0] , size =int(300*pi[0]) ).reshape(-1,1)\n",
    "x_pred2 = np.random.normal(loc=mu[1], scale=np.sqrt(sig)[1] , size =int(300*pi[1]) ).reshape(-1,1)\n",
    "x_pred3 = np.random.normal(loc=mu[2], scale=np.sqrt(sig)[2] , size =int(300*pi[2]) ).reshape(-1,1)\n",
    "x_pred = np.concatenate([x_pred1, x_pred2, x_pred3])\n",
    "sns.displot(data=x_pred, kde=True)\n",
    "plt.title(\"EM algoritym result\")\n",
    "plt.show()"
   ]
  },
  {
   "attachments": {},
   "cell_type": "markdown",
   "metadata": {},
   "source": [
    "学習元データと同じような確率密度分布を描画することができた"
   ]
  }
 ],
 "metadata": {
  "kernelspec": {
   "display_name": "Python 3.9.7 ('base')",
   "language": "python",
   "name": "python3"
  },
  "language_info": {
   "codemirror_mode": {
    "name": "ipython",
    "version": 3
   },
   "file_extension": ".py",
   "mimetype": "text/x-python",
   "name": "python",
   "nbconvert_exporter": "python",
   "pygments_lexer": "ipython3",
   "version": "3.11.1"
  },
  "orig_nbformat": 4,
  "vscode": {
   "interpreter": {
    "hash": "31764a0ab3329e725d74bc2166eb119537181bd6cc650e6bbc5c27684234dfe8"
   }
  }
 },
 "nbformat": 4,
 "nbformat_minor": 2
}

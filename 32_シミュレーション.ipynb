{
 "cells": [
  {
   "cell_type": "code",
   "execution_count": 2,
   "metadata": {},
   "outputs": [
    {
     "data": {
      "image/png": "[encoded data removed]",
      "text/plain": [
       "<Figure size 432x288 with 1 Axes>"
      ]
     },
     "metadata": {
      "needs_background": "light"
     },
     "output_type": "display_data"
    }
   ],
   "source": [
    "# モンテカルロ法とは\n",
    "# 乱数を用いたシミュレーションを多数回実施し近似的な解を求める手法\n",
    "\n",
    "# 円周率(π)を求めてみる\n",
    "# 以下の面積比を用いて導出する\n",
    "# プロットした点の個数(N) : 円(1/4)の領域に入った点の個数(Ni)　= 1 : π/4\n",
    "\n",
    "import numpy as np\n",
    "import matplotlib.pyplot as plt\n",
    "\n",
    "# 試行回数のリスト\n",
    "n_tot = [100,1000,10000,100000,200000,300000,400000,500000]\n",
    "\n",
    "for i in n_tot:\n",
    "    x1 = np.random.rand(i,2)\n",
    "    x2 = x1**2\n",
    "    x3 = np.sum(x2,axis=-1)\n",
    "    x4 = x3**0.5\n",
    "    x5 = np.count_nonzero(x4 < 1)    \n",
    "    plt.plot(i,4*x5/i,color='green',marker='o')\n",
    "\n",
    "x = [0,500000]\n",
    "y = [np.pi,np.pi]\n",
    "plt.plot(x, y, color = 'red',linestyle='solid', label='True value')\n",
    "plt.show() # 試行回数が増えるにつれ、3.14に近似することがわかる"
   ]
  },
  {
   "cell_type": "code",
   "execution_count": 5,
   "metadata": {},
   "outputs": [
    {
     "data": {
      "image/png": "[encoded data removed]",
      "text/plain": [
       "<Figure size 432x288 with 1 Axes>"
      ]
     },
     "metadata": {},
     "output_type": "display_data"
    }
   ],
   "source": [
    "# 乱数生成：逆関数法\n",
    "# 区間(0,1)の一様分布から生成した乱数に偏りをもたせて写像する\n",
    "\n",
    "# 一様変数から指数分布に従う乱数を生成する\n",
    "import numpy as np\n",
    "import matplotlib.pyplot as plt\n",
    "\n",
    "# 一様分布に従う乱数を10000個生成\n",
    "U_data = np.random.rand(10000)\n",
    "\n",
    "# 逆関数方法で指数分布に従うデータを生成\n",
    "# 逆関数：-1/λ * log(1-u)\n",
    "result_data = -np.log(1 - U_data) # λ=1の場合\n",
    "\n",
    "# 乱数データのヒストグラムと指数分布の確率密度関数を描画\n",
    "fig = plt.figure(facecolor=\"w\")\n",
    "ax = fig.add_subplot(111)\n",
    "ax.hist(result_data, bins=100, density=True)\n",
    "ax.plot(np.arange(0, 8, 0.1), np.exp(-1*np.arange(0, 8, 0.1)))\n",
    "plt.show()"
   ]
  },
  {
   "cell_type": "code",
   "execution_count": 9,
   "metadata": {},
   "outputs": [
    {
     "name": "stdout",
     "output_type": "stream",
     "text": [
      "M = 2.66974399494535\n",
      "サンプル数: 100000 => 37596\n",
      "実際の受理率  : 0.375960\n",
      "理論的な受理率: 0.374568\n"
     ]
    },
    {
     "data": {
      "image/png": "[encoded data removed]",
      "text/plain": [
       "<Figure size 432x288 with 1 Axes>"
      ]
     },
     "metadata": {
      "needs_background": "light"
     },
     "output_type": "display_data"
    }
   ],
   "source": [
    "# 乱数生成：採択棄却法\n",
    "# \n",
    "\n",
    "import numpy as np\n",
    "import matplotlib.pyplot as plt\n",
    "import scipy.optimize\n",
    "from scipy.stats import uniform, beta\n",
    "\n",
    "np.random.seed()\n",
    "\n",
    "# 目標とする密度関数f\n",
    "f = beta(a=2.7, b=6.3).pdf\n",
    "\n",
    "# 提案分布(一様分布)\n",
    "gv = uniform\n",
    "g = gv.pdf\n",
    "\n",
    "# 分布の上限を指定する定数Mを設定\n",
    "xopt = scipy.optimize.fmin(lambda x: -f(x), 0.0, disp=False)\n",
    "M = f(xopt)[0]\n",
    "print(\"M =\", M)\n",
    "\n",
    "# 受理・棄却法\n",
    "rand_count = 100000\n",
    "\n",
    "# 提案分布gからの乱数Yを生成\n",
    "Y = gv.rvs(size=rand_count)\n",
    "\n",
    "# 一様乱数を生成\n",
    "U = uniform.rvs(size=rand_count)\n",
    "\n",
    "# Yか採択の条件を満たすサンプルXを残して残りを棄却\n",
    "X = Y[U <= f(Y) / (M * g(Y))]\n",
    "print(\"サンプル数: %d => %d\" % (len(Y), len(X)))\n",
    "print(\"実際の受理率  : %f\" % (len(X) / float(len(Y))))\n",
    "print(\"理論的な受理率: %f\" % (1.0 / M))\n",
    "\n",
    "# 目標分布を描画\n",
    "x = np.linspace(0.0, 1.0, 1000)\n",
    "y = f(x)\n",
    "plt.plot(x, y, 'r-', lw=2)\n",
    "\n",
    "# 提案分布(一様分布)を描画\n",
    "y = M * uniform.pdf(x)\n",
    "plt.plot(x, y, 'g-', lw=2)\n",
    "\n",
    "# 採択した乱数の分布を描画\n",
    "plt.hist(X, bins=50, density=True)\n",
    "\n",
    "plt.show()"
   ]
  },
  {
   "cell_type": "code",
   "execution_count": 10,
   "metadata": {},
   "outputs": [
    {
     "name": "stdout",
     "output_type": "stream",
     "text": [
      "10 ,  3.2 ,  0.018591635788130244\n",
      "100 ,  3.36 ,  0.06952121757753665\n",
      "1000 ,  3.064 ,  0.024698508732865325\n",
      "10000 ,  3.162 ,  0.0064958601131461175\n",
      "100000 ,  3.1408 ,  0.00025230947395020833\n",
      "1000000 ,  3.1424 ,  0.0002569863439438007\n",
      "10000000 ,  3.14181 ,  6.918351109540606e-05\n"
     ]
    }
   ],
   "source": [
    "# モンテカルロ積分とは\n",
    "# 乱数を用いて積分を数値計算すること\n",
    "\n",
    "# 単純モンテカルロ法による円周率の計算\n",
    "# *先頭の計算と同じ\n",
    "\n",
    "import numpy as np\n",
    "from random import random\n",
    "\n",
    "def f(x):\n",
    "    return 1.0/(1.0+x**2)\n",
    "\n",
    "# 試行回数のリスト\n",
    "calc_count_list = [10, 10**2, 10**3, 10**4, 10**5, 10**6, 10**7]\n",
    "\n",
    "for N in  calc_count_list:\n",
    "    count = 0.0\n",
    "    for i in range(N):\n",
    "        x = random()  # [0,1]までの一様乱数をxに格納\n",
    "        y = random()  # [0,1]までの一様乱数をyに格納\n",
    "        if y < f (x):   #もし円の中に入ったらそれをカウントする\n",
    "            count +=1.0\n",
    "    area = 4*count/N # 積分結果\n",
    "\n",
    "    print(N, \", \", area, \", \", abs((np.pi-area)/np.pi))"
   ]
  },
  {
   "cell_type": "code",
   "execution_count": 12,
   "metadata": {},
   "outputs": [
    {
     "name": "stdout",
     "output_type": "stream",
     "text": [
      "16 2.9425288372830587\n",
      "32 2.9910898674010964\n",
      "64 2.999912985861819\n",
      "128 2.998972833040984\n",
      "256 2.996096592354178\n"
     ]
    }
   ],
   "source": [
    "# ジャックナイフ法とは\n",
    "# 無作為標本から得られた母数の推定量が不偏でないとき，標本を分割して、\n",
    "# 幾つかの観測値を抜き取っては反復計算することで推定量のバイアスを減少させる方法のこと\n",
    "# この方法によって得られた推定量をジャックナイフ推定量という．\n",
    "\n",
    "import numpy as np\n",
    "import sympy\n",
    "\n",
    "def jackknife_estimator(r):\n",
    "    divs = np.array(sympy.divisors(n))\n",
    "    idx = np.abs(divs-np.sqrt(len(r))).argmin()\n",
    "    bin_size = divs[idx]\n",
    "    r2 = r ** 2\n",
    "    r4 = r ** 4\n",
    "    u_all = np.average(r4)/np.average(r2)**2\n",
    "    r2 = [np.average(r2[i:i+bin_size]) for i in range(0, len(r), bin_size)]\n",
    "    r4 = [np.average(r4[i:i+bin_size]) for i in range(0, len(r), bin_size)]\n",
    "    u_jn = []\n",
    "    m = len(r) // bin_size\n",
    "    for i in range(m):\n",
    "        r2_i = np.average(np.delete(r2,i))\n",
    "        r4_i = np.average(np.delete(r4,i))\n",
    "        u_jn.append(r4_i/r2_i**2)\n",
    "    return m*u_all - (m-1)*np.average(u_jn)\n",
    "\n",
    "samples = np.array([16,32,64,128,256])\n",
    "n_trials = 128**2\n",
    "for n in samples:\n",
    "    u = [jackknife_estimator(np.random.randn(n)) for _ in range(n_trials)]\n",
    "    print(f\"{n} {np.average(u)}\")"
   ]
  },
  {
   "cell_type": "code",
   "execution_count": 20,
   "metadata": {},
   "outputs": [
    {
     "name": "stdout",
     "output_type": "stream",
     "text": [
      "相関行列：[[1.         0.38754773]\n",
      " [0.38754773 1.        ]]\n"
     ]
    },
    {
     "data": {
      "image/png": "[encoded data removed]",
      "text/plain": [
       "<Figure size 432x288 with 1 Axes>"
      ]
     },
     "metadata": {
      "needs_background": "light"
     },
     "output_type": "display_data"
    }
   ],
   "source": [
    "# ブートストラップ法とは\n",
    "# 標本集団から標本集団と同じ数だけランダムに値を再抽出し、\n",
    "# 新しいデータセットを取得し統計値を計算することで母集団の性質を推定するための方法\n",
    "\n",
    "import numpy as np\n",
    "import matplotlib.pyplot as plt\n",
    "\n",
    "#英語の点数\n",
    "scoE = np.array([60, 89, 65, 60, 73, 52, 70, 65, 65, 70])\n",
    "#数学の点数\n",
    "scoM = np.array([88, 82, 60, 65, 85, 56, 57, 75, 42, 90])\n",
    "\n",
    "scoTotal = np.array([scoE, scoM])\n",
    "print(\"相関行列：{}\".format(np.corrcoef(scoTotal)))\n",
    "\n",
    "# 相関係数リスト\n",
    "r_list = []\n",
    "\n",
    "# 点数リスト\n",
    "scoE_data = []\n",
    "scoM_data = []\n",
    "\n",
    "for i in range(0,100):\n",
    "    for j in range(0,10):\n",
    "        #データから10個のデータをランダムに取り出し標本を作成\n",
    "        var = np.random.randint(0,10)\n",
    "        scoE_data.append(scoE[var])\n",
    "        scoM_data.append(scoM[var])\n",
    "        \n",
    "    #作られた標本を元に相関係数を導出\n",
    "    r = np.corrcoef(scoE_data, scoM_data)\n",
    "        \n",
    "    #相関係数を相関係数リストに代入\n",
    "    r_list.append(r[0][1])\n",
    "\n",
    "    #点数リストを初期化\n",
    "    scoE_data.clear()\n",
    "    scoM_data.clear()\n",
    "\n",
    "plt.hist(r_list, bins=20, rwidth=0.9, color=\"red\", alpha=0.5)\n",
    "plt.show() # 導出した相関係数0.38(理論値)を中心とした正規分布に近似する"
   ]
  }
 ],
 "metadata": {
  "kernelspec": {
   "display_name": "Python 3.9.7 ('base')",
   "language": "python",
   "name": "python3"
  },
  "language_info": {
   "codemirror_mode": {
    "name": "ipython",
    "version": 3
   },
   "file_extension": ".py",
   "mimetype": "text/x-python",
   "name": "python",
   "nbconvert_exporter": "python",
   "pygments_lexer": "ipython3",
   "version": "3.9.7"
  },
  "orig_nbformat": 4,
  "vscode": {
   "interpreter": {
    "hash": "31764a0ab3329e725d74bc2166eb119537181bd6cc650e6bbc5c27684234dfe8"
   }
  }
 },
 "nbformat": 4,
 "nbformat_minor": 2
}

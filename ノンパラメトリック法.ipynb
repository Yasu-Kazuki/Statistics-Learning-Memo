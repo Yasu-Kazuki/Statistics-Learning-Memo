{
 "cells": [
  {
   "cell_type": "code",
   "execution_count": 1,
   "metadata": {},
   "outputs": [],
   "source": [
    "# ノンパラメトリック法とは？\n",
    "# 正規分布などの母集団分布の仮定を設けない状態で仮設検定を行うもの"
   ]
  },
  {
   "cell_type": "code",
   "execution_count": 13,
   "metadata": {},
   "outputs": [
    {
     "data": {
      "text/plain": [
       "0.45"
      ]
     },
     "execution_count": 13,
     "metadata": {},
     "output_type": "execute_result"
    }
   ],
   "source": [
    "# 2郡間の差の検定1 ウィルコクソンの順位和検定\n",
    "\n",
    "# 帰無仮説：2郡A,Bの成績の分布は同じ\n",
    "# 対立仮設：郡Aの成績の分布の形は郡Bと同じだが、悪い(-)方にズレている(片側検定)\n",
    "\n",
    "import numpy as np\n",
    "from scipy.special import comb\n",
    "\n",
    "# サンプルデータを用意し、A,Bの２郡に分ける\n",
    "x = np.array([30., 20., 52., 40., 50., 35.])\n",
    "x_A = x[:3]\n",
    "x_B = x[3:]\n",
    "\n",
    "# 郡Aと郡Bのデータを合わせて、小さい順に順位を与える(1~)\n",
    "rank_A = np.argsort(x)[:3]+1\n",
    "rank_B = np.argsort(x)[3:]+1\n",
    "\n",
    "# 郡ごとに順位の和を計算する\n",
    "W_A = np.sum(rank_A)\n",
    "W_B = np.sum(rank_B)\n",
    "\n",
    "# P値を求める。P値=郡Aの順位和/全データに与えられる順位の組合せ数\n",
    "comb_all = comb(len(x), len(x_A), exact=True)\n",
    "P_value = W_A/comb_all\n",
    "P_value"
   ]
  },
  {
   "cell_type": "code",
   "execution_count": 15,
   "metadata": {},
   "outputs": [
    {
     "data": {
      "text/plain": [
       "0.25"
      ]
     },
     "execution_count": 15,
     "metadata": {},
     "output_type": "execute_result"
    }
   ],
   "source": [
    "# 2郡間の差の検定2 並べ替え検定\n",
    "\n",
    "# 帰無仮説：2郡A,Bの成績の分布は同じ\n",
    "# 対立仮設：郡Aの成績の分布の形は郡Bと同じだが、悪い(-)方にズレている(片側検定)\n",
    "\n",
    "import numpy as np\n",
    "import itertools\n",
    "from scipy.special import comb\n",
    "\n",
    "# サンプルデータを用意し、A,Bの２郡に分ける\n",
    "x = np.array([30., 20., 52., 40., 50., 35.])\n",
    "x_A = x[:3]\n",
    "x_B = x[3:]\n",
    "\n",
    "# 郡ごとの平均値を求める\n",
    "avg_A = np.average(x_A)\n",
    "avg_B = np.average(x_B)\n",
    "\n",
    "# P値を求める。郡Aと同じサンプル数を抜き出した際の平均値が郡A以下になる確率\n",
    "count_target = 0\n",
    "count_comb_all = comb(len(x), len(x_A), exact=True)\n",
    "for comb in itertools.combinations(x, 3):\n",
    "    if sum(comb)/len(x_A) <= avg_A:\n",
    "        count_target+=1\n",
    "\n",
    "P_value = count_target/count_comb_all\n",
    "P_value\n"
   ]
  },
  {
   "cell_type": "code",
   "execution_count": 41,
   "metadata": {},
   "outputs": [
    {
     "name": "stdout",
     "output_type": "stream",
     "text": [
      "15\n"
     ]
    }
   ],
   "source": [
    "# 対応がある場合の差の検定1 (ウィルコクソンの)符号付き順位検定\n",
    "\n",
    "# 帰無仮説：分布Dの中央値が0\n",
    "# 対立仮設：分布Dの中央値が0以上(片側検定)\n",
    "# 分布Dの対称性を仮定し、介入前と介入後で効果があったかどうかを検定\n",
    "\n",
    "import numpy as np\n",
    "\n",
    "X_before = np.array([30., 20., 52., 40., 50., 35., 25.])\n",
    "X_after = np.array([15., 11., 52., 46., 61., 55., 50.])\n",
    "\n",
    "# 差分を算出する\n",
    "D_val = X_after - X_before\n",
    "\n",
    "# 値が0の観測値は除いた、符号付きの順位を算出する\n",
    "D_val_nonzero = D_val[np.nonzero(D_val)]\n",
    "rank_unsigned = np.argsort(abs(D_val_nonzero))\n",
    "D_val_nonzero = D_val_nonzero[rank_unsigned.tolist()] \n",
    "rank_signed = np.array(range(1, len(rank_unsigned)+1))\n",
    "for i in rank_signed.tolist():\n",
    "    if D_val_nonzero[i-1] < 0:\n",
    "        rank_signed[i-1] = rank_signed[i-1] * -1\n",
    "\n",
    "# 正値の合計T+を検定統計量とする\n",
    "T_plus_val = rank_signed[rank_signed > 0].sum()\n",
    "\n",
    "# 全ての順位の±の組み合わせ数のうち、T_plus_val以上となる確率をP値とする。処理は割愛する\n"
   ]
  },
  {
   "cell_type": "code",
   "execution_count": 50,
   "metadata": {},
   "outputs": [
    {
     "name": "stderr",
     "output_type": "stream",
     "text": [
      "/Users/yasukawakazuki/opt/anaconda3/lib/python3.9/site-packages/scipy/stats/morestats.py:3141: UserWarning: Exact p-value calculation does not work if there are ties. Switching to normal approximation.\n",
      "  warnings.warn(\"Exact p-value calculation does not work if there are \"\n",
      "/Users/yasukawakazuki/opt/anaconda3/lib/python3.9/site-packages/scipy/stats/morestats.py:3155: UserWarning: Sample size too small for normal approximation.\n",
      "  warnings.warn(\"Sample size too small for normal approximation.\")\n"
     ]
    },
    {
     "data": {
      "text/plain": [
       "WilcoxonResult(statistic=6.0, pvalue=0.8272762347653871)"
      ]
     },
     "execution_count": 50,
     "metadata": {},
     "output_type": "execute_result"
    }
   ],
   "source": [
    "# scipyを使用して算出。正規分布への近似を利用して計算する\n",
    "\n",
    "from scipy import stats\n",
    "\n",
    "import numpy as np\n",
    "\n",
    "X_before = np.array([30., 20., 52., 40., 50., 35., 25.])\n",
    "X_after = np.array([15., 11., 52., 46., 61., 55., 50.])\n",
    "result = stats.wilcoxon(X_before, X_after, alternative='greater')\n",
    "result"
   ]
  },
  {
   "cell_type": "code",
   "execution_count": 57,
   "metadata": {},
   "outputs": [
    {
     "data": {
      "text/plain": [
       "0.34375"
      ]
     },
     "execution_count": 57,
     "metadata": {},
     "output_type": "execute_result"
    }
   ],
   "source": [
    "# 対応がある場合の差の検定2 符号検定\n",
    "\n",
    "# 帰無仮説：分布Dの中央値が0\n",
    "# 対立仮設：分布Dの中央値が0以上(片側検定)\n",
    "# D分布の対称性は仮定しない\n",
    "\n",
    "# 帰無仮説が正しいとき、検定統計量T+は二項分布Bin(n, 0.5)に従うと考えてP値を算出する。\n",
    "# nは、0の値を取らないサンプル数\n",
    "# scipyを使用して算出。\n",
    "\n",
    "from scipy import stats\n",
    "\n",
    "import numpy as np\n",
    "\n",
    "# 正になった個数を検定統計量T+とする\n",
    "X_before = np.array([30., 20., 52., 40., 50., 35., 25.])\n",
    "X_after = np.array([15., 11., 52., 46., 61., 55., 50.])\n",
    "D_val = X_after - X_before\n",
    "T_plus_val = np.count_nonzero(D_val > 0)\n",
    "non_zero_num = np.count_nonzero(D_val != 0)\n",
    "\n",
    "# P値を算出\n",
    "result = stats.binom_test(x=T_plus_val, n=non_zero_num, p=0.5, alternative='greater')\n",
    "result\n"
   ]
  },
  {
   "cell_type": "code",
   "execution_count": 58,
   "metadata": {},
   "outputs": [
    {
     "data": {
      "text/plain": [
       "KruskalResult(statistic=2.962121212121211, pvalue=0.2273963824597735)"
      ]
     },
     "execution_count": 58,
     "metadata": {},
     "output_type": "execute_result"
    }
   ],
   "source": [
    "# 3郡以上の差の検定 クラスカル・ウォリス検定\n",
    "\n",
    "# 帰無仮説：全ての郡の分布は同じ\n",
    "# 対立仮設：全ての郡の分布は同じではない\n",
    "# scipyを使用して算出。\n",
    "\n",
    "import numpy as np\n",
    "from scipy import stats\n",
    "\n",
    "group_a = np.array([22., 30., 42.])\n",
    "group_b = np.array([36., 40., 52., 53.])\n",
    "group_c = np.array([25., 32., 45., 48.])\n",
    "\n",
    "result = stats.mstats.kruskalwallis(group_a, group_b, group_c)\n",
    "result"
   ]
  },
  {
   "cell_type": "code",
   "execution_count": 59,
   "metadata": {},
   "outputs": [],
   "source": [
    "# 順位相関係数とは？\n",
    "# 2次元データが共に順位データである場合の相関係数のこと"
   ]
  },
  {
   "cell_type": "code",
   "execution_count": 62,
   "metadata": {},
   "outputs": [
    {
     "data": {
      "text/plain": [
       "0.8571428571428572"
      ]
     },
     "execution_count": 62,
     "metadata": {},
     "output_type": "execute_result"
    }
   ],
   "source": [
    "# スピアマンの順位相関係数\n",
    "\n",
    "import numpy as np\n",
    "\n",
    "x_val = np.array([1., 2., 3., 4., 5., 6., 7.])\n",
    "y_val = np.array([1., 3., 2., 6., 4., 5., 7.])\n",
    "diff = x_val - y_val\n",
    "square_diff_val = np.square(diff).sum()\n",
    "n = len(x_val)\n",
    "\n",
    "# スピアマンの順位相関係数を計算\n",
    "rs_val = 1 - (6*square_diff_val / (n*(n**(2)-1)) )\n",
    "rs_val"
   ]
  },
  {
   "cell_type": "code",
   "execution_count": 64,
   "metadata": {},
   "outputs": [
    {
     "data": {
      "text/plain": [
       "0.8571428571428573"
      ]
     },
     "execution_count": 64,
     "metadata": {},
     "output_type": "execute_result"
    }
   ],
   "source": [
    "# scipyを使用して算出した場合\n",
    "\n",
    "import scipy.stats as st\n",
    "\n",
    "corr, pvalue = st.spearmanr(x_val, y_val)\n",
    "corr # 上記と同じ値を算出"
   ]
  },
  {
   "cell_type": "code",
   "execution_count": 70,
   "metadata": {},
   "outputs": [
    {
     "data": {
      "text/plain": [
       "0.7142857142857143"
      ]
     },
     "execution_count": 70,
     "metadata": {},
     "output_type": "execute_result"
    }
   ],
   "source": [
    "# ケンドールの順位相関係数\n",
    "\n",
    "x_val = np.array([1., 2., 3., 4., 5., 6., 7.])\n",
    "y_val = np.array([1., 3., 2., 6., 4., 5., 7.])\n",
    "\n",
    "# (xi, yi)と(xj, yj)について(xi-xj)*(yi-yj)が正となる組の数をP、負となる数をNとする\n",
    "# この時、i≠jかつi<jを満たす\n",
    "\n",
    "P_count = 0\n",
    "N_count = 0\n",
    "n = len(x_val)\n",
    "\n",
    "for i in range(len(x_val)):\n",
    "    for j in range(len(x_val)):\n",
    "        if i >= j:\n",
    "            continue\n",
    "\n",
    "        val = (x_val[i]-x_val[j])*(y_val[i]-y_val[j])\n",
    "        if val > 0:\n",
    "            P_count+=1\n",
    "        else:\n",
    "            N_count+=1\n",
    "\n",
    "# ケンドールの順位相関係数を計算\n",
    "rk_val = (P_count - N_count) / (n*(n-1)/2)\n",
    "rk_val"
   ]
  },
  {
   "cell_type": "code",
   "execution_count": 69,
   "metadata": {},
   "outputs": [
    {
     "data": {
      "text/plain": [
       "0.7142857142857143"
      ]
     },
     "execution_count": 69,
     "metadata": {},
     "output_type": "execute_result"
    }
   ],
   "source": [
    "# scipyを使用して算出した場合\n",
    "\n",
    "import scipy.stats as st\n",
    "\n",
    "corr, pvalue = st.kendalltau(x_val, y_val)\n",
    "corr # 上記と同じ値を算出"
   ]
  }
 ],
 "metadata": {
  "kernelspec": {
   "display_name": "Python 3.9.7 ('base')",
   "language": "python",
   "name": "python3"
  },
  "language_info": {
   "codemirror_mode": {
    "name": "ipython",
    "version": 3
   },
   "file_extension": ".py",
   "mimetype": "text/x-python",
   "name": "python",
   "nbconvert_exporter": "python",
   "pygments_lexer": "ipython3",
   "version": "3.9.7"
  },
  "orig_nbformat": 4,
  "vscode": {
   "interpreter": {
    "hash": "31764a0ab3329e725d74bc2166eb119537181bd6cc650e6bbc5c27684234dfe8"
   }
  }
 },
 "nbformat": 4,
 "nbformat_minor": 2
}

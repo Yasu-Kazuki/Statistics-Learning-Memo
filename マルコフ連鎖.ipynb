{
 "cells": [
  {
   "cell_type": "code",
   "execution_count": 1,
   "metadata": {},
   "outputs": [],
   "source": [
    "# マルコフ連載とは？\n",
    "# 遷移の確率が完全に現在の状態にのみ依存し、前のシーケンスの状態には依存しないことをマルコフ性という\n",
    "# このような性質を満たす確率変数をマルコフ連鎖という\n",
    "# 要するに、現在の状態(Xn)から未来の状態(Xn+1)を推測するということ。そのために過去の状態(X0, X1,..Xn-1)は加味しないことを意味する\n",
    "# Xnがとる値の空間のことを状態空間ともいう"
   ]
  },
  {
   "cell_type": "code",
   "execution_count": 7,
   "metadata": {},
   "outputs": [
    {
     "data": {
      "text/plain": [
       "['sunny', 'sunny', 'sunny', 'sunny', 'sunny']"
      ]
     },
     "execution_count": 7,
     "metadata": {},
     "output_type": "execute_result"
    }
   ],
   "source": [
    "# 具体例 天気の予測\n",
    "\n",
    "import numpy as np\n",
    "import random as rm\n",
    "\n",
    "states = [\"sunny\", \"rainy\"]\n",
    "transitions = [[\"SS\", \"SR\"],[\"RS\", \"RR\"]] # S=sunny, R=rainnyでSSはsunny->sunnyとなる状態遷移\n",
    "T = [[0.9, 0.1],[0.5, 0.5]] # transitionsの各要素に対応する確率行列\n",
    "\n",
    "# 現在の天気\n",
    "today_weather = \"sunny\"\n",
    "\n",
    "# 予測したい日数\n",
    "forcast_days = 5\n",
    "\n",
    "# マルコフ連鎖に基づいて計算\n",
    "# 現在の天気と上の遷移確率に基づいて推測\n",
    "weather_list = []\n",
    "n_days = 0\n",
    "prob = 1.0\n",
    "while n_days != forcast_days:\n",
    "    if today_weather == \"sunny\":\n",
    "        change = np.random.choice(transitions[0], p=T[0])\n",
    "        if change == \"SS\":\n",
    "            prob = prob * T[0][0]\n",
    "            weather_list.append(states[0])\n",
    "        else:\n",
    "            prob = prob * T[0][1]\n",
    "            weather_list.append(states[1])            \n",
    "    else:\n",
    "        change = np.random.choice(transitions[1], p=T[1])\n",
    "        if change == \"RS\":\n",
    "            prob = prob * T[1][0]\n",
    "            weather_list.append(states[0])\n",
    "        else:\n",
    "            prob = prob * T[1][1]\n",
    "            weather_list.append(states[1])        \n",
    "    n_days+=1\n",
    "\n",
    "weather_list"
   ]
  },
  {
   "cell_type": "code",
   "execution_count": 8,
   "metadata": {},
   "outputs": [],
   "source": [
    "# 上記の具体例では5日間の要素について確認したが、このように有限個の連鎖からなるマルコフ連鎖を「有限マルコフ連鎖」という\n",
    "# mステップ先の各状態遷移パターンを行列で表現したものを推移確立行列という。\n",
    "# 各行成分の和は1となり、確率行列(状態確率ベクトル)ともいう\n",
    "# 0ステップ時の確率ベクトルのことは初期分布という"
   ]
  },
  {
   "cell_type": "code",
   "execution_count": 12,
   "metadata": {},
   "outputs": [
    {
     "data": {
      "text/plain": [
       "array([[0.4, 0.3, 0.3],\n",
       "       [0.6, 0.1, 0.3],\n",
       "       [0.5, 0.2, 0.3]])"
      ]
     },
     "execution_count": 12,
     "metadata": {},
     "output_type": "execute_result"
    }
   ],
   "source": [
    "# 具体例 じゃんけんの推移確率行列(m=2)\n",
    "\n",
    "import numpy as np\n",
    "\n",
    "transition_matrix = np.zeros([3,3])\n",
    "\n",
    "# 0: rock, 1:scissors, 2:paper\n",
    "transition_matrix[0,0] = 0.4\n",
    "transition_matrix[0,1] = 0.3\n",
    "transition_matrix[0,2] = 0.3\n",
    "transition_matrix[1,0] = 0.6\n",
    "transition_matrix[1,1] = 0.1\n",
    "transition_matrix[1,2] = 0.3\n",
    "transition_matrix[2,0] = 0.5\n",
    "transition_matrix[2,1] = 0.2\n",
    "transition_matrix[2,2] = 0.3\n",
    "transition_matrix"
   ]
  },
  {
   "cell_type": "code",
   "execution_count": 13,
   "metadata": {},
   "outputs": [],
   "source": [
    "# 定常分布とは？\n",
    "# 「一度その状態に入ったら、ずっとその状態であり続ける」ような分布。\n",
    "# 無限にステップを重ねった結果、状態確率(ベクトル)が収束した状態\n",
    "# 初期状態が定常分布なマルコフ連鎖のことを「定常マルコフ連鎖」という"
   ]
  },
  {
   "cell_type": "code",
   "execution_count": 16,
   "metadata": {},
   "outputs": [
    {
     "data": {
      "image/png": "[encoded data removed]",
      "text/plain": [
       "<Figure size 1728x432 with 4 Axes>"
      ]
     },
     "metadata": {
      "needs_background": "light"
     },
     "output_type": "display_data"
    }
   ],
   "source": [
    "# 具体例 じゃんけん\n",
    "\n",
    "import numpy as np\n",
    "import matplotlib.pyplot as plt\n",
    "\n",
    "transition_matrix = np.zeros([3,3])\n",
    "\n",
    "# 0: rock, 1:scissors, 2:paper\n",
    "transition_matrix[0,0] = 0.4\n",
    "transition_matrix[0,1] = 0.3\n",
    "transition_matrix[0,2] = 0.3\n",
    "transition_matrix[1,0] = 0.6\n",
    "transition_matrix[1,1] = 0.1\n",
    "transition_matrix[1,2] = 0.3\n",
    "transition_matrix[2,0] = 0.5\n",
    "transition_matrix[2,1] = 0.2\n",
    "transition_matrix[2,2] = 0.3\n",
    "\n",
    "# 500回試行する\n",
    "T = 1000\n",
    "np.random.seed(1)\n",
    "\n",
    "# rockを初期状態として計算\n",
    "h_init = 0\n",
    "h_arr = [h_init]\n",
    "h = h_init\n",
    "for i in range(T):\n",
    "    h = np.random.choice(3,1,p=transition_matrix[h,:])[0]\n",
    "    h_arr.append(h)\n",
    "\n",
    "# グラフに描画\n",
    "hist1, bin1 = np.histogram(h_arr[:10],bins=np.arange(4),density=True)\n",
    "hist2, bin2 = np.histogram(h_arr[:100],bins=np.arange(4),density=True)\n",
    "hist3, bin3 = np.histogram(h_arr[:500],bins=np.arange(4),density=True)\n",
    "hist4, bin4 = np.histogram(h_arr[:T],bins=np.arange(4),density=True)\n",
    "\n",
    "plt.rcParams[\"font.size\"] = 20\n",
    "hands_label = ['rock','scissors','paper']\n",
    "\n",
    "plt.figure(figsize=(24,6))\n",
    "plt.subplot(1,4,1)\n",
    "plt.bar(hands_label,hist1)\n",
    "plt.ylim([0, 1])\n",
    "plt.title('10')\n",
    "\n",
    "plt.subplot(1,4,2)\n",
    "plt.bar(hands_label,hist2)\n",
    "plt.ylim([0, 1])\n",
    "plt.title('100')\n",
    "\n",
    "plt.subplot(1,4,3)\n",
    "plt.bar(hands_label,hist3)\n",
    "plt.ylim([0, 1])\n",
    "plt.title('500')\n",
    "\n",
    "plt.subplot(1,4,4)\n",
    "plt.bar(hands_label,hist4)\n",
    "plt.ylim([0, 1])\n",
    "plt.title('1000')\n",
    "\n",
    "plt.tight_layout()\n",
    "plt.show()\n",
    "\n",
    "# 回数を重ねるごとに分布の形の変化が小さくなっている=収束していることがわかる\n",
    "# 十分に時間が経過したとき、とりあえずグーを出し続ければ勝つ確率が高いと言える"
   ]
  },
  {
   "cell_type": "code",
   "execution_count": 17,
   "metadata": {},
   "outputs": [
    {
     "data": {
      "text/plain": [
       "array([0.475, 0.225, 0.3  ])"
      ]
     },
     "execution_count": 17,
     "metadata": {},
     "output_type": "execute_result"
    }
   ],
   "source": [
    "# また、固有値1の固有ベクトルの和が1となるように規格化すると定常分布を求めることができる\n",
    "\n",
    "import numpy.linalg as LA\n",
    "w, v = LA.eig(transition_matrix.T)\n",
    "v[:,0]/sum(v[:,0]) # 概ね上記のグラフの値と一致する"
   ]
  }
 ],
 "metadata": {
  "kernelspec": {
   "display_name": "Python 3.9.7 ('base')",
   "language": "python",
   "name": "python3"
  },
  "language_info": {
   "codemirror_mode": {
    "name": "ipython",
    "version": 3
   },
   "file_extension": ".py",
   "mimetype": "text/x-python",
   "name": "python",
   "nbconvert_exporter": "python",
   "pygments_lexer": "ipython3",
   "version": "3.9.7"
  },
  "orig_nbformat": 4,
  "vscode": {
   "interpreter": {
    "hash": "31764a0ab3329e725d74bc2166eb119537181bd6cc650e6bbc5c27684234dfe8"
   }
  }
 },
 "nbformat": 4,
 "nbformat_minor": 2
}
